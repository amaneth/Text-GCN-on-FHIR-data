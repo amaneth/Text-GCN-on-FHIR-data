{
 "cells": [
  {
   "cell_type": "code",
   "execution_count": 3,
   "metadata": {},
   "outputs": [],
   "source": [
    "import pandas as pd\n",
    "import os\n",
    "import numpy as np\n",
    "import random\n",
    "import json\n",
    "import pickle as pkl\n",
    "import matplotlib.pyplot as plt\n",
    "import scipy.sparse as sp\n",
    "from math import log\n",
    "from sklearn import svm\n",
    "from nltk.corpus import wordnet as wn\n",
    "from sklearn.feature_extraction.text import TfidfVectorizer\n",
    "from scipy.spatial.distance import cosine\n",
    "from collections import defaultdict\n",
    "import paddle\n",
    "import paddle.nn as nn\n",
    "import paddle.nn.functional as F\n",
    "from paddle.optimizer import Adam\n",
    "import pgl"
   ]
  },
  {
   "cell_type": "code",
   "execution_count": 4,
   "metadata": {},
   "outputs": [],
   "source": [
    "#Location of each resource type\n",
    "#['category'][0]['coding'][0]['display'], Careplan\n",
    "\n",
    "#['type'][0]['text'], encounter\n",
    "#['vaccineCode']['coding'][0]['display'], immunization\n",
    "#['medicationCodeableConcept']['coding'][0]['display'], medication\n",
    "#['type']['coding'][0]['display']\n",
    "#['id'], patient\n",
    "#['code']['coding'][0]['display'], Procedure\n",
    "#['code']['coding'][0]['display'], condition\n",
    "#['code']['coding'][0]['display'], observation\n",
    "#['code']['coding'][0]['display'], diagonstic report\n",
    "\n",
    "#['vaccineCode']['coding'][0]['display'], immunization\n",
    "#['medicationCodeableConcept']['coding'][0]['display'], medication\n"
   ]
  },
  {
   "cell_type": "markdown",
   "metadata": {},
   "source": [
    "# Corpus preparation"
   ]
  },
  {
   "cell_type": "markdown",
   "metadata": {},
   "source": [
    "### Change the SYNTHEA STU-3 FHIR data to pandas dataframe "
   ]
  },
  {
   "cell_type": "code",
   "execution_count": 5,
   "metadata": {},
   "outputs": [],
   "source": [
    "directory = os.fsencode('../SYNTHEA/')\n",
    "encounters,conditions,patient_ids,procedures, observations, dignotstics_reports, immunizations, medication_orders, careplans = ([] for _ in range(9))\n",
    "\n",
    "for file in os.listdir(directory):\n",
    "    filename = os.fsdecode(file)\n",
    "    with open('../SYNTHEA/'+filename, \"r\") as read_file:\n",
    "        data = json.load(read_file)\n",
    "        resources = data['entry']\n",
    "        patient_id = resources[0]['resource']['id']\n",
    "        patient_ids.append(patient_id)\n",
    "        patient_encounters,patient_conditions, patient_procedures,patient_observations, patient_diagnostics_reports, patient_immunizations, patient_medication_orders, patient_careplans = (set() for _ in range(8))\n",
    "   \n",
    "        for resource in resources:\n",
    "            resource_type = resource['resource']['resourceType']\n",
    "            if resource_type =='Encounter':\n",
    "                patient_encounters.add(resource['resource']['type'][0]['coding'][0]['code'])\n",
    "            elif resource_type =='Condition':\n",
    "                patient_conditions.add(resource['resource']['code']['coding'][0]['code'])\n",
    "            elif resource_type =='Procedure':\n",
    "                code = resource['resource']['code']['coding'][0]['code']\n",
    "                #ignore documentation of current medications\n",
    "                if code!='428191000124101':\n",
    "                    patient_procedures.add(code)  \n",
    "            elif resource_type =='Observation':\n",
    "                patient_observations.add(resource['resource']['code']['coding'][0]['code'])\n",
    "            elif resource_type =='DiagnosticReport':\n",
    "                patient_diagnostics_reports.add(resource['resource']['code']['coding'][0]['code'])\n",
    "            elif resource_type == 'Immunization':\n",
    "                patient_immunizations.add(resource['resource']['vaccineCode']['coding'][0]['code'])\n",
    "            elif resource_type == 'MedicationOrder':\n",
    "                patient_medication_orders.add(resource['resource']['medicationCodeableConcept']['coding'][0]['code'])\n",
    "            elif resource_type == 'CarePlan':\n",
    "                patient_careplans.add(resource['resource']['category'][0]['coding'][0]['code'])\n",
    "        encounters.append(','.join(patient_encounters))\n",
    "        conditions.append(','.join(patient_conditions))\n",
    "        procedures.append(','.join(patient_procedures))\n",
    "        observations.append(','.join(patient_observations))\n",
    "        dignotstics_reports.append(','.join(patient_diagnostics_reports))\n",
    "        immunizations.append(','.join(patient_immunizations))\n",
    "        medication_orders.append(','.join(patient_medication_orders))\n",
    "        careplans.append(','.join(patient_careplans))\n",
    "        \n",
    "        \n",
    "data = {'patient': patient_ids,'Encounter': encounters, 'Condition': conditions, 'Procedure':procedures, 'Observation':observations, \n",
    "        'Diagnostics Report':dignotstics_reports, 'Immunization':immunizations, 'Medication Orders':medication_orders, 'Careplan': careplans}\n",
    "resource_df = pd.DataFrame(data)"
   ]
  },
  {
   "cell_type": "code",
   "execution_count": 6,
   "metadata": {},
   "outputs": [
    {
     "data": {
      "text/html": [
       "<div>\n",
       "<style scoped>\n",
       "    .dataframe tbody tr th:only-of-type {\n",
       "        vertical-align: middle;\n",
       "    }\n",
       "\n",
       "    .dataframe tbody tr th {\n",
       "        vertical-align: top;\n",
       "    }\n",
       "\n",
       "    .dataframe thead th {\n",
       "        text-align: right;\n",
       "    }\n",
       "</style>\n",
       "<table border=\"1\" class=\"dataframe\">\n",
       "  <thead>\n",
       "    <tr style=\"text-align: right;\">\n",
       "      <th></th>\n",
       "      <th>patient</th>\n",
       "      <th>Encounter</th>\n",
       "      <th>Condition</th>\n",
       "      <th>Procedure</th>\n",
       "      <th>Observation</th>\n",
       "      <th>Diagnostics Report</th>\n",
       "      <th>Immunization</th>\n",
       "      <th>Medication Orders</th>\n",
       "      <th>Careplan</th>\n",
       "    </tr>\n",
       "  </thead>\n",
       "  <tbody>\n",
       "    <tr>\n",
       "      <th>0</th>\n",
       "      <td>9f59ec59-5116-401b-bcbb-f019a6ca7a4f</td>\n",
       "      <td>170258001,185345009,185349003,50849002,183495009</td>\n",
       "      <td>10509002,444470001,44465007,359817006,19566200...</td>\n",
       "      <td>305428000,699253003,269911007</td>\n",
       "      <td>8302-2,29463-7,8331-1,39156-5,55284-4</td>\n",
       "      <td></td>\n",
       "      <td>114,115,62,140</td>\n",
       "      <td>198405,310965,857005,608680</td>\n",
       "      <td>53950000,91251008,385691007</td>\n",
       "    </tr>\n",
       "    <tr>\n",
       "      <th>1</th>\n",
       "      <td>765382db-8551-4733-8658-d9fc7b0f7ee8</td>\n",
       "      <td>185345009,185349003</td>\n",
       "      <td>44054006,10509002,38341003,195662009,368581000...</td>\n",
       "      <td>23426006</td>\n",
       "      <td>4548-4,55284-4,6299-2,2069-3,2339-0,18262-6,83...</td>\n",
       "      <td>57698-3,51990-0</td>\n",
       "      <td>113,140</td>\n",
       "      <td>860975,608680</td>\n",
       "      <td>53950000,698360004</td>\n",
       "    </tr>\n",
       "    <tr>\n",
       "      <th>2</th>\n",
       "      <td>63927398-3432-4526-9960-0da4359e3be2</td>\n",
       "      <td>170258001,185345009,185349003</td>\n",
       "      <td>43878008,444814009,275272006</td>\n",
       "      <td>117015009</td>\n",
       "      <td>8302-2,29463-7,8331-1,39156-5,55284-4</td>\n",
       "      <td></td>\n",
       "      <td>114,113,62,140</td>\n",
       "      <td>824184,834101</td>\n",
       "      <td></td>\n",
       "    </tr>\n",
       "    <tr>\n",
       "      <th>3</th>\n",
       "      <td>7af203fe-86af-42a9-b6ee-f2c2828ead13</td>\n",
       "      <td>185345009,185349003</td>\n",
       "      <td>38341003,444814009,40055000</td>\n",
       "      <td></td>\n",
       "      <td>2093-3,33914-3,2571-8,2085-9,8302-2,29463-7,18...</td>\n",
       "      <td>57698-3</td>\n",
       "      <td>113,140</td>\n",
       "      <td>824184</td>\n",
       "      <td></td>\n",
       "    </tr>\n",
       "    <tr>\n",
       "      <th>4</th>\n",
       "      <td>9a0ea485-3bba-457f-bcaa-8cbb8fba34ef</td>\n",
       "      <td>185345009,185349003,50849002,183452005</td>\n",
       "      <td>44054006,428251008,422034002,38341003,74400008...</td>\n",
       "      <td>80146002</td>\n",
       "      <td>4548-4,55284-4,6299-2,2069-3,2339-0,18262-6,83...</td>\n",
       "      <td>57698-3,51990-0</td>\n",
       "      <td>121,113,140</td>\n",
       "      <td>860975</td>\n",
       "      <td>47387005,698360004</td>\n",
       "    </tr>\n",
       "  </tbody>\n",
       "</table>\n",
       "</div>"
      ],
      "text/plain": [
       "                                patient  \\\n",
       "0  9f59ec59-5116-401b-bcbb-f019a6ca7a4f   \n",
       "1  765382db-8551-4733-8658-d9fc7b0f7ee8   \n",
       "2  63927398-3432-4526-9960-0da4359e3be2   \n",
       "3  7af203fe-86af-42a9-b6ee-f2c2828ead13   \n",
       "4  9a0ea485-3bba-457f-bcaa-8cbb8fba34ef   \n",
       "\n",
       "                                          Encounter  \\\n",
       "0  170258001,185345009,185349003,50849002,183495009   \n",
       "1                               185345009,185349003   \n",
       "2                     170258001,185345009,185349003   \n",
       "3                               185345009,185349003   \n",
       "4            185345009,185349003,50849002,183452005   \n",
       "\n",
       "                                           Condition  \\\n",
       "0  10509002,444470001,44465007,359817006,19566200...   \n",
       "1  44054006,10509002,38341003,195662009,368581000...   \n",
       "2                       43878008,444814009,275272006   \n",
       "3                        38341003,444814009,40055000   \n",
       "4  44054006,428251008,422034002,38341003,74400008...   \n",
       "\n",
       "                       Procedure  \\\n",
       "0  305428000,699253003,269911007   \n",
       "1                       23426006   \n",
       "2                      117015009   \n",
       "3                                  \n",
       "4                       80146002   \n",
       "\n",
       "                                         Observation Diagnostics Report  \\\n",
       "0              8302-2,29463-7,8331-1,39156-5,55284-4                      \n",
       "1  4548-4,55284-4,6299-2,2069-3,2339-0,18262-6,83...    57698-3,51990-0   \n",
       "2              8302-2,29463-7,8331-1,39156-5,55284-4                      \n",
       "3  2093-3,33914-3,2571-8,2085-9,8302-2,29463-7,18...            57698-3   \n",
       "4  4548-4,55284-4,6299-2,2069-3,2339-0,18262-6,83...    57698-3,51990-0   \n",
       "\n",
       "     Immunization            Medication Orders                     Careplan  \n",
       "0  114,115,62,140  198405,310965,857005,608680  53950000,91251008,385691007  \n",
       "1         113,140                860975,608680           53950000,698360004  \n",
       "2  114,113,62,140                824184,834101                               \n",
       "3         113,140                       824184                               \n",
       "4     121,113,140                       860975           47387005,698360004  "
      ]
     },
     "execution_count": 6,
     "metadata": {},
     "output_type": "execute_result"
    }
   ],
   "source": [
    "resource_df.head()"
   ]
  },
  {
   "cell_type": "code",
   "execution_count": 7,
   "metadata": {},
   "outputs": [
    {
     "data": {
      "text/plain": [
       "Index(['patient', 'Encounter', 'Condition', 'Procedure', 'Observation',\n",
       "       'Diagnostics Report', 'Immunization', 'Medication Orders', 'Careplan'],\n",
       "      dtype='object')"
      ]
     },
     "execution_count": 7,
     "metadata": {},
     "output_type": "execute_result"
    }
   ],
   "source": [
    "resource_df.columns"
   ]
  },
  {
   "cell_type": "code",
   "execution_count": 8,
   "metadata": {},
   "outputs": [],
   "source": [
    "res = resource_df.replace('', np.nan)"
   ]
  },
  {
   "cell_type": "code",
   "execution_count": 9,
   "metadata": {},
   "outputs": [
    {
     "data": {
      "text/plain": [
       "patient                 0\n",
       "Encounter               1\n",
       "Condition              47\n",
       "Procedure             393\n",
       "Observation             3\n",
       "Diagnostics Report    312\n",
       "Immunization          209\n",
       "Medication Orders      91\n",
       "Careplan              156\n",
       "dtype: int64"
      ]
     },
     "execution_count": 9,
     "metadata": {},
     "output_type": "execute_result"
    }
   ],
   "source": [
    "res.isnull().sum()"
   ]
  },
  {
   "cell_type": "code",
   "execution_count": 10,
   "metadata": {},
   "outputs": [],
   "source": [
    "#drop patients with null values for datasets understudy\n",
    "res_condition = res.dropna(axis=0, how='any', subset=['Condition','Procedure', 'Medication Orders', 'Observation'])"
   ]
  },
  {
   "cell_type": "code",
   "execution_count": 11,
   "metadata": {},
   "outputs": [
    {
     "data": {
      "text/plain": [
       "(593, 9)"
      ]
     },
     "execution_count": 11,
     "metadata": {},
     "output_type": "execute_result"
    }
   ],
   "source": [
    "res_condition.shape"
   ]
  },
  {
   "cell_type": "code",
   "execution_count": 12,
   "metadata": {},
   "outputs": [
    {
     "data": {
      "text/plain": [
       "patient                 0\n",
       "Encounter               0\n",
       "Condition               0\n",
       "Procedure               0\n",
       "Observation             0\n",
       "Diagnostics Report    211\n",
       "Immunization            2\n",
       "Medication Orders       0\n",
       "Careplan               24\n",
       "dtype: int64"
      ]
     },
     "execution_count": 12,
     "metadata": {},
     "output_type": "execute_result"
    }
   ],
   "source": [
    "res_condition.isnull().sum()"
   ]
  },
  {
   "cell_type": "code",
   "execution_count": 13,
   "metadata": {},
   "outputs": [],
   "source": [
    "diseases = []\n",
    "disease_bundled = []\n",
    "for condition in res_condition['Condition'].values:\n",
    "    diseases.extend(condition.split(','))\n",
    "    disease_bundled.append(condition.split(','))"
   ]
  },
  {
   "cell_type": "code",
   "execution_count": 14,
   "metadata": {},
   "outputs": [
    {
     "data": {
      "text/plain": [
       "2904"
      ]
     },
     "execution_count": 14,
     "metadata": {},
     "output_type": "execute_result"
    }
   ],
   "source": [
    "len(diseases)"
   ]
  },
  {
   "cell_type": "code",
   "execution_count": 15,
   "metadata": {},
   "outputs": [],
   "source": [
    "from collections import Counter\n",
    "\n",
    "disease_count = Counter(diseases)"
   ]
  },
  {
   "cell_type": "code",
   "execution_count": 16,
   "metadata": {},
   "outputs": [
    {
     "data": {
      "text/plain": [
       "Counter({'10509002': 263,\n",
       "         '444470001': 5,\n",
       "         '44465007': 54,\n",
       "         '359817006': 7,\n",
       "         '195662009': 250,\n",
       "         '444814009': 364,\n",
       "         '44054006': 24,\n",
       "         '38341003': 164,\n",
       "         '368581000119106': 11,\n",
       "         '15777000': 176,\n",
       "         '43878008': 106,\n",
       "         '275272006': 3,\n",
       "         '428251008': 31,\n",
       "         '422034002': 6,\n",
       "         '74400008': 31,\n",
       "         '62106007': 34,\n",
       "         '39848009': 34,\n",
       "         '410429000': 18,\n",
       "         '398254007': 9,\n",
       "         '72892002': 88,\n",
       "         '429007001': 18,\n",
       "         '33737001': 12,\n",
       "         '239873007': 29,\n",
       "         '230690007': 28,\n",
       "         '195967001': 18,\n",
       "         '367498001': 10,\n",
       "         '233678006': 21,\n",
       "         '65363002': 72,\n",
       "         '233604007': 3,\n",
       "         '26929004': 13,\n",
       "         '423121009': 7,\n",
       "         '254637007': 10,\n",
       "         '162573006': 11,\n",
       "         '82423001': 4,\n",
       "         '15724005': 1,\n",
       "         '40055000': 104,\n",
       "         '284549007': 18,\n",
       "         '403190006': 18,\n",
       "         '35999006': 7,\n",
       "         '19169002': 16,\n",
       "         '403191005': 13,\n",
       "         '403192003': 4,\n",
       "         '263102004': 24,\n",
       "         '24079001': 26,\n",
       "         '75498004': 28,\n",
       "         '36971009': 38,\n",
       "         '283371005': 27,\n",
       "         '284551006': 19,\n",
       "         '185086009': 15,\n",
       "         '109838007': 5,\n",
       "         '713197008': 12,\n",
       "         '68496003': 38,\n",
       "         '38822007': 12,\n",
       "         '267253006': 13,\n",
       "         '85116003': 8,\n",
       "         '301011002': 22,\n",
       "         '58150001': 23,\n",
       "         '53741008': 29,\n",
       "         '65966004': 26,\n",
       "         '283385000': 26,\n",
       "         '232353008': 23,\n",
       "         '16114001': 14,\n",
       "         '370247008': 26,\n",
       "         '307731004': 7,\n",
       "         '30832001': 7,\n",
       "         '399211009': 10,\n",
       "         '22298006': 10,\n",
       "         '192127007': 19,\n",
       "         '201834006': 12,\n",
       "         '287182007': 1,\n",
       "         '86849004': 1,\n",
       "         '127013003': 7,\n",
       "         '64859006': 40,\n",
       "         '262574004': 1,\n",
       "         '70704007': 36,\n",
       "         '87433001': 15,\n",
       "         '241929008': 14,\n",
       "         '197927001': 5,\n",
       "         '157141000119108': 1,\n",
       "         '90781000119102': 3,\n",
       "         '40275004': 7,\n",
       "         '62564004': 8,\n",
       "         '443165006': 13,\n",
       "         '425048006': 3,\n",
       "         '446096008': 22,\n",
       "         '47693006': 8,\n",
       "         '239872002': 3,\n",
       "         '703151001': 14,\n",
       "         '128613002': 14,\n",
       "         '1551000119108': 5,\n",
       "         '124171000119105': 3,\n",
       "         '97331000119101': 1,\n",
       "         '1501000119109': 2,\n",
       "         '84757009': 8,\n",
       "         '198992004': 6,\n",
       "         '230265002': 1,\n",
       "         '239720000': 2,\n",
       "         '69896004': 1,\n",
       "         '444448004': 4,\n",
       "         '90560007': 4,\n",
       "         '55680006': 5,\n",
       "         '93761005': 2,\n",
       "         '110030002': 2,\n",
       "         '363406005': 2,\n",
       "         '254632001': 1,\n",
       "         '67841000119103': 1,\n",
       "         '37849005': 2,\n",
       "         '609496007': 1,\n",
       "         '196416002': 1})"
      ]
     },
     "execution_count": 16,
     "metadata": {},
     "output_type": "execute_result"
    }
   ],
   "source": [
    "disease_count"
   ]
  },
  {
   "cell_type": "code",
   "execution_count": 17,
   "metadata": {},
   "outputs": [
    {
     "name": "stderr",
     "output_type": "stream",
     "text": [
      "INFO 2022-08-21 08:36:00,763 category.py:227] Using categorical units to plot a list of strings that are all parsable as floats or dates. If these strings should be plotted as numbers, cast to the appropriate data type before plotting.\n",
      "INFO 2022-08-21 08:36:00,765 category.py:227] Using categorical units to plot a list of strings that are all parsable as floats or dates. If these strings should be plotted as numbers, cast to the appropriate data type before plotting.\n"
     ]
    },
    {
     "data": {
      "text/plain": [
       "<BarContainer object of 109 artists>"
      ]
     },
     "execution_count": 17,
     "metadata": {},
     "output_type": "execute_result"
    },
    {
     "data": {
      "image/png": "[encoded data removed]",
      "text/plain": [
       "<Figure size 2160x360 with 1 Axes>"
      ]
     },
     "metadata": {
      "needs_background": "light"
     },
     "output_type": "display_data"
    }
   ],
   "source": [
    "disease_count_sorted = dict(sorted(disease_count.items(), key= lambda item: item[1]))\n",
    "cases = list(disease_count_sorted.keys())\n",
    "count = list(disease_count_sorted.values())\n",
    "fig = plt.figure(figsize=(30,5))\n",
    "plt.bar(cases, count)"
   ]
  },
  {
   "cell_type": "code",
   "execution_count": 18,
   "metadata": {},
   "outputs": [
    {
     "data": {
      "text/plain": [
       "{'15724005': 1,\n",
       " '287182007': 1,\n",
       " '86849004': 1,\n",
       " '262574004': 1,\n",
       " '157141000119108': 1,\n",
       " '97331000119101': 1,\n",
       " '230265002': 1,\n",
       " '69896004': 1,\n",
       " '254632001': 1,\n",
       " '67841000119103': 1,\n",
       " '609496007': 1,\n",
       " '196416002': 1,\n",
       " '1501000119109': 2,\n",
       " '239720000': 2,\n",
       " '93761005': 2,\n",
       " '110030002': 2,\n",
       " '363406005': 2,\n",
       " '37849005': 2,\n",
       " '275272006': 3,\n",
       " '233604007': 3,\n",
       " '90781000119102': 3,\n",
       " '425048006': 3,\n",
       " '239872002': 3,\n",
       " '124171000119105': 3,\n",
       " '82423001': 4,\n",
       " '403192003': 4,\n",
       " '444448004': 4,\n",
       " '90560007': 4,\n",
       " '444470001': 5,\n",
       " '109838007': 5,\n",
       " '197927001': 5,\n",
       " '1551000119108': 5,\n",
       " '55680006': 5,\n",
       " '422034002': 6,\n",
       " '198992004': 6,\n",
       " '359817006': 7,\n",
       " '423121009': 7,\n",
       " '35999006': 7,\n",
       " '307731004': 7,\n",
       " '30832001': 7,\n",
       " '127013003': 7,\n",
       " '40275004': 7,\n",
       " '85116003': 8,\n",
       " '62564004': 8,\n",
       " '47693006': 8,\n",
       " '84757009': 8,\n",
       " '398254007': 9,\n",
       " '367498001': 10,\n",
       " '254637007': 10,\n",
       " '399211009': 10,\n",
       " '22298006': 10,\n",
       " '368581000119106': 11,\n",
       " '162573006': 11,\n",
       " '33737001': 12,\n",
       " '713197008': 12,\n",
       " '38822007': 12,\n",
       " '201834006': 12,\n",
       " '26929004': 13,\n",
       " '403191005': 13,\n",
       " '267253006': 13,\n",
       " '443165006': 13,\n",
       " '16114001': 14,\n",
       " '241929008': 14,\n",
       " '703151001': 14,\n",
       " '128613002': 14,\n",
       " '185086009': 15,\n",
       " '87433001': 15,\n",
       " '19169002': 16,\n",
       " '410429000': 18,\n",
       " '429007001': 18,\n",
       " '195967001': 18,\n",
       " '284549007': 18,\n",
       " '403190006': 18,\n",
       " '284551006': 19,\n",
       " '192127007': 19,\n",
       " '233678006': 21,\n",
       " '301011002': 22,\n",
       " '446096008': 22,\n",
       " '58150001': 23,\n",
       " '232353008': 23,\n",
       " '44054006': 24,\n",
       " '263102004': 24,\n",
       " '24079001': 26,\n",
       " '65966004': 26,\n",
       " '283385000': 26,\n",
       " '370247008': 26,\n",
       " '283371005': 27,\n",
       " '230690007': 28,\n",
       " '75498004': 28,\n",
       " '239873007': 29,\n",
       " '53741008': 29,\n",
       " '428251008': 31,\n",
       " '74400008': 31,\n",
       " '62106007': 34,\n",
       " '39848009': 34,\n",
       " '70704007': 36,\n",
       " '36971009': 38,\n",
       " '68496003': 38,\n",
       " '64859006': 40,\n",
       " '44465007': 54,\n",
       " '65363002': 72,\n",
       " '72892002': 88,\n",
       " '40055000': 104,\n",
       " '43878008': 106,\n",
       " '38341003': 164,\n",
       " '15777000': 176,\n",
       " '195662009': 250,\n",
       " '10509002': 263,\n",
       " '444814009': 364}"
      ]
     },
     "execution_count": 18,
     "metadata": {},
     "output_type": "execute_result"
    }
   ],
   "source": [
    "disease_count_sorted"
   ]
  },
  {
   "cell_type": "markdown",
   "metadata": {},
   "source": [
    "###  Choose conditions for study"
   ]
  },
  {
   "cell_type": "code",
   "execution_count": 19,
   "metadata": {},
   "outputs": [
    {
     "name": "stdout",
     "output_type": "stream",
     "text": [
      "['38341003', '15777000', '195662009', '10509002', '444814009']\n"
     ]
    }
   ],
   "source": [
    "candidates = list(disease_count_sorted.keys())[-5:]\n",
    "print(candidates)"
   ]
  },
  {
   "cell_type": "code",
   "execution_count": 20,
   "metadata": {},
   "outputs": [],
   "source": [
    "from collections import defaultdict\n",
    "case_intersection = defaultdict(lambda: [])\n",
    "for case1 in candidates:\n",
    "    for case2 in candidates:\n",
    "        count = 0\n",
    "        for case in disease_bundled:\n",
    "            if case1 in case and case2 in case:\n",
    "                count+=1\n",
    "        case_intersection[case1].append(count)\n",
    "                \n",
    "                \n",
    "    "
   ]
  },
  {
   "cell_type": "code",
   "execution_count": 21,
   "metadata": {},
   "outputs": [],
   "source": [
    "#Check comorbidity between candidates for study\n",
    "case_intersection_df = pd.DataFrame(case_intersection, index = list(case_intersection.keys()))"
   ]
  },
  {
   "cell_type": "code",
   "execution_count": 22,
   "metadata": {},
   "outputs": [
    {
     "data": {
      "text/html": [
       "<div>\n",
       "<style scoped>\n",
       "    .dataframe tbody tr th:only-of-type {\n",
       "        vertical-align: middle;\n",
       "    }\n",
       "\n",
       "    .dataframe tbody tr th {\n",
       "        vertical-align: top;\n",
       "    }\n",
       "\n",
       "    .dataframe thead th {\n",
       "        text-align: right;\n",
       "    }\n",
       "</style>\n",
       "<table border=\"1\" class=\"dataframe\">\n",
       "  <thead>\n",
       "    <tr style=\"text-align: right;\">\n",
       "      <th></th>\n",
       "      <th>38341003</th>\n",
       "      <th>15777000</th>\n",
       "      <th>195662009</th>\n",
       "      <th>10509002</th>\n",
       "      <th>444814009</th>\n",
       "    </tr>\n",
       "  </thead>\n",
       "  <tbody>\n",
       "    <tr>\n",
       "      <th>38341003</th>\n",
       "      <td>164</td>\n",
       "      <td>55</td>\n",
       "      <td>69</td>\n",
       "      <td>68</td>\n",
       "      <td>108</td>\n",
       "    </tr>\n",
       "    <tr>\n",
       "      <th>15777000</th>\n",
       "      <td>55</td>\n",
       "      <td>176</td>\n",
       "      <td>72</td>\n",
       "      <td>77</td>\n",
       "      <td>106</td>\n",
       "    </tr>\n",
       "    <tr>\n",
       "      <th>195662009</th>\n",
       "      <td>69</td>\n",
       "      <td>72</td>\n",
       "      <td>250</td>\n",
       "      <td>119</td>\n",
       "      <td>158</td>\n",
       "    </tr>\n",
       "    <tr>\n",
       "      <th>10509002</th>\n",
       "      <td>68</td>\n",
       "      <td>77</td>\n",
       "      <td>119</td>\n",
       "      <td>263</td>\n",
       "      <td>166</td>\n",
       "    </tr>\n",
       "    <tr>\n",
       "      <th>444814009</th>\n",
       "      <td>108</td>\n",
       "      <td>106</td>\n",
       "      <td>158</td>\n",
       "      <td>166</td>\n",
       "      <td>364</td>\n",
       "    </tr>\n",
       "  </tbody>\n",
       "</table>\n",
       "</div>"
      ],
      "text/plain": [
       "           38341003  15777000  195662009  10509002  444814009\n",
       "38341003        164        55         69        68        108\n",
       "15777000         55       176         72        77        106\n",
       "195662009        69        72        250       119        158\n",
       "10509002         68        77        119       263        166\n",
       "444814009       108       106        158       166        364"
      ]
     },
     "execution_count": 22,
     "metadata": {},
     "output_type": "execute_result"
    }
   ],
   "source": [
    "case_intersection_df"
   ]
  },
  {
   "cell_type": "code",
   "execution_count": 23,
   "metadata": {},
   "outputs": [
    {
     "name": "stderr",
     "output_type": "stream",
     "text": [
      "/var/folders/9n/gzwg3s7j7pn060z120b3pb_h0000gn/T/ipykernel_919/2729502969.py:1: FutureWarning: Using a non-tuple sequence for multidimensional indexing is deprecated; use `arr[tuple(seq)]` instead of `arr[seq]`. In the future this will be interpreted as an array index, `arr[np.array(seq)]`, which will result either in an error or a different result.\n",
      "  case_intersection_df.values[[np.arange(case_intersection_df.shape[0])]*2] = 0\n"
     ]
    }
   ],
   "source": [
    "case_intersection_df.values[[np.arange(case_intersection_df.shape[0])]*2] = 0"
   ]
  },
  {
   "cell_type": "code",
   "execution_count": 24,
   "metadata": {},
   "outputs": [
    {
     "data": {
      "text/html": [
       "<div>\n",
       "<style scoped>\n",
       "    .dataframe tbody tr th:only-of-type {\n",
       "        vertical-align: middle;\n",
       "    }\n",
       "\n",
       "    .dataframe tbody tr th {\n",
       "        vertical-align: top;\n",
       "    }\n",
       "\n",
       "    .dataframe thead th {\n",
       "        text-align: right;\n",
       "    }\n",
       "</style>\n",
       "<table border=\"1\" class=\"dataframe\">\n",
       "  <thead>\n",
       "    <tr style=\"text-align: right;\">\n",
       "      <th></th>\n",
       "      <th>38341003</th>\n",
       "      <th>15777000</th>\n",
       "      <th>195662009</th>\n",
       "      <th>10509002</th>\n",
       "      <th>444814009</th>\n",
       "    </tr>\n",
       "  </thead>\n",
       "  <tbody>\n",
       "    <tr>\n",
       "      <th>38341003</th>\n",
       "      <td>0</td>\n",
       "      <td>55</td>\n",
       "      <td>69</td>\n",
       "      <td>68</td>\n",
       "      <td>108</td>\n",
       "    </tr>\n",
       "    <tr>\n",
       "      <th>15777000</th>\n",
       "      <td>55</td>\n",
       "      <td>0</td>\n",
       "      <td>72</td>\n",
       "      <td>77</td>\n",
       "      <td>106</td>\n",
       "    </tr>\n",
       "    <tr>\n",
       "      <th>195662009</th>\n",
       "      <td>69</td>\n",
       "      <td>72</td>\n",
       "      <td>0</td>\n",
       "      <td>119</td>\n",
       "      <td>158</td>\n",
       "    </tr>\n",
       "    <tr>\n",
       "      <th>10509002</th>\n",
       "      <td>68</td>\n",
       "      <td>77</td>\n",
       "      <td>119</td>\n",
       "      <td>0</td>\n",
       "      <td>166</td>\n",
       "    </tr>\n",
       "    <tr>\n",
       "      <th>444814009</th>\n",
       "      <td>108</td>\n",
       "      <td>106</td>\n",
       "      <td>158</td>\n",
       "      <td>166</td>\n",
       "      <td>0</td>\n",
       "    </tr>\n",
       "  </tbody>\n",
       "</table>\n",
       "</div>"
      ],
      "text/plain": [
       "           38341003  15777000  195662009  10509002  444814009\n",
       "38341003          0        55         69        68        108\n",
       "15777000         55         0         72        77        106\n",
       "195662009        69        72          0       119        158\n",
       "10509002         68        77        119         0        166\n",
       "444814009       108       106        158       166          0"
      ]
     },
     "execution_count": 24,
     "metadata": {},
     "output_type": "execute_result"
    }
   ],
   "source": [
    "case_intersection_df"
   ]
  },
  {
   "cell_type": "code",
   "execution_count": 25,
   "metadata": {},
   "outputs": [
    {
     "data": {
      "text/plain": [
       "38341003     300\n",
       "15777000     310\n",
       "195662009    418\n",
       "10509002     430\n",
       "444814009    538\n",
       "dtype: int64"
      ]
     },
     "execution_count": 25,
     "metadata": {},
     "output_type": "execute_result"
    }
   ],
   "source": [
    "case_intersection_df.sum(axis=1)"
   ]
  },
  {
   "cell_type": "code",
   "execution_count": 26,
   "metadata": {},
   "outputs": [
    {
     "data": {
      "text/plain": [
       "['38341003', '15777000', '195662009', '10509002', '444814009']"
      ]
     },
     "execution_count": 26,
     "metadata": {},
     "output_type": "execute_result"
    }
   ],
   "source": [
    "candidates"
   ]
  },
  {
   "cell_type": "code",
   "execution_count": 27,
   "metadata": {},
   "outputs": [],
   "source": [
    "common = []\n",
    "for case in disease_bundled:\n",
    "    common.append(np.in1d(np.array(candidates), np.array(case)).sum())"
   ]
  },
  {
   "cell_type": "code",
   "execution_count": 28,
   "metadata": {},
   "outputs": [],
   "source": [
    "unique_indicies = []\n",
    "for i in range(len(common)):\n",
    "    if common[i]==1:\n",
    "        unique_indicies.append(i)\n",
    "        "
   ]
  },
  {
   "cell_type": "code",
   "execution_count": 29,
   "metadata": {},
   "outputs": [
    {
     "data": {
      "text/plain": [
       "143"
      ]
     },
     "execution_count": 29,
     "metadata": {},
     "output_type": "execute_result"
    }
   ],
   "source": [
    "len(unique_indicies)"
   ]
  },
  {
   "cell_type": "code",
   "execution_count": 30,
   "metadata": {},
   "outputs": [],
   "source": [
    "selected_df = res_condition.iloc[unique_indicies]"
   ]
  },
  {
   "cell_type": "code",
   "execution_count": 31,
   "metadata": {},
   "outputs": [
    {
     "data": {
      "text/plain": [
       "(143, 9)"
      ]
     },
     "execution_count": 31,
     "metadata": {},
     "output_type": "execute_result"
    }
   ],
   "source": [
    "selected_df.shape"
   ]
  },
  {
   "cell_type": "code",
   "execution_count": 32,
   "metadata": {},
   "outputs": [
    {
     "data": {
      "text/html": [
       "<div>\n",
       "<style scoped>\n",
       "    .dataframe tbody tr th:only-of-type {\n",
       "        vertical-align: middle;\n",
       "    }\n",
       "\n",
       "    .dataframe tbody tr th {\n",
       "        vertical-align: top;\n",
       "    }\n",
       "\n",
       "    .dataframe thead th {\n",
       "        text-align: right;\n",
       "    }\n",
       "</style>\n",
       "<table border=\"1\" class=\"dataframe\">\n",
       "  <thead>\n",
       "    <tr style=\"text-align: right;\">\n",
       "      <th></th>\n",
       "      <th>patient</th>\n",
       "      <th>Encounter</th>\n",
       "      <th>Condition</th>\n",
       "      <th>Procedure</th>\n",
       "      <th>Observation</th>\n",
       "      <th>Diagnostics Report</th>\n",
       "      <th>Immunization</th>\n",
       "      <th>Medication Orders</th>\n",
       "      <th>Careplan</th>\n",
       "    </tr>\n",
       "  </thead>\n",
       "  <tbody>\n",
       "    <tr>\n",
       "      <th>2</th>\n",
       "      <td>63927398-3432-4526-9960-0da4359e3be2</td>\n",
       "      <td>170258001,185345009,185349003</td>\n",
       "      <td>43878008,444814009,275272006</td>\n",
       "      <td>117015009</td>\n",
       "      <td>8302-2,29463-7,8331-1,39156-5,55284-4</td>\n",
       "      <td>NaN</td>\n",
       "      <td>114,113,62,140</td>\n",
       "      <td>824184,834101</td>\n",
       "      <td>NaN</td>\n",
       "    </tr>\n",
       "    <tr>\n",
       "      <th>5</th>\n",
       "      <td>77e05358-bfd9-4399-a474-1fab36f31975</td>\n",
       "      <td>170258001,183460006,424441002,698314001,185349...</td>\n",
       "      <td>39848009,410429000,38341003,398254007,72892002...</td>\n",
       "      <td>31208007,66348005,252160004,274474001</td>\n",
       "      <td>33914-3,8302-2,29463-7,39156-5,55284-4</td>\n",
       "      <td>NaN</td>\n",
       "      <td>114,115,62,140</td>\n",
       "      <td>313782,757594,198405,310965</td>\n",
       "      <td>134435003,91251008,385691007,872781000000100,6...</td>\n",
       "    </tr>\n",
       "    <tr>\n",
       "      <th>9</th>\n",
       "      <td>fe1bba02-f021-4e12-81da-2b8f42988574</td>\n",
       "      <td>698314001,185345009,185349003,50849002,183495009</td>\n",
       "      <td>10509002,444470001</td>\n",
       "      <td>269911007,699253003</td>\n",
       "      <td>2093-3,2571-8,2085-9,8302-2,29463-7,18262-6,39...</td>\n",
       "      <td>57698-3</td>\n",
       "      <td>113,140</td>\n",
       "      <td>1020137,831533,849574,861467,834060,749762</td>\n",
       "      <td>53950000,91251008</td>\n",
       "    </tr>\n",
       "    <tr>\n",
       "      <th>21</th>\n",
       "      <td>e223f58a-7029-4287-8e91-83b67336c3da</td>\n",
       "      <td>170258001,185345009,185347001</td>\n",
       "      <td>233678006,444814009</td>\n",
       "      <td>171231001,395142003</td>\n",
       "      <td>6095-4,7258-7,6158-0,6246-3,6106-9,6276-0,6833...</td>\n",
       "      <td>NaN</td>\n",
       "      <td>20,49,03,133,21,140,83,10,119,08</td>\n",
       "      <td>727316,665078,895994,745679</td>\n",
       "      <td>699728000,326051000000105</td>\n",
       "    </tr>\n",
       "    <tr>\n",
       "      <th>24</th>\n",
       "      <td>6979463f-b1ab-48c7-b560-b0b1782aa82e</td>\n",
       "      <td>308646001,185349003,50849002,185347001</td>\n",
       "      <td>423121009,254637007,162573006,15777000</td>\n",
       "      <td>703423002,73761001,399208008,173160006,4188910...</td>\n",
       "      <td>6299-2,2947-0,2093-3,69453-9,4548-4,49765-1,25...</td>\n",
       "      <td>57698-3,69409-1,51990-0</td>\n",
       "      <td>113,140</td>\n",
       "      <td>1736854,583214</td>\n",
       "      <td>182964004,698360004</td>\n",
       "    </tr>\n",
       "  </tbody>\n",
       "</table>\n",
       "</div>"
      ],
      "text/plain": [
       "                                 patient  \\\n",
       "2   63927398-3432-4526-9960-0da4359e3be2   \n",
       "5   77e05358-bfd9-4399-a474-1fab36f31975   \n",
       "9   fe1bba02-f021-4e12-81da-2b8f42988574   \n",
       "21  e223f58a-7029-4287-8e91-83b67336c3da   \n",
       "24  6979463f-b1ab-48c7-b560-b0b1782aa82e   \n",
       "\n",
       "                                            Encounter  \\\n",
       "2                       170258001,185345009,185349003   \n",
       "5   170258001,183460006,424441002,698314001,185349...   \n",
       "9    698314001,185345009,185349003,50849002,183495009   \n",
       "21                      170258001,185345009,185347001   \n",
       "24             308646001,185349003,50849002,185347001   \n",
       "\n",
       "                                            Condition  \\\n",
       "2                        43878008,444814009,275272006   \n",
       "5   39848009,410429000,38341003,398254007,72892002...   \n",
       "9                                  10509002,444470001   \n",
       "21                                233678006,444814009   \n",
       "24             423121009,254637007,162573006,15777000   \n",
       "\n",
       "                                            Procedure  \\\n",
       "2                                           117015009   \n",
       "5               31208007,66348005,252160004,274474001   \n",
       "9                                 269911007,699253003   \n",
       "21                                171231001,395142003   \n",
       "24  703423002,73761001,399208008,173160006,4188910...   \n",
       "\n",
       "                                          Observation  \\\n",
       "2               8302-2,29463-7,8331-1,39156-5,55284-4   \n",
       "5              33914-3,8302-2,29463-7,39156-5,55284-4   \n",
       "9   2093-3,2571-8,2085-9,8302-2,29463-7,18262-6,39...   \n",
       "21  6095-4,7258-7,6158-0,6246-3,6106-9,6276-0,6833...   \n",
       "24  6299-2,2947-0,2093-3,69453-9,4548-4,49765-1,25...   \n",
       "\n",
       "         Diagnostics Report                      Immunization  \\\n",
       "2                       NaN                    114,113,62,140   \n",
       "5                       NaN                    114,115,62,140   \n",
       "9                   57698-3                           113,140   \n",
       "21                      NaN  20,49,03,133,21,140,83,10,119,08   \n",
       "24  57698-3,69409-1,51990-0                           113,140   \n",
       "\n",
       "                             Medication Orders  \\\n",
       "2                                824184,834101   \n",
       "5                  313782,757594,198405,310965   \n",
       "9   1020137,831533,849574,861467,834060,749762   \n",
       "21                 727316,665078,895994,745679   \n",
       "24                              1736854,583214   \n",
       "\n",
       "                                             Careplan  \n",
       "2                                                 NaN  \n",
       "5   134435003,91251008,385691007,872781000000100,6...  \n",
       "9                                   53950000,91251008  \n",
       "21                          699728000,326051000000105  \n",
       "24                                182964004,698360004  "
      ]
     },
     "execution_count": 32,
     "metadata": {},
     "output_type": "execute_result"
    }
   ],
   "source": [
    "selected_df.head()"
   ]
  },
  {
   "cell_type": "code",
   "execution_count": 33,
   "metadata": {
    "scrolled": true
   },
   "outputs": [
    {
     "data": {
      "text/plain": [
       "patient                0\n",
       "Encounter              0\n",
       "Condition              0\n",
       "Procedure              0\n",
       "Observation            0\n",
       "Diagnostics Report    72\n",
       "Immunization           1\n",
       "Medication Orders      0\n",
       "Careplan              11\n",
       "dtype: int64"
      ]
     },
     "execution_count": 33,
     "metadata": {},
     "output_type": "execute_result"
    }
   ],
   "source": [
    "selected_df.isnull().sum()"
   ]
  },
  {
   "cell_type": "markdown",
   "metadata": {},
   "source": [
    "### format the corpus"
   ]
  },
  {
   "cell_type": "code",
   "execution_count": 34,
   "metadata": {},
   "outputs": [],
   "source": [
    "condition_df = selected_df[['patient','Procedure', 'Medication Orders','Observation', 'Condition']]"
   ]
  },
  {
   "cell_type": "code",
   "execution_count": 35,
   "metadata": {},
   "outputs": [
    {
     "data": {
      "text/plain": [
       "patient              0\n",
       "Procedure            0\n",
       "Medication Orders    0\n",
       "Observation          0\n",
       "Condition            0\n",
       "dtype: int64"
      ]
     },
     "execution_count": 35,
     "metadata": {},
     "output_type": "execute_result"
    }
   ],
   "source": [
    "condition_df.isnull().sum()"
   ]
  },
  {
   "cell_type": "code",
   "execution_count": 36,
   "metadata": {},
   "outputs": [
    {
     "data": {
      "text/html": [
       "<div>\n",
       "<style scoped>\n",
       "    .dataframe tbody tr th:only-of-type {\n",
       "        vertical-align: middle;\n",
       "    }\n",
       "\n",
       "    .dataframe tbody tr th {\n",
       "        vertical-align: top;\n",
       "    }\n",
       "\n",
       "    .dataframe thead th {\n",
       "        text-align: right;\n",
       "    }\n",
       "</style>\n",
       "<table border=\"1\" class=\"dataframe\">\n",
       "  <thead>\n",
       "    <tr style=\"text-align: right;\">\n",
       "      <th></th>\n",
       "      <th>patient</th>\n",
       "      <th>Procedure</th>\n",
       "      <th>Medication Orders</th>\n",
       "      <th>Observation</th>\n",
       "      <th>Condition</th>\n",
       "    </tr>\n",
       "  </thead>\n",
       "  <tbody>\n",
       "    <tr>\n",
       "      <th>2</th>\n",
       "      <td>63927398-3432-4526-9960-0da4359e3be2</td>\n",
       "      <td>117015009</td>\n",
       "      <td>824184,834101</td>\n",
       "      <td>8302-2,29463-7,8331-1,39156-5,55284-4</td>\n",
       "      <td>43878008,444814009,275272006</td>\n",
       "    </tr>\n",
       "    <tr>\n",
       "      <th>5</th>\n",
       "      <td>77e05358-bfd9-4399-a474-1fab36f31975</td>\n",
       "      <td>31208007,66348005,252160004,274474001</td>\n",
       "      <td>313782,757594,198405,310965</td>\n",
       "      <td>33914-3,8302-2,29463-7,39156-5,55284-4</td>\n",
       "      <td>39848009,410429000,38341003,398254007,72892002...</td>\n",
       "    </tr>\n",
       "    <tr>\n",
       "      <th>9</th>\n",
       "      <td>fe1bba02-f021-4e12-81da-2b8f42988574</td>\n",
       "      <td>269911007,699253003</td>\n",
       "      <td>1020137,831533,849574,861467,834060,749762</td>\n",
       "      <td>2093-3,2571-8,2085-9,8302-2,29463-7,18262-6,39...</td>\n",
       "      <td>10509002,444470001</td>\n",
       "    </tr>\n",
       "    <tr>\n",
       "      <th>21</th>\n",
       "      <td>e223f58a-7029-4287-8e91-83b67336c3da</td>\n",
       "      <td>171231001,395142003</td>\n",
       "      <td>727316,665078,895994,745679</td>\n",
       "      <td>6095-4,7258-7,6158-0,6246-3,6106-9,6276-0,6833...</td>\n",
       "      <td>233678006,444814009</td>\n",
       "    </tr>\n",
       "    <tr>\n",
       "      <th>24</th>\n",
       "      <td>6979463f-b1ab-48c7-b560-b0b1782aa82e</td>\n",
       "      <td>703423002,73761001,399208008,173160006,4188910...</td>\n",
       "      <td>1736854,583214</td>\n",
       "      <td>6299-2,2947-0,2093-3,69453-9,4548-4,49765-1,25...</td>\n",
       "      <td>423121009,254637007,162573006,15777000</td>\n",
       "    </tr>\n",
       "  </tbody>\n",
       "</table>\n",
       "</div>"
      ],
      "text/plain": [
       "                                 patient  \\\n",
       "2   63927398-3432-4526-9960-0da4359e3be2   \n",
       "5   77e05358-bfd9-4399-a474-1fab36f31975   \n",
       "9   fe1bba02-f021-4e12-81da-2b8f42988574   \n",
       "21  e223f58a-7029-4287-8e91-83b67336c3da   \n",
       "24  6979463f-b1ab-48c7-b560-b0b1782aa82e   \n",
       "\n",
       "                                            Procedure  \\\n",
       "2                                           117015009   \n",
       "5               31208007,66348005,252160004,274474001   \n",
       "9                                 269911007,699253003   \n",
       "21                                171231001,395142003   \n",
       "24  703423002,73761001,399208008,173160006,4188910...   \n",
       "\n",
       "                             Medication Orders  \\\n",
       "2                                824184,834101   \n",
       "5                  313782,757594,198405,310965   \n",
       "9   1020137,831533,849574,861467,834060,749762   \n",
       "21                 727316,665078,895994,745679   \n",
       "24                              1736854,583214   \n",
       "\n",
       "                                          Observation  \\\n",
       "2               8302-2,29463-7,8331-1,39156-5,55284-4   \n",
       "5              33914-3,8302-2,29463-7,39156-5,55284-4   \n",
       "9   2093-3,2571-8,2085-9,8302-2,29463-7,18262-6,39...   \n",
       "21  6095-4,7258-7,6158-0,6246-3,6106-9,6276-0,6833...   \n",
       "24  6299-2,2947-0,2093-3,69453-9,4548-4,49765-1,25...   \n",
       "\n",
       "                                            Condition  \n",
       "2                        43878008,444814009,275272006  \n",
       "5   39848009,410429000,38341003,398254007,72892002...  \n",
       "9                                  10509002,444470001  \n",
       "21                                233678006,444814009  \n",
       "24             423121009,254637007,162573006,15777000  "
      ]
     },
     "execution_count": 36,
     "metadata": {},
     "output_type": "execute_result"
    }
   ],
   "source": [
    "condition_df.head()"
   ]
  },
  {
   "cell_type": "code",
   "execution_count": 37,
   "metadata": {},
   "outputs": [
    {
     "data": {
      "text/plain": [
       "(143, 5)"
      ]
     },
     "execution_count": 37,
     "metadata": {},
     "output_type": "execute_result"
    }
   ],
   "source": [
    "condition_df.shape"
   ]
  },
  {
   "cell_type": "code",
   "execution_count": 38,
   "metadata": {},
   "outputs": [
    {
     "data": {
      "text/plain": [
       "143"
      ]
     },
     "execution_count": 38,
     "metadata": {},
     "output_type": "execute_result"
    }
   ],
   "source": [
    "len(condition_df['patient'].unique())"
   ]
  },
  {
   "cell_type": "code",
   "execution_count": 39,
   "metadata": {},
   "outputs": [
    {
     "name": "stderr",
     "output_type": "stream",
     "text": [
      "/var/folders/9n/gzwg3s7j7pn060z120b3pb_h0000gn/T/ipykernel_919/868148765.py:1: SettingWithCopyWarning: \n",
      "A value is trying to be set on a copy of a slice from a DataFrame.\n",
      "Try using .loc[row_indexer,col_indexer] = value instead\n",
      "\n",
      "See the caveats in the documentation: https://pandas.pydata.org/pandas-docs/stable/user_guide/indexing.html#returning-a-view-versus-a-copy\n",
      "  condition_df['Condition']=condition_df['Condition'].map(lambda x: list(set(x.split(',')) & set(candidates))[0])\n"
     ]
    }
   ],
   "source": [
    "condition_df['Condition']=condition_df['Condition'].map(lambda x: list(set(x.split(',')) & set(candidates))[0])"
   ]
  },
  {
   "cell_type": "code",
   "execution_count": 40,
   "metadata": {},
   "outputs": [
    {
     "data": {
      "text/html": [
       "<div>\n",
       "<style scoped>\n",
       "    .dataframe tbody tr th:only-of-type {\n",
       "        vertical-align: middle;\n",
       "    }\n",
       "\n",
       "    .dataframe tbody tr th {\n",
       "        vertical-align: top;\n",
       "    }\n",
       "\n",
       "    .dataframe thead th {\n",
       "        text-align: right;\n",
       "    }\n",
       "</style>\n",
       "<table border=\"1\" class=\"dataframe\">\n",
       "  <thead>\n",
       "    <tr style=\"text-align: right;\">\n",
       "      <th></th>\n",
       "      <th>patient</th>\n",
       "      <th>Procedure</th>\n",
       "      <th>Medication Orders</th>\n",
       "      <th>Observation</th>\n",
       "      <th>Condition</th>\n",
       "    </tr>\n",
       "  </thead>\n",
       "  <tbody>\n",
       "    <tr>\n",
       "      <th>2</th>\n",
       "      <td>63927398-3432-4526-9960-0da4359e3be2</td>\n",
       "      <td>117015009</td>\n",
       "      <td>824184,834101</td>\n",
       "      <td>8302-2,29463-7,8331-1,39156-5,55284-4</td>\n",
       "      <td>444814009</td>\n",
       "    </tr>\n",
       "    <tr>\n",
       "      <th>5</th>\n",
       "      <td>77e05358-bfd9-4399-a474-1fab36f31975</td>\n",
       "      <td>31208007,66348005,252160004,274474001</td>\n",
       "      <td>313782,757594,198405,310965</td>\n",
       "      <td>33914-3,8302-2,29463-7,39156-5,55284-4</td>\n",
       "      <td>38341003</td>\n",
       "    </tr>\n",
       "    <tr>\n",
       "      <th>9</th>\n",
       "      <td>fe1bba02-f021-4e12-81da-2b8f42988574</td>\n",
       "      <td>269911007,699253003</td>\n",
       "      <td>1020137,831533,849574,861467,834060,749762</td>\n",
       "      <td>2093-3,2571-8,2085-9,8302-2,29463-7,18262-6,39...</td>\n",
       "      <td>10509002</td>\n",
       "    </tr>\n",
       "    <tr>\n",
       "      <th>21</th>\n",
       "      <td>e223f58a-7029-4287-8e91-83b67336c3da</td>\n",
       "      <td>171231001,395142003</td>\n",
       "      <td>727316,665078,895994,745679</td>\n",
       "      <td>6095-4,7258-7,6158-0,6246-3,6106-9,6276-0,6833...</td>\n",
       "      <td>444814009</td>\n",
       "    </tr>\n",
       "    <tr>\n",
       "      <th>24</th>\n",
       "      <td>6979463f-b1ab-48c7-b560-b0b1782aa82e</td>\n",
       "      <td>703423002,73761001,399208008,173160006,4188910...</td>\n",
       "      <td>1736854,583214</td>\n",
       "      <td>6299-2,2947-0,2093-3,69453-9,4548-4,49765-1,25...</td>\n",
       "      <td>15777000</td>\n",
       "    </tr>\n",
       "  </tbody>\n",
       "</table>\n",
       "</div>"
      ],
      "text/plain": [
       "                                 patient  \\\n",
       "2   63927398-3432-4526-9960-0da4359e3be2   \n",
       "5   77e05358-bfd9-4399-a474-1fab36f31975   \n",
       "9   fe1bba02-f021-4e12-81da-2b8f42988574   \n",
       "21  e223f58a-7029-4287-8e91-83b67336c3da   \n",
       "24  6979463f-b1ab-48c7-b560-b0b1782aa82e   \n",
       "\n",
       "                                            Procedure  \\\n",
       "2                                           117015009   \n",
       "5               31208007,66348005,252160004,274474001   \n",
       "9                                 269911007,699253003   \n",
       "21                                171231001,395142003   \n",
       "24  703423002,73761001,399208008,173160006,4188910...   \n",
       "\n",
       "                             Medication Orders  \\\n",
       "2                                824184,834101   \n",
       "5                  313782,757594,198405,310965   \n",
       "9   1020137,831533,849574,861467,834060,749762   \n",
       "21                 727316,665078,895994,745679   \n",
       "24                              1736854,583214   \n",
       "\n",
       "                                          Observation  Condition  \n",
       "2               8302-2,29463-7,8331-1,39156-5,55284-4  444814009  \n",
       "5              33914-3,8302-2,29463-7,39156-5,55284-4   38341003  \n",
       "9   2093-3,2571-8,2085-9,8302-2,29463-7,18262-6,39...   10509002  \n",
       "21  6095-4,7258-7,6158-0,6246-3,6106-9,6276-0,6833...  444814009  \n",
       "24  6299-2,2947-0,2093-3,69453-9,4548-4,49765-1,25...   15777000  "
      ]
     },
     "execution_count": 40,
     "metadata": {},
     "output_type": "execute_result"
    }
   ],
   "source": [
    "condition_df.head()"
   ]
  },
  {
   "cell_type": "code",
   "execution_count": 41,
   "metadata": {},
   "outputs": [
    {
     "data": {
      "text/html": [
       "<div>\n",
       "<style scoped>\n",
       "    .dataframe tbody tr th:only-of-type {\n",
       "        vertical-align: middle;\n",
       "    }\n",
       "\n",
       "    .dataframe tbody tr th {\n",
       "        vertical-align: top;\n",
       "    }\n",
       "\n",
       "    .dataframe thead th {\n",
       "        text-align: right;\n",
       "    }\n",
       "</style>\n",
       "<table border=\"1\" class=\"dataframe\">\n",
       "  <thead>\n",
       "    <tr style=\"text-align: right;\">\n",
       "      <th></th>\n",
       "      <th>patient</th>\n",
       "      <th>Procedure</th>\n",
       "      <th>Medication Orders</th>\n",
       "      <th>Observation</th>\n",
       "      <th>Condition</th>\n",
       "    </tr>\n",
       "  </thead>\n",
       "  <tbody>\n",
       "    <tr>\n",
       "      <th>2</th>\n",
       "      <td>63927398-3432-4526-9960-0da4359e3be2</td>\n",
       "      <td>117015009</td>\n",
       "      <td>824184,834101</td>\n",
       "      <td>8302-2,29463-7,8331-1,39156-5,55284-4</td>\n",
       "      <td>444814009</td>\n",
       "    </tr>\n",
       "    <tr>\n",
       "      <th>21</th>\n",
       "      <td>e223f58a-7029-4287-8e91-83b67336c3da</td>\n",
       "      <td>171231001,395142003</td>\n",
       "      <td>727316,665078,895994,745679</td>\n",
       "      <td>6095-4,7258-7,6158-0,6246-3,6106-9,6276-0,6833...</td>\n",
       "      <td>444814009</td>\n",
       "    </tr>\n",
       "    <tr>\n",
       "      <th>44</th>\n",
       "      <td>df8f4853-e339-4af0-b423-26b7272bb48d</td>\n",
       "      <td>288086009,22523008</td>\n",
       "      <td>313782,834060</td>\n",
       "      <td>2093-3,2571-8,2085-9,8302-2,29463-7,18262-6,39...</td>\n",
       "      <td>444814009</td>\n",
       "    </tr>\n",
       "    <tr>\n",
       "      <th>56</th>\n",
       "      <td>6a511630-d43a-4380-9e60-b928f6287d5d</td>\n",
       "      <td>117015009,274474001</td>\n",
       "      <td>310965,1367439,834060,834101</td>\n",
       "      <td>2093-3,2571-8,2085-9,8302-2,29463-7,18262-6,83...</td>\n",
       "      <td>444814009</td>\n",
       "    </tr>\n",
       "    <tr>\n",
       "      <th>74</th>\n",
       "      <td>5238d34c-0005-4e3a-ae3b-12d260068af0</td>\n",
       "      <td>117015009,46706006</td>\n",
       "      <td>1373463,860975,897122,834101</td>\n",
       "      <td>4548-4,55284-4,6299-2,2069-3,2339-0,18262-6,83...</td>\n",
       "      <td>444814009</td>\n",
       "    </tr>\n",
       "    <tr>\n",
       "      <th>...</th>\n",
       "      <td>...</td>\n",
       "      <td>...</td>\n",
       "      <td>...</td>\n",
       "      <td>...</td>\n",
       "      <td>...</td>\n",
       "    </tr>\n",
       "    <tr>\n",
       "      <th>915</th>\n",
       "      <td>2ee68828-5d6c-4941-bee9-51cc4fb6a1bc</td>\n",
       "      <td>252160004</td>\n",
       "      <td>849574,757594</td>\n",
       "      <td>8302-2,39156-5,55284-4,29463-7</td>\n",
       "      <td>444814009</td>\n",
       "    </tr>\n",
       "    <tr>\n",
       "      <th>917</th>\n",
       "      <td>471c24d2-f53b-4b45-a387-f51a44a542f8</td>\n",
       "      <td>288086009,274474001</td>\n",
       "      <td>313782,751905</td>\n",
       "      <td>8302-2,39156-5,55284-4,29463-7</td>\n",
       "      <td>444814009</td>\n",
       "    </tr>\n",
       "    <tr>\n",
       "      <th>933</th>\n",
       "      <td>2f21c601-71f6-4ab9-ab66-1e227dc0db5e</td>\n",
       "      <td>228557008</td>\n",
       "      <td>849574,834060</td>\n",
       "      <td>8302-2,29463-7,8331-1,39156-5,55284-4</td>\n",
       "      <td>444814009</td>\n",
       "    </tr>\n",
       "    <tr>\n",
       "      <th>936</th>\n",
       "      <td>f150af1f-f166-4917-9678-685d6327efed</td>\n",
       "      <td>305428000,312681000</td>\n",
       "      <td>1049221,310965,849574,861467,834060</td>\n",
       "      <td>2093-3,2571-8,2085-9,8302-2,29463-7,18262-6,38...</td>\n",
       "      <td>444814009</td>\n",
       "    </tr>\n",
       "    <tr>\n",
       "      <th>972</th>\n",
       "      <td>84f1cd4b-348e-4af3-bf2a-52cbbab68313</td>\n",
       "      <td>288086009,274474001</td>\n",
       "      <td>198405,282464</td>\n",
       "      <td>8302-2,39156-5,55284-4,29463-7</td>\n",
       "      <td>444814009</td>\n",
       "    </tr>\n",
       "  </tbody>\n",
       "</table>\n",
       "<p>61 rows × 5 columns</p>\n",
       "</div>"
      ],
      "text/plain": [
       "                                  patient            Procedure  \\\n",
       "2    63927398-3432-4526-9960-0da4359e3be2            117015009   \n",
       "21   e223f58a-7029-4287-8e91-83b67336c3da  171231001,395142003   \n",
       "44   df8f4853-e339-4af0-b423-26b7272bb48d   288086009,22523008   \n",
       "56   6a511630-d43a-4380-9e60-b928f6287d5d  117015009,274474001   \n",
       "74   5238d34c-0005-4e3a-ae3b-12d260068af0   117015009,46706006   \n",
       "..                                    ...                  ...   \n",
       "915  2ee68828-5d6c-4941-bee9-51cc4fb6a1bc            252160004   \n",
       "917  471c24d2-f53b-4b45-a387-f51a44a542f8  288086009,274474001   \n",
       "933  2f21c601-71f6-4ab9-ab66-1e227dc0db5e            228557008   \n",
       "936  f150af1f-f166-4917-9678-685d6327efed  305428000,312681000   \n",
       "972  84f1cd4b-348e-4af3-bf2a-52cbbab68313  288086009,274474001   \n",
       "\n",
       "                       Medication Orders  \\\n",
       "2                          824184,834101   \n",
       "21           727316,665078,895994,745679   \n",
       "44                         313782,834060   \n",
       "56          310965,1367439,834060,834101   \n",
       "74          1373463,860975,897122,834101   \n",
       "..                                   ...   \n",
       "915                        849574,757594   \n",
       "917                        313782,751905   \n",
       "933                        849574,834060   \n",
       "936  1049221,310965,849574,861467,834060   \n",
       "972                        198405,282464   \n",
       "\n",
       "                                           Observation  Condition  \n",
       "2                8302-2,29463-7,8331-1,39156-5,55284-4  444814009  \n",
       "21   6095-4,7258-7,6158-0,6246-3,6106-9,6276-0,6833...  444814009  \n",
       "44   2093-3,2571-8,2085-9,8302-2,29463-7,18262-6,39...  444814009  \n",
       "56   2093-3,2571-8,2085-9,8302-2,29463-7,18262-6,83...  444814009  \n",
       "74   4548-4,55284-4,6299-2,2069-3,2339-0,18262-6,83...  444814009  \n",
       "..                                                 ...        ...  \n",
       "915                     8302-2,39156-5,55284-4,29463-7  444814009  \n",
       "917                     8302-2,39156-5,55284-4,29463-7  444814009  \n",
       "933              8302-2,29463-7,8331-1,39156-5,55284-4  444814009  \n",
       "936  2093-3,2571-8,2085-9,8302-2,29463-7,18262-6,38...  444814009  \n",
       "972                     8302-2,39156-5,55284-4,29463-7  444814009  \n",
       "\n",
       "[61 rows x 5 columns]"
      ]
     },
     "execution_count": 41,
     "metadata": {},
     "output_type": "execute_result"
    }
   ],
   "source": [
    "condition_df[condition_df['Condition']=='444814009']"
   ]
  },
  {
   "cell_type": "code",
   "execution_count": 42,
   "metadata": {},
   "outputs": [
    {
     "name": "stderr",
     "output_type": "stream",
     "text": [
      "/var/folders/9n/gzwg3s7j7pn060z120b3pb_h0000gn/T/ipykernel_919/387654488.py:1: SettingWithCopyWarning: \n",
      "A value is trying to be set on a copy of a slice from a DataFrame.\n",
      "Try using .loc[row_indexer,col_indexer] = value instead\n",
      "\n",
      "See the caveats in the documentation: https://pandas.pydata.org/pandas-docs/stable/user_guide/indexing.html#returning-a-view-versus-a-copy\n",
      "  condition_df['Document'] = condition_df['Procedure'].apply(lambda x : ' '.join(x.split(',')))+ ' ' + condition_df['Medication Orders'].apply(lambda x : ' '.join(x.split(',')))\n"
     ]
    }
   ],
   "source": [
    "condition_df['Document'] = condition_df['Procedure'].apply(lambda x : ' '.join(x.split(',')))+ ' ' + condition_df['Medication Orders'].apply(lambda x : ' '.join(x.split(','))) "
   ]
  },
  {
   "cell_type": "code",
   "execution_count": 43,
   "metadata": {},
   "outputs": [
    {
     "data": {
      "text/html": [
       "<div>\n",
       "<style scoped>\n",
       "    .dataframe tbody tr th:only-of-type {\n",
       "        vertical-align: middle;\n",
       "    }\n",
       "\n",
       "    .dataframe tbody tr th {\n",
       "        vertical-align: top;\n",
       "    }\n",
       "\n",
       "    .dataframe thead th {\n",
       "        text-align: right;\n",
       "    }\n",
       "</style>\n",
       "<table border=\"1\" class=\"dataframe\">\n",
       "  <thead>\n",
       "    <tr style=\"text-align: right;\">\n",
       "      <th></th>\n",
       "      <th>patient</th>\n",
       "      <th>Procedure</th>\n",
       "      <th>Medication Orders</th>\n",
       "      <th>Observation</th>\n",
       "      <th>Condition</th>\n",
       "      <th>Document</th>\n",
       "    </tr>\n",
       "  </thead>\n",
       "  <tbody>\n",
       "    <tr>\n",
       "      <th>2</th>\n",
       "      <td>63927398-3432-4526-9960-0da4359e3be2</td>\n",
       "      <td>117015009</td>\n",
       "      <td>824184,834101</td>\n",
       "      <td>8302-2,29463-7,8331-1,39156-5,55284-4</td>\n",
       "      <td>444814009</td>\n",
       "      <td>117015009 824184 834101</td>\n",
       "    </tr>\n",
       "    <tr>\n",
       "      <th>5</th>\n",
       "      <td>77e05358-bfd9-4399-a474-1fab36f31975</td>\n",
       "      <td>31208007,66348005,252160004,274474001</td>\n",
       "      <td>313782,757594,198405,310965</td>\n",
       "      <td>33914-3,8302-2,29463-7,39156-5,55284-4</td>\n",
       "      <td>38341003</td>\n",
       "      <td>31208007 66348005 252160004 274474001 313782 7...</td>\n",
       "    </tr>\n",
       "    <tr>\n",
       "      <th>9</th>\n",
       "      <td>fe1bba02-f021-4e12-81da-2b8f42988574</td>\n",
       "      <td>269911007,699253003</td>\n",
       "      <td>1020137,831533,849574,861467,834060,749762</td>\n",
       "      <td>2093-3,2571-8,2085-9,8302-2,29463-7,18262-6,39...</td>\n",
       "      <td>10509002</td>\n",
       "      <td>269911007 699253003 1020137 831533 849574 8614...</td>\n",
       "    </tr>\n",
       "    <tr>\n",
       "      <th>21</th>\n",
       "      <td>e223f58a-7029-4287-8e91-83b67336c3da</td>\n",
       "      <td>171231001,395142003</td>\n",
       "      <td>727316,665078,895994,745679</td>\n",
       "      <td>6095-4,7258-7,6158-0,6246-3,6106-9,6276-0,6833...</td>\n",
       "      <td>444814009</td>\n",
       "      <td>171231001 395142003 727316 665078 895994 745679</td>\n",
       "    </tr>\n",
       "    <tr>\n",
       "      <th>24</th>\n",
       "      <td>6979463f-b1ab-48c7-b560-b0b1782aa82e</td>\n",
       "      <td>703423002,73761001,399208008,173160006,4188910...</td>\n",
       "      <td>1736854,583214</td>\n",
       "      <td>6299-2,2947-0,2093-3,69453-9,4548-4,49765-1,25...</td>\n",
       "      <td>15777000</td>\n",
       "      <td>703423002 73761001 399208008 173160006 4188910...</td>\n",
       "    </tr>\n",
       "  </tbody>\n",
       "</table>\n",
       "</div>"
      ],
      "text/plain": [
       "                                 patient  \\\n",
       "2   63927398-3432-4526-9960-0da4359e3be2   \n",
       "5   77e05358-bfd9-4399-a474-1fab36f31975   \n",
       "9   fe1bba02-f021-4e12-81da-2b8f42988574   \n",
       "21  e223f58a-7029-4287-8e91-83b67336c3da   \n",
       "24  6979463f-b1ab-48c7-b560-b0b1782aa82e   \n",
       "\n",
       "                                            Procedure  \\\n",
       "2                                           117015009   \n",
       "5               31208007,66348005,252160004,274474001   \n",
       "9                                 269911007,699253003   \n",
       "21                                171231001,395142003   \n",
       "24  703423002,73761001,399208008,173160006,4188910...   \n",
       "\n",
       "                             Medication Orders  \\\n",
       "2                                824184,834101   \n",
       "5                  313782,757594,198405,310965   \n",
       "9   1020137,831533,849574,861467,834060,749762   \n",
       "21                 727316,665078,895994,745679   \n",
       "24                              1736854,583214   \n",
       "\n",
       "                                          Observation  Condition  \\\n",
       "2               8302-2,29463-7,8331-1,39156-5,55284-4  444814009   \n",
       "5              33914-3,8302-2,29463-7,39156-5,55284-4   38341003   \n",
       "9   2093-3,2571-8,2085-9,8302-2,29463-7,18262-6,39...   10509002   \n",
       "21  6095-4,7258-7,6158-0,6246-3,6106-9,6276-0,6833...  444814009   \n",
       "24  6299-2,2947-0,2093-3,69453-9,4548-4,49765-1,25...   15777000   \n",
       "\n",
       "                                             Document  \n",
       "2                             117015009 824184 834101  \n",
       "5   31208007 66348005 252160004 274474001 313782 7...  \n",
       "9   269911007 699253003 1020137 831533 849574 8614...  \n",
       "21    171231001 395142003 727316 665078 895994 745679  \n",
       "24  703423002 73761001 399208008 173160006 4188910...  "
      ]
     },
     "execution_count": 43,
     "metadata": {},
     "output_type": "execute_result"
    }
   ],
   "source": [
    "condition_df.head()"
   ]
  },
  {
   "cell_type": "code",
   "execution_count": 44,
   "metadata": {},
   "outputs": [],
   "source": [
    "# with open('data/corpus/disease.clean.txt', 'w') as f:\n",
    "#     for doc in condition_df['Document']:\n",
    "#         f.write(doc+'\\n')\n",
    "    "
   ]
  },
  {
   "cell_type": "code",
   "execution_count": 45,
   "metadata": {},
   "outputs": [
    {
     "name": "stdout",
     "output_type": "stream",
     "text": [
      "143 128 15\n"
     ]
    }
   ],
   "source": [
    "size = len(condition_df)\n",
    "train_size = int(0.9*size)\n",
    "test_size = size - train_size\n",
    "print(size, train_size, test_size)"
   ]
  },
  {
   "cell_type": "code",
   "execution_count": 46,
   "metadata": {},
   "outputs": [
    {
     "data": {
      "text/plain": [
       "array(['444814009', '38341003', '10509002', '15777000', '195662009'],\n",
       "      dtype=object)"
      ]
     },
     "execution_count": 46,
     "metadata": {},
     "output_type": "execute_result"
    }
   ],
   "source": [
    "condition_df['Condition'].unique() "
   ]
  },
  {
   "cell_type": "code",
   "execution_count": 47,
   "metadata": {},
   "outputs": [],
   "source": [
    "resource_df = condition_df.reset_index(drop=True)"
   ]
  },
  {
   "cell_type": "code",
   "execution_count": 48,
   "metadata": {},
   "outputs": [
    {
     "data": {
      "text/html": [
       "<div>\n",
       "<style scoped>\n",
       "    .dataframe tbody tr th:only-of-type {\n",
       "        vertical-align: middle;\n",
       "    }\n",
       "\n",
       "    .dataframe tbody tr th {\n",
       "        vertical-align: top;\n",
       "    }\n",
       "\n",
       "    .dataframe thead th {\n",
       "        text-align: right;\n",
       "    }\n",
       "</style>\n",
       "<table border=\"1\" class=\"dataframe\">\n",
       "  <thead>\n",
       "    <tr style=\"text-align: right;\">\n",
       "      <th></th>\n",
       "      <th>patient</th>\n",
       "      <th>Procedure</th>\n",
       "      <th>Medication Orders</th>\n",
       "      <th>Observation</th>\n",
       "      <th>Condition</th>\n",
       "      <th>Document</th>\n",
       "    </tr>\n",
       "  </thead>\n",
       "  <tbody>\n",
       "    <tr>\n",
       "      <th>0</th>\n",
       "      <td>63927398-3432-4526-9960-0da4359e3be2</td>\n",
       "      <td>117015009</td>\n",
       "      <td>824184,834101</td>\n",
       "      <td>8302-2,29463-7,8331-1,39156-5,55284-4</td>\n",
       "      <td>444814009</td>\n",
       "      <td>117015009 824184 834101</td>\n",
       "    </tr>\n",
       "    <tr>\n",
       "      <th>1</th>\n",
       "      <td>77e05358-bfd9-4399-a474-1fab36f31975</td>\n",
       "      <td>31208007,66348005,252160004,274474001</td>\n",
       "      <td>313782,757594,198405,310965</td>\n",
       "      <td>33914-3,8302-2,29463-7,39156-5,55284-4</td>\n",
       "      <td>38341003</td>\n",
       "      <td>31208007 66348005 252160004 274474001 313782 7...</td>\n",
       "    </tr>\n",
       "    <tr>\n",
       "      <th>2</th>\n",
       "      <td>fe1bba02-f021-4e12-81da-2b8f42988574</td>\n",
       "      <td>269911007,699253003</td>\n",
       "      <td>1020137,831533,849574,861467,834060,749762</td>\n",
       "      <td>2093-3,2571-8,2085-9,8302-2,29463-7,18262-6,39...</td>\n",
       "      <td>10509002</td>\n",
       "      <td>269911007 699253003 1020137 831533 849574 8614...</td>\n",
       "    </tr>\n",
       "    <tr>\n",
       "      <th>3</th>\n",
       "      <td>e223f58a-7029-4287-8e91-83b67336c3da</td>\n",
       "      <td>171231001,395142003</td>\n",
       "      <td>727316,665078,895994,745679</td>\n",
       "      <td>6095-4,7258-7,6158-0,6246-3,6106-9,6276-0,6833...</td>\n",
       "      <td>444814009</td>\n",
       "      <td>171231001 395142003 727316 665078 895994 745679</td>\n",
       "    </tr>\n",
       "    <tr>\n",
       "      <th>4</th>\n",
       "      <td>6979463f-b1ab-48c7-b560-b0b1782aa82e</td>\n",
       "      <td>703423002,73761001,399208008,173160006,4188910...</td>\n",
       "      <td>1736854,583214</td>\n",
       "      <td>6299-2,2947-0,2093-3,69453-9,4548-4,49765-1,25...</td>\n",
       "      <td>15777000</td>\n",
       "      <td>703423002 73761001 399208008 173160006 4188910...</td>\n",
       "    </tr>\n",
       "  </tbody>\n",
       "</table>\n",
       "</div>"
      ],
      "text/plain": [
       "                                patient  \\\n",
       "0  63927398-3432-4526-9960-0da4359e3be2   \n",
       "1  77e05358-bfd9-4399-a474-1fab36f31975   \n",
       "2  fe1bba02-f021-4e12-81da-2b8f42988574   \n",
       "3  e223f58a-7029-4287-8e91-83b67336c3da   \n",
       "4  6979463f-b1ab-48c7-b560-b0b1782aa82e   \n",
       "\n",
       "                                           Procedure  \\\n",
       "0                                          117015009   \n",
       "1              31208007,66348005,252160004,274474001   \n",
       "2                                269911007,699253003   \n",
       "3                                171231001,395142003   \n",
       "4  703423002,73761001,399208008,173160006,4188910...   \n",
       "\n",
       "                            Medication Orders  \\\n",
       "0                               824184,834101   \n",
       "1                 313782,757594,198405,310965   \n",
       "2  1020137,831533,849574,861467,834060,749762   \n",
       "3                 727316,665078,895994,745679   \n",
       "4                              1736854,583214   \n",
       "\n",
       "                                         Observation  Condition  \\\n",
       "0              8302-2,29463-7,8331-1,39156-5,55284-4  444814009   \n",
       "1             33914-3,8302-2,29463-7,39156-5,55284-4   38341003   \n",
       "2  2093-3,2571-8,2085-9,8302-2,29463-7,18262-6,39...   10509002   \n",
       "3  6095-4,7258-7,6158-0,6246-3,6106-9,6276-0,6833...  444814009   \n",
       "4  6299-2,2947-0,2093-3,69453-9,4548-4,49765-1,25...   15777000   \n",
       "\n",
       "                                            Document  \n",
       "0                            117015009 824184 834101  \n",
       "1  31208007 66348005 252160004 274474001 313782 7...  \n",
       "2  269911007 699253003 1020137 831533 849574 8614...  \n",
       "3    171231001 395142003 727316 665078 895994 745679  \n",
       "4  703423002 73761001 399208008 173160006 4188910...  "
      ]
     },
     "execution_count": 48,
     "metadata": {},
     "output_type": "execute_result"
    }
   ],
   "source": [
    "resource_df.head()"
   ]
  },
  {
   "cell_type": "code",
   "execution_count": 49,
   "metadata": {},
   "outputs": [],
   "source": [
    "# f2 = open(\"data/disease.txt\", 'w')\n",
    "# for _,doc in condition_df[:train_size].iterrows():\n",
    "#     f2.write('data/disease/disease-train/'+doc['Condition']+'/'+doc['patient']+'\\tdisease-train'+'\\t'+doc['Condition']+'\\n')\n",
    "#     with open('data/corpus/disease/disease-train/'+doc['Condition']+'/'+doc['patient'], 'w') as f:\n",
    "#         f.write(doc['Document'])\n",
    "# f2.close()"
   ]
  },
  {
   "cell_type": "code",
   "execution_count": 50,
   "metadata": {},
   "outputs": [],
   "source": [
    "# f2 = open(\"data/disease.txt\", 'a')\n",
    "# for _,doc in condition_df[-test_size:].iterrows():\n",
    "#     f2.write('data/disease/disease-test/'+doc['Condition']+'/'+doc['patient']+'\\tdisease-test'+'\\t'+doc['Condition']+'\\n')\n",
    "#     with open('data/corpus/disease/disease-test/'+doc['Condition']+'/'+doc['patient'], 'w') as f:\n",
    "#         f.write(doc['Document'])\n",
    "# f2.close()"
   ]
  },
  {
   "cell_type": "code",
   "execution_count": 51,
   "metadata": {},
   "outputs": [
    {
     "data": {
      "text/plain": [
       "444814009    61\n",
       "10509002     27\n",
       "195662009    25\n",
       "38341003     15\n",
       "15777000     15\n",
       "Name: Condition, dtype: int64"
      ]
     },
     "execution_count": 51,
     "metadata": {},
     "output_type": "execute_result"
    }
   ],
   "source": [
    "resource_df['Condition'].value_counts()"
   ]
  },
  {
   "cell_type": "code",
   "execution_count": null,
   "metadata": {},
   "outputs": [],
   "source": []
  },
  {
   "cell_type": "code",
   "execution_count": 52,
   "metadata": {},
   "outputs": [],
   "source": [
    "#balancing the classes\n",
    "balanced_df = resource_df[resource_df['Condition']!='444814009'].append(resource_df[resource_df['Condition']=='444814009'].iloc[:30])"
   ]
  },
  {
   "cell_type": "code",
   "execution_count": 53,
   "metadata": {},
   "outputs": [
    {
     "data": {
      "text/plain": [
       "444814009    30\n",
       "10509002     27\n",
       "195662009    25\n",
       "38341003     15\n",
       "15777000     15\n",
       "Name: Condition, dtype: int64"
      ]
     },
     "execution_count": 53,
     "metadata": {},
     "output_type": "execute_result"
    }
   ],
   "source": [
    "balanced_df['Condition'].value_counts()"
   ]
  },
  {
   "cell_type": "markdown",
   "metadata": {},
   "source": [
    "# Text-GCN"
   ]
  },
  {
   "cell_type": "code",
   "execution_count": 185,
   "metadata": {},
   "outputs": [],
   "source": [
    "dataset = 'disease'\n",
    "word_embeddings_dim = 117"
   ]
  },
  {
   "cell_type": "code",
   "execution_count": 186,
   "metadata": {},
   "outputs": [
    {
     "name": "stdout",
     "output_type": "stream",
     "text": [
      "112 100 12\n"
     ]
    }
   ],
   "source": [
    "#train_test_split\n",
    "size = len(balanced_df)\n",
    "train_size = int(0.9*size)\n",
    "test_size = size - train_size\n",
    "print(size, train_size, test_size)"
   ]
  },
  {
   "cell_type": "code",
   "execution_count": 187,
   "metadata": {},
   "outputs": [],
   "source": [
    "\n",
    "#shuffling\n",
    "shuffled_id = np.arange(size)\n",
    "random.shuffle(shuffled_id)\n",
    "shuffled_document = balanced_df['Document'].values[shuffled_id]"
   ]
  },
  {
   "cell_type": "code",
   "execution_count": 188,
   "metadata": {},
   "outputs": [],
   "source": [
    "# build vocab\n",
    "word_freq = defaultdict(lambda : 0)\n",
    "word_set = set()\n",
    "for doc_words in shuffled_document:\n",
    "    words = doc_words.split()\n",
    "    for word in words:\n",
    "        word_set.add(word)\n",
    "        word_freq[word] += 1\n",
    "\n",
    "vocab = list(word_set)\n",
    "vocab_size = len(vocab)"
   ]
  },
  {
   "cell_type": "code",
   "execution_count": 189,
   "metadata": {},
   "outputs": [
    {
     "data": {
      "text/plain": [
       "117"
      ]
     },
     "execution_count": 189,
     "metadata": {},
     "output_type": "execute_result"
    }
   ],
   "source": [
    "vocab_size"
   ]
  },
  {
   "cell_type": "code",
   "execution_count": 190,
   "metadata": {},
   "outputs": [],
   "source": [
    "word_doc_list = defaultdict(lambda : [])\n",
    "for index, doc in enumerate(shuffled_document):\n",
    "    appeared = set()\n",
    "    doc_words = doc.split()\n",
    "    for word in doc_words:\n",
    "        if word in appeared:\n",
    "            continue\n",
    "        word_doc_list[word].append(index)\n",
    "        appeared.add(word)\n",
    "        \n",
    "word_doc_freq = {}\n",
    "for word, doc_list in word_doc_list.items():\n",
    "    word_doc_freq[word] = len(doc_list)\n",
    "\n",
    "word_id_map = {}\n",
    "for index, word in enumerate(vocab):\n",
    "    word_id_map[word] = index"
   ]
  },
  {
   "cell_type": "code",
   "execution_count": 191,
   "metadata": {},
   "outputs": [],
   "source": [
    "#ecoding using tfidf\n",
    "tfidf_vec = TfidfVectorizer(max_features=500)\n",
    "tfidf_matrix = tfidf_vec.fit_transform(vocab)\n",
    "tfidf_matrix_array = tfidf_matrix.toarray()"
   ]
  },
  {
   "cell_type": "markdown",
   "metadata": {},
   "source": [
    "### Feature matrix preparation"
   ]
  },
  {
   "cell_type": "code",
   "execution_count": 192,
   "metadata": {},
   "outputs": [],
   "source": [
    "word_embeddings_dim = 117\n",
    "word_vector_map = {}\n",
    "for word, idd in word_id_map.items():\n",
    "    word_vector_map[word] = tfidf_matrix_array[idd]"
   ]
  },
  {
   "cell_type": "code",
   "execution_count": 193,
   "metadata": {},
   "outputs": [],
   "source": [
    "#train data feature\n",
    "row_x = []\n",
    "col_x = []\n",
    "data_x = []\n",
    "\n",
    "for i, doc in enumerate(shuffled_document[:train_size]):\n",
    "    doc_vec = np.array([0.0 for k in range(word_embeddings_dim)])\n",
    "    doc_words = doc.split()\n",
    "    doc_len = len(words)\n",
    "    for word in words:\n",
    "        if word in word_vector_map:\n",
    "            word_vector = word_vector_map[word]\n",
    "            doc_vec = doc_vec + np.array(word_vector) \n",
    "            \n",
    "    for j in range(word_embeddings_dim):\n",
    "        row_x.append(i)\n",
    "        col_x.append(j)\n",
    "        data_x.append(doc_vec[j] / doc_len)\n",
    "        \n",
    "x = sp.csr_matrix((data_x, (row_x, col_x)), shape=(\n",
    "    train_size, word_embeddings_dim))\n",
    "\n",
    "labels = balanced_df['Condition'].values[shuffled_id]\n",
    "labels_list = list(balanced_df['Condition'].unique())\n",
    "\n",
    "#train data labels\n",
    "y = []\n",
    "for label in labels[:train_size]:\n",
    "    one_hot = [0 for _ in range(len(labels_list))]\n",
    "    index = labels_list.index(label)\n",
    "    one_hot[index]= 1\n",
    "    y.append(one_hot)\n",
    "    \n",
    "y = np.array(y)\n",
    "    "
   ]
  },
  {
   "cell_type": "code",
   "execution_count": 194,
   "metadata": {},
   "outputs": [],
   "source": [
    "word_vectors = np.random.uniform(-0.01, 0.01,\n",
    "                                 (vocab_size, word_embeddings_dim))\n",
    "\n",
    "for i in range(len(vocab)):\n",
    "    word = vocab[i]\n",
    "    if word in word_vector_map:\n",
    "        vector = word_vector_map[word]\n",
    "        word_vectors[i] = vector"
   ]
  },
  {
   "cell_type": "code",
   "execution_count": 195,
   "metadata": {},
   "outputs": [],
   "source": [
    "#test data feature\n",
    "row_tx = []\n",
    "col_tx = []\n",
    "data_tx = []\n",
    "\n",
    "\n",
    "for i, doc in enumerate(shuffled_document[train_size:]):\n",
    "    doc_vec = np.array([0.0 for k in range(word_embeddings_dim)])\n",
    "    doc_words = doc.split()\n",
    "    doc_len = len(words)\n",
    "    for word in doc_words:\n",
    "        if word in word_vector_map:\n",
    "            word_vector = word_vector_map[word]\n",
    "            doc_vec = doc_vec + np.array(word_vector)\n",
    "    data_tx.append(doc_vec)\n",
    "data_tx = np.array(data_tx)/doc_len\n",
    "test = np.vstack([data_tx, np.array(word_vectors)])\n",
    "\n",
    "#test data label\n",
    "ty = []\n",
    "for label in labels[train_size:]:\n",
    "    one_hot = [0 for _ in range(len(labels_list))]\n",
    "    index = labels_list.index(label)\n",
    "    one_hot[index]= 1\n",
    "    ty.append(one_hot)\n",
    "    \n",
    "    \n",
    "ty = np.array(ty)"
   ]
  },
  {
   "cell_type": "code",
   "execution_count": 197,
   "metadata": {},
   "outputs": [],
   "source": [
    "# allx: the the feature vectors of both labeled and unlabeled training instances\n",
    "# (a superset of x)\n",
    "# unlabeled training instances -> words\n",
    "\n",
    "row_allx = []\n",
    "col_allx = []\n",
    "data_allx = []\n",
    "\n",
    "for i, doc in enumerate(shuffled_document[:train_size]):\n",
    "    doc_vec = np.array([0.0 for k in range(word_embeddings_dim)])\n",
    "    doc_words = doc.split()\n",
    "    doc_len = len(words)\n",
    "    for word in doc_words:\n",
    "        if word in word_vector_map:\n",
    "            word_vector = word_vector_map[word]\n",
    "            doc_vec = doc_vec + np.array(word_vector)\n",
    "    data_allx.append(doc_vec)\n",
    "data_allx = np.array(data_allx)/doc_len\n",
    "train = np.vstack([data_allx, np.array(word_vectors)])           \n",
    "\n",
    "ally = []\n",
    "for label in labels[:train_size]:\n",
    "    one_hot = [0 for _ in range(len(labels_list))]\n",
    "    index = labels_list.index(label)\n",
    "    one_hot[index]= 1\n",
    "    ally.append(one_hot)\n",
    "\n",
    "\n",
    "ally = np.array(ally)"
   ]
  },
  {
   "cell_type": "markdown",
   "metadata": {},
   "source": [
    "### Doc word heterogeneous graph"
   ]
  },
  {
   "cell_type": "code",
   "execution_count": 198,
   "metadata": {},
   "outputs": [],
   "source": [
    "# word co-occurence with context windows\n",
    "window_size = 3\n",
    "windows_test = []\n",
    "\n",
    "for doc_words in shuffled_document[train_size:]:\n",
    "    words = doc_words.split()\n",
    "    length = len(words)\n",
    "    if length <= window_size:\n",
    "        windows_test.append(words)\n",
    "    else:\n",
    "        # print(length, length - window_size + 1)\n",
    "        for j in range(length - window_size + 1):\n",
    "            window = words[j: j + window_size]\n",
    "            windows_test.append(window)"
   ]
  },
  {
   "cell_type": "code",
   "execution_count": 199,
   "metadata": {},
   "outputs": [],
   "source": [
    "word_window_freq_test = defaultdict(lambda :0)\n",
    "for window in windows_test:\n",
    "    appeared = set()\n",
    "    for word in window:\n",
    "        if word in appeared:\n",
    "            continue\n",
    "        word_window_freq_test[word]+=1\n",
    "        appeared.add(word)\n",
    "\n",
    "word_pair_count_test = defaultdict(lambda :0)\n",
    "for window in windows_test:\n",
    "    for i in range(1, len(window)):\n",
    "        for j in range(0,i):\n",
    "            word_i = window[i]\n",
    "            word_j = window[j]\n",
    "            word_i_id  = word_id_map[word_i]\n",
    "            word_j_id =  word_id_map[word_j]\n",
    "            if word_i_id == word_j_id:\n",
    "                continue\n",
    "            word_pair_str = str(word_i_id) + ',' + str(word_j_id)\n",
    "            word_pair_count_test[word_pair_str]+=1\n",
    "            word_pair_str = str(word_j_id) + ',' + str(word_i_id)\n",
    "            word_pair_count_test[word_pair_str]+=1"
   ]
  },
  {
   "cell_type": "code",
   "execution_count": 200,
   "metadata": {},
   "outputs": [],
   "source": [
    "# Word-Word node pmi as weights\n",
    "rowt = []\n",
    "colt = []\n",
    "weighttest = []\n",
    "num_windowt = len(windows_test)\n",
    "\n",
    "for key in word_pair_count_test:\n",
    "    temp = key.split(',')\n",
    "    i = int(temp[0])\n",
    "    j = int(temp[1])\n",
    "    count = word_pair_count_test[key]\n",
    "    word_freq_i = word_window_freq_test[vocab[i]]\n",
    "    word_freq_j = word_window_freq_test[vocab[j]]\n",
    "    pmi = log((1.0 * count / num_windowt) /\n",
    "              (1.0 * word_freq_i * word_freq_j/(num_windowt * num_windowt)))\n",
    "    if pmi <= 0:\n",
    "        continue\n",
    "    rowt.append(test_size +i)\n",
    "    colt.append(test_size + j)\n",
    "    weighttest.append(pmi)"
   ]
  },
  {
   "cell_type": "code",
   "execution_count": 201,
   "metadata": {},
   "outputs": [],
   "source": [
    "# doc word frequency\n",
    "doc_word_freq_test = defaultdict(lambda : 0)\n",
    "\n",
    "for doc_id, doc in enumerate(shuffled_document[train_size:]):\n",
    "    words = doc_words.split()\n",
    "    for word in words:\n",
    "        word_id = word_id_map[word]\n",
    "        doc_word_str = str(doc_id) + ',' + str(word_id)\n",
    "        doc_word_freq_test[doc_word_str]+=1"
   ]
  },
  {
   "cell_type": "code",
   "execution_count": 202,
   "metadata": {},
   "outputs": [
    {
     "name": "stdout",
     "output_type": "stream",
     "text": [
      "309 309 309 128 129\n"
     ]
    }
   ],
   "source": [
    "#Word-Doc node train weights\n",
    "for i, doc_words in enumerate(shuffled_document[train_size:]):\n",
    "    words = doc_words.split()\n",
    "    doc_word_set = set()\n",
    "    for word in words:\n",
    "        if word in doc_word_set:\n",
    "            continue\n",
    "        j = word_id_map[word]\n",
    "        key = str(i) + ',' + str(j)\n",
    "        freq = doc_word_freq_test[key]\n",
    "        rowt.append(i)\n",
    "        colt.append(test_size + j)\n",
    "        idf = log(1.0 * len(shuffled_document) /\n",
    "                  word_doc_freq[vocab[j]])\n",
    "        weighttest.append(freq * idf)\n",
    "#         print(len(col), len(weight))\n",
    "        doc_word_set.add(word)\n",
    "\n",
    "node_size = test_size + vocab_size \n",
    "\n",
    "print(len(rowt),len(colt), len(weighttest), max(rowt), node_size)\n",
    "#+ test_size\n",
    "adj = sp.csr_matrix(\n",
    "    (weighttest, (rowt, colt)), shape=(node_size, node_size))\n",
    "\n"
   ]
  },
  {
   "cell_type": "code",
   "execution_count": 203,
   "metadata": {},
   "outputs": [
    {
     "name": "stdout",
     "output_type": "stream",
     "text": [
      "1263 1263 1263 128 217\n"
     ]
    }
   ],
   "source": [
    "# word co-occurence with context windows\n",
    "window_size = 2\n",
    "windows = []\n",
    "\n",
    "for doc_words in shuffled_document[:train_size]:\n",
    "    words = doc_words.split()\n",
    "    length = len(words)\n",
    "    if length <= window_size:\n",
    "        windows.append(words)\n",
    "    else:\n",
    "        # print(length, length - window_size + 1)\n",
    "        for j in range(length - window_size + 1):\n",
    "            window = words[j: j + window_size]\n",
    "            windows.append(window)\n",
    "            \n",
    "word_window_freq = defaultdict(lambda :0)\n",
    "for window in windows:\n",
    "    appeared = set()\n",
    "    for word in window:\n",
    "        if word in appeared:\n",
    "            continue\n",
    "        word_window_freq[word]+=1\n",
    "        appeared.add(word)\n",
    "\n",
    "word_pair_count = defaultdict(lambda :0)\n",
    "for window in windows:\n",
    "    for i in range(1, len(window)):\n",
    "        for j in range(0,i):\n",
    "            word_i = window[i]\n",
    "            word_j = window[j]\n",
    "            word_i_id  = word_id_map[word_i]\n",
    "            word_j_id =  word_id_map[word_j]\n",
    "            if word_i_id == word_j_id:\n",
    "                continue\n",
    "            word_pair_str = str(word_i_id) + ',' + str(word_j_id)\n",
    "            word_pair_count[word_pair_str]+=1\n",
    "            word_pair_str = str(word_j_id) + ',' + str(word_i_id)\n",
    "            word_pair_count[word_pair_str]+=1\n",
    "            \n",
    "            \n",
    "# Word-Word node pmi as weights\n",
    "row = []\n",
    "col = []\n",
    "weight = []\n",
    "num_window = len(windows)\n",
    "\n",
    "for key in word_pair_count:\n",
    "    temp = key.split(',')\n",
    "    i = int(temp[0])\n",
    "    j = int(temp[1])\n",
    "    count = word_pair_count[key]\n",
    "    word_freq_i = word_window_freq[vocab[i]]\n",
    "    word_freq_j = word_window_freq[vocab[j]]\n",
    "    pmi = log((1.0 * count / num_window) /\n",
    "              (1.0 * word_freq_i * word_freq_j/(num_window * num_window)))\n",
    "    if pmi <= 0:\n",
    "        continue\n",
    "    row.append(test_size +i)\n",
    "    col.append(test_size + j)\n",
    "    weight.append(pmi)\n",
    "    \n",
    "    \n",
    "# doc word frequency\n",
    "doc_word_freq = defaultdict(lambda : 0)\n",
    "\n",
    "for doc_id, doc in enumerate(shuffled_document):\n",
    "    words = doc_words.split()\n",
    "    for word in words:\n",
    "        word_id = word_id_map[word]\n",
    "        doc_word_str = str(doc_id) + ',' + str(word_id)\n",
    "        doc_word_freq[doc_word_str]+=1\n",
    "        \n",
    "#Word-Doc node train weights\n",
    "for i, doc_words in enumerate(shuffled_document[:train_size]):\n",
    "    words = doc_words.split()\n",
    "    doc_word_set = set()\n",
    "    for word in words:\n",
    "        if word in doc_word_set:\n",
    "            continue\n",
    "        j = word_id_map[word]\n",
    "        key = str(i) + ',' + str(j)\n",
    "        freq = doc_word_freq[key]\n",
    "        row.append(i)\n",
    "        col.append(test_size + j)\n",
    "        idf = log(1.0 * len(shuffled_document) /\n",
    "                  word_doc_freq[vocab[j]])\n",
    "        weight.append(freq * idf)\n",
    "#         print(len(col), len(weight))\n",
    "        doc_word_set.add(word)\n",
    "\n",
    "node_size = train_size + vocab_size \n",
    "\n",
    "print(len(row),len(col), len(weight), max(row), node_size)\n",
    "#+ test_size\n",
    "adj = sp.csr_matrix(\n",
    "    (weight, (row, col)), shape=(node_size, node_size))"
   ]
  },
  {
   "cell_type": "markdown",
   "metadata": {},
   "source": [
    "# Training on GCN"
   ]
  },
  {
   "cell_type": "code",
   "execution_count": 204,
   "metadata": {},
   "outputs": [],
   "source": [
    "edge_list = []\n",
    "for r,c in zip(row,col):\n",
    "    edge_list.append((r,c))\n",
    "\n",
    "\n",
    "feature = train.astype('float32')\n",
    "edge_feature = np.array(weight).reshape(-1,1).astype('float32')"
   ]
  },
  {
   "cell_type": "code",
   "execution_count": 205,
   "metadata": {},
   "outputs": [],
   "source": [
    "# create a graph\n",
    "g = pgl.Graph(edges = edge_list,\n",
    "              num_nodes = node_size,\n",
    "              node_feat = {'nfeat':feature},\n",
    "              edge_feat ={'efeat': edge_feature})"
   ]
  },
  {
   "cell_type": "code",
   "execution_count": 206,
   "metadata": {},
   "outputs": [
    {
     "name": "stdout",
     "output_type": "stream",
     "text": [
      "There are 217 nodes in the graph.\n",
      "There are 1263 edges in the graph.\n"
     ]
    }
   ],
   "source": [
    "print('There are %d nodes in the graph.'%g.num_nodes)\n",
    "print('There are %d edges in the graph.'%g.num_edges)"
   ]
  },
  {
   "cell_type": "code",
   "execution_count": 207,
   "metadata": {},
   "outputs": [],
   "source": [
    "class GCN(nn.Layer):\n",
    "    \"\"\"Implement of GCN\n",
    "    \"\"\"\n",
    "\n",
    "    def __init__(self,\n",
    "                 input_size,\n",
    "                 num_class,\n",
    "                 num_layers=4,\n",
    "                 hidden_size=32,\n",
    "                 **kwargs):\n",
    "        super(GCN, self).__init__()\n",
    "        self.num_class = num_class\n",
    "        self.num_layers = num_layers\n",
    "        self.hidden_size = hidden_size\n",
    "        self.gcns = nn.LayerList()\n",
    "        for i in range(self.num_layers):\n",
    "            if i ==0:\n",
    "                self.gcns.append(\n",
    "                    pgl.nn.GCNConv(\n",
    "                        input_size,\n",
    "                        self.hidden_size,\n",
    "                        activation=\"relu\",\n",
    "                        norm=True))\n",
    "#             elif i <3:\n",
    "#                 self.gcns.append(\n",
    "#                     pgl.nn.GCNConv(\n",
    "#                         self.hidden_size,\n",
    "#                         self.hidden_size,\n",
    "#                         activation=\"relu\",\n",
    "#                         norm=True))\n",
    "                \n",
    "            else:\n",
    "                self.gcns.append(\n",
    "                    pgl.nn.GCNConv(\n",
    "                        self.hidden_size,\n",
    "                        self.hidden_size,\n",
    "                        activation=\"softmax\",\n",
    "                        norm=True))\n",
    "\n",
    "        self.output = nn.Linear(self.hidden_size, self.num_class)\n",
    "    def forward(self, graph, feature):\n",
    "        for m in self.gcns:\n",
    "            feature = m(graph, feature)\n",
    "        logits = self.output(feature)\n",
    "        return logits"
   ]
  },
  {
   "cell_type": "code",
   "execution_count": 208,
   "metadata": {},
   "outputs": [],
   "source": [
    "label = np.array(ally, dtype=\"float32\")\n",
    "g = g.tensor()\n",
    "y = paddle.to_tensor(label)\n",
    "gcn = GCN(117, 5)\n",
    "criterion = paddle.nn.loss.CrossEntropyLoss(soft_label=True)\n",
    "optim = Adam(learning_rate=0.01,\n",
    "             parameters=gcn.parameters())"
   ]
  },
  {
   "cell_type": "code",
   "execution_count": 209,
   "metadata": {},
   "outputs": [
    {
     "name": "stdout",
     "output_type": "stream",
     "text": [
      "epoch: 0 | loss: 1.6113\n",
      "epoch: 1000 | loss: 0.8624\n",
      "epoch: 2000 | loss: 0.4696\n",
      "epoch: 3000 | loss: 0.3226\n",
      "epoch: 4000 | loss: 0.2449\n",
      "epoch: 5000 | loss: 0.2327\n",
      "epoch: 6000 | loss: 0.2244\n",
      "epoch: 7000 | loss: 0.2184\n",
      "epoch: 8000 | loss: 0.2139\n",
      "epoch: 9000 | loss: 0.2108\n",
      "epoch: 10000 | loss: 0.3141\n",
      "epoch: 11000 | loss: 0.2008\n",
      "epoch: 12000 | loss: 0.1959\n",
      "epoch: 13000 | loss: 0.1943\n",
      "epoch: 14000 | loss: 0.1936\n",
      "epoch: 15000 | loss: 0.1932\n",
      "epoch: 16000 | loss: 0.1929\n",
      "epoch: 17000 | loss: 0.1927\n",
      "epoch: 18000 | loss: 0.1925\n",
      "epoch: 19000 | loss: 0.1925\n",
      "epoch: 20000 | loss: 0.1924\n",
      "epoch: 21000 | loss: 0.1923\n",
      "epoch: 22000 | loss: 0.1923\n",
      "epoch: 23000 | loss: 0.1923\n",
      "epoch: 24000 | loss: 0.1923\n",
      "epoch: 25000 | loss: 0.1923\n",
      "epoch: 26000 | loss: 0.1923\n",
      "epoch: 27000 | loss: 0.1923\n",
      "epoch: 28000 | loss: 0.1923\n",
      "epoch: 29000 | loss: 0.1923\n",
      "epoch: 30000 | loss: 0.1923\n",
      "epoch: 31000 | loss: 0.1923\n",
      "epoch: 32000 | loss: 0.1923\n",
      "epoch: 33000 | loss: 0.1925\n",
      "epoch: 34000 | loss: 0.1924\n",
      "epoch: 35000 | loss: 0.1923\n",
      "epoch: 36000 | loss: 0.1923\n",
      "epoch: 37000 | loss: 0.1923\n",
      "epoch: 38000 | loss: 0.1923\n",
      "epoch: 39000 | loss: 0.1923\n"
     ]
    }
   ],
   "source": [
    "gcn.train()\n",
    "for epoch in range(40000):\n",
    "    logits = gcn(g, g.node_feat['nfeat'])\n",
    "#     print(logits[:10])\n",
    "    loss = criterion(logits[:train_size], y)\n",
    "    loss.backward()\n",
    "    optim.step()\n",
    "    optim.clear_grad()\n",
    "    if epoch%1000 == 0:\n",
    "        print(\"epoch: %s | loss: %.4f\" % (epoch, loss.numpy()[0]))"
   ]
  },
  {
   "cell_type": "markdown",
   "metadata": {},
   "source": [
    "### Train accuracy"
   ]
  },
  {
   "cell_type": "code",
   "execution_count": 210,
   "metadata": {},
   "outputs": [],
   "source": [
    "logits = gcn.forward(g.tensor(),g.node_feat['nfeat'])\n",
    "pred = logits.argmax(axis=1)"
   ]
  },
  {
   "cell_type": "code",
   "execution_count": 211,
   "metadata": {},
   "outputs": [
    {
     "name": "stdout",
     "output_type": "stream",
     "text": [
      "The training accuracy is: 92.0%\n"
     ]
    }
   ],
   "source": [
    "accuracy = int((pred[:100]==y.argmax(axis=1)).sum())/train_size\n",
    "print(\"The training accuracy is:\", str(accuracy*100)+'%')"
   ]
  },
  {
   "cell_type": "markdown",
   "metadata": {},
   "source": [
    "### Test accuracy"
   ]
  },
  {
   "cell_type": "code",
   "execution_count": 212,
   "metadata": {},
   "outputs": [],
   "source": [
    "x_test = test.astype('float32')\n",
    "num_node = 129\n",
    "edge_list_test = []\n",
    "for r,c in zip(rowt,colt):\n",
    "    edge_list_test.append((r,c))\n",
    "edge_feature_test = np.array(weighttest).reshape(-1,1).astype('float32')"
   ]
  },
  {
   "cell_type": "code",
   "execution_count": 213,
   "metadata": {},
   "outputs": [],
   "source": [
    "g_test = pgl.Graph(edges = edge_list_test,\n",
    "              num_nodes = num_node,\n",
    "              node_feat = {'nfeat':x_test},\n",
    "              edge_feat ={'efeat': edge_feature_test})"
   ]
  },
  {
   "cell_type": "code",
   "execution_count": 214,
   "metadata": {},
   "outputs": [
    {
     "name": "stdout",
     "output_type": "stream",
     "text": [
      "There are 129 nodes in the graph.\n",
      "There are 309 edges in the graph.\n"
     ]
    }
   ],
   "source": [
    "print('There are %d nodes in the graph.'%g_test.num_nodes)\n",
    "print('There are %d edges in the graph.'%g_test.num_edges)"
   ]
  },
  {
   "cell_type": "code",
   "execution_count": 215,
   "metadata": {},
   "outputs": [],
   "source": [
    "gcn.eval()\n",
    "logits = gcn.forward(g_test.tensor(),g_test.node_feat['nfeat'])"
   ]
  },
  {
   "cell_type": "code",
   "execution_count": 216,
   "metadata": {},
   "outputs": [],
   "source": [
    "pred = logits.argmax(axis=1)"
   ]
  },
  {
   "cell_type": "code",
   "execution_count": 217,
   "metadata": {},
   "outputs": [
    {
     "data": {
      "text/plain": [
       "array([[0, 0, 0, 1, 0],\n",
       "       [0, 0, 1, 0, 0],\n",
       "       [0, 0, 0, 0, 1],\n",
       "       [0, 0, 0, 0, 1],\n",
       "       [0, 0, 1, 0, 0],\n",
       "       [0, 0, 0, 0, 1],\n",
       "       [0, 1, 0, 0, 0],\n",
       "       [0, 0, 0, 0, 1],\n",
       "       [0, 0, 0, 1, 0],\n",
       "       [0, 1, 0, 0, 0],\n",
       "       [1, 0, 0, 0, 0],\n",
       "       [0, 1, 0, 0, 0]])"
      ]
     },
     "execution_count": 217,
     "metadata": {},
     "output_type": "execute_result"
    }
   ],
   "source": [
    "ty"
   ]
  },
  {
   "cell_type": "code",
   "execution_count": 219,
   "metadata": {},
   "outputs": [
    {
     "name": "stdout",
     "output_type": "stream",
     "text": [
      "The test accuracy is: 33.33333333333333%\n"
     ]
    }
   ],
   "source": [
    "accuracy = (np.array(pred[:test_size])==ty.argmax(axis=1)).sum()/test_size\n",
    "print(\"The test accuracy is:\", str(accuracy*100)+'%')"
   ]
  }
 ],
 "metadata": {
  "kernelspec": {
   "display_name": "Python 3 (ipykernel)",
   "language": "python",
   "name": "python3"
  },
  "language_info": {
   "codemirror_mode": {
    "name": "ipython",
    "version": 3
   },
   "file_extension": ".py",
   "mimetype": "text/x-python",
   "name": "python",
   "nbconvert_exporter": "python",
   "pygments_lexer": "ipython3",
   "version": "3.9.7"
  }
 },
 "nbformat": 4,
 "nbformat_minor": 2
}
