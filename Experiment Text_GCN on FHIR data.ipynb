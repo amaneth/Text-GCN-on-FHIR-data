{
 "cells": [
  {
   "cell_type": "code",
   "execution_count": 1,
   "metadata": {},
   "outputs": [],
   "source": [
    "import json\n",
    "import pandas as pd\n",
    "import os\n",
    "import numpy as np"
   ]
  },
  {
   "cell_type": "code",
   "execution_count": 156,
   "metadata": {},
   "outputs": [],
   "source": [
    "#Location of each resource type\n",
    "#['category'][0]['coding'][0]['display'], Careplan\n",
    "\n",
    "#['type'][0]['text'], encounter\n",
    "#['vaccineCode']['coding'][0]['display'], immunization\n",
    "#['medicationCodeableConcept']['coding'][0]['display'], medication\n",
    "#['type']['coding'][0]['display']\n",
    "#['id'], patient\n",
    "#['code']['coding'][0]['display'], Procedure\n",
    "#['code']['coding'][0]['display'], condition\n",
    "#['code']['coding'][0]['display'], observation\n",
    "#['code']['coding'][0]['display'], diagonstic report\n",
    "\n",
    "#['vaccineCode']['coding'][0]['display'], immunization\n",
    "#['medicationCodeableConcept']['coding'][0]['display'], medication\n"
   ]
  },
  {
   "cell_type": "markdown",
   "metadata": {},
   "source": [
    "### Change the SYNTHEA STU-3 FHIR data to pandas dataframe "
   ]
  },
  {
   "cell_type": "code",
   "execution_count": 159,
   "metadata": {},
   "outputs": [],
   "source": [
    "directory = os.fsencode('SYNTHEA/')\n",
    "encounters,conditions,patient_ids,procedures, observations, dignotstics_reports, immunizations, medication_orders, careplans = ([] for _ in range(9))\n",
    "\n",
    "for file in os.listdir(directory):\n",
    "    filename = os.fsdecode(file)\n",
    "    with open('SYNTHEA/'+filename, \"r\") as read_file:\n",
    "        data = json.load(read_file)\n",
    "        resources = data['entry']\n",
    "        patient_id = resources[0]['resource']['id']\n",
    "        patient_ids.append(patient_id)\n",
    "        patient_encounters,patient_conditions, patient_procedures,patient_observations, patient_diagnostics_reports, patient_immunizations, patient_medication_orders, patient_careplans = (set() for _ in range(8))\n",
    "   \n",
    "        for resource in resources:\n",
    "            resource_type = resource['resource']['resourceType']\n",
    "            if resource_type =='Encounter':\n",
    "                patient_encounters.add(resource['resource']['type'][0]['coding'][0]['code'])\n",
    "            elif resource_type =='Condition':\n",
    "                patient_conditions.add(resource['resource']['code']['coding'][0]['code'])\n",
    "            elif resource_type =='Procedure':\n",
    "                patient_procedures.add(resource['resource']['code']['coding'][0]['code'])  \n",
    "            elif resource_type =='Observation':\n",
    "                patient_observations.add(resource['resource']['code']['coding'][0]['code'])\n",
    "            elif resource_type =='DiagnosticReport':\n",
    "                patient_diagnostics_reports.add(resource['resource']['code']['coding'][0]['code'])\n",
    "            elif resource_type == 'Immunization':\n",
    "                patient_immunizations.add(resource['resource']['vaccineCode']['coding'][0]['code'])\n",
    "            elif resource_type == 'MedicationOrder':\n",
    "                patient_medication_orders.add(resource['resource']['medicationCodeableConcept']['coding'][0]['code'])\n",
    "            elif resource_type == 'CarePlan':\n",
    "                patient_careplans.add(resource['resource']['category'][0]['coding'][0]['code'])\n",
    "        encounters.append(','.join(patient_encounters))\n",
    "        conditions.append(','.join(patient_conditions))\n",
    "        procedures.append(','.join(patient_procedures))\n",
    "        observations.append(','.join(patient_observations))\n",
    "        dignotstics_reports.append(','.join(patient_diagnostics_reports))\n",
    "        immunizations.append(','.join(patient_immunizations))\n",
    "        medication_orders.append(','.join(patient_medication_orders))\n",
    "        careplans.append(','.join(patient_careplans))\n",
    "        \n",
    "        \n",
    "data = {'patient': patient_ids,'Encounter': encounters, 'Condition': conditions, 'Procedure':procedures, 'Observation':observations, \n",
    "        'Diagnostics Report':dignotstics_reports, 'Immunization':immunizations, 'Medication Orders':medication_orders, 'Careplan': careplans}\n",
    "resource_df = pd.DataFrame(data)"
   ]
  },
  {
   "cell_type": "code",
   "execution_count": 160,
   "metadata": {},
   "outputs": [
    {
     "data": {
      "text/html": [
       "<div>\n",
       "<style scoped>\n",
       "    .dataframe tbody tr th:only-of-type {\n",
       "        vertical-align: middle;\n",
       "    }\n",
       "\n",
       "    .dataframe tbody tr th {\n",
       "        vertical-align: top;\n",
       "    }\n",
       "\n",
       "    .dataframe thead th {\n",
       "        text-align: right;\n",
       "    }\n",
       "</style>\n",
       "<table border=\"1\" class=\"dataframe\">\n",
       "  <thead>\n",
       "    <tr style=\"text-align: right;\">\n",
       "      <th></th>\n",
       "      <th>patient</th>\n",
       "      <th>Encounter</th>\n",
       "      <th>Condition</th>\n",
       "      <th>Procedure</th>\n",
       "      <th>Observation</th>\n",
       "      <th>Diagnostics Report</th>\n",
       "      <th>Immunization</th>\n",
       "      <th>Medication Orders</th>\n",
       "      <th>Careplan</th>\n",
       "    </tr>\n",
       "  </thead>\n",
       "  <tbody>\n",
       "    <tr>\n",
       "      <th>0</th>\n",
       "      <td>9f59ec59-5116-401b-bcbb-f019a6ca7a4f</td>\n",
       "      <td>185345009,50849002,183495009,170258001,185349003</td>\n",
       "      <td>44465007,444470001,10509002,359817006,44481400...</td>\n",
       "      <td>305428000,699253003,269911007,428191000124101</td>\n",
       "      <td>55284-4,29463-7,8302-2,39156-5,8331-1</td>\n",
       "      <td></td>\n",
       "      <td>140,115,114,62</td>\n",
       "      <td>198405,857005,310965,608680</td>\n",
       "      <td>385691007,91251008,53950000</td>\n",
       "    </tr>\n",
       "    <tr>\n",
       "      <th>1</th>\n",
       "      <td>765382db-8551-4733-8658-d9fc7b0f7ee8</td>\n",
       "      <td>185349003,185345009</td>\n",
       "      <td>44054006,368581000119106,10509002,15777000,444...</td>\n",
       "      <td>23426006,428191000124101</td>\n",
       "      <td>29463-7,39156-5,2339-0,18262-6,4548-4,49765-1,...</td>\n",
       "      <td>51990-0,57698-3</td>\n",
       "      <td>140,113</td>\n",
       "      <td>860975,608680</td>\n",
       "      <td>698360004,53950000</td>\n",
       "    </tr>\n",
       "    <tr>\n",
       "      <th>2</th>\n",
       "      <td>63927398-3432-4526-9960-0da4359e3be2</td>\n",
       "      <td>185349003,185345009,170258001</td>\n",
       "      <td>444814009,275272006,43878008</td>\n",
       "      <td>117015009,428191000124101</td>\n",
       "      <td>55284-4,29463-7,8302-2,39156-5,8331-1</td>\n",
       "      <td></td>\n",
       "      <td>140,62,114,113</td>\n",
       "      <td>824184,834101</td>\n",
       "      <td></td>\n",
       "    </tr>\n",
       "    <tr>\n",
       "      <th>3</th>\n",
       "      <td>7af203fe-86af-42a9-b6ee-f2c2828ead13</td>\n",
       "      <td>185349003,185345009</td>\n",
       "      <td>38341003,444814009,40055000</td>\n",
       "      <td>428191000124101</td>\n",
       "      <td>55284-4,33914-3,18262-6,29463-7,8302-2,39156-5...</td>\n",
       "      <td>57698-3</td>\n",
       "      <td>140,113</td>\n",
       "      <td>824184</td>\n",
       "      <td></td>\n",
       "    </tr>\n",
       "    <tr>\n",
       "      <th>4</th>\n",
       "      <td>9a0ea485-3bba-457f-bcaa-8cbb8fba34ef</td>\n",
       "      <td>185349003,185345009,183452005,50849002</td>\n",
       "      <td>44054006,428251008,15777000,444814009,19566200...</td>\n",
       "      <td>80146002,428191000124101</td>\n",
       "      <td>29463-7,39156-5,2339-0,18262-6,4548-4,49765-1,...</td>\n",
       "      <td>51990-0,57698-3</td>\n",
       "      <td>121,140,113</td>\n",
       "      <td>860975</td>\n",
       "      <td>47387005,698360004</td>\n",
       "    </tr>\n",
       "  </tbody>\n",
       "</table>\n",
       "</div>"
      ],
      "text/plain": [
       "                                patient  \\\n",
       "0  9f59ec59-5116-401b-bcbb-f019a6ca7a4f   \n",
       "1  765382db-8551-4733-8658-d9fc7b0f7ee8   \n",
       "2  63927398-3432-4526-9960-0da4359e3be2   \n",
       "3  7af203fe-86af-42a9-b6ee-f2c2828ead13   \n",
       "4  9a0ea485-3bba-457f-bcaa-8cbb8fba34ef   \n",
       "\n",
       "                                          Encounter  \\\n",
       "0  185345009,50849002,183495009,170258001,185349003   \n",
       "1                               185349003,185345009   \n",
       "2                     185349003,185345009,170258001   \n",
       "3                               185349003,185345009   \n",
       "4            185349003,185345009,183452005,50849002   \n",
       "\n",
       "                                           Condition  \\\n",
       "0  44465007,444470001,10509002,359817006,44481400...   \n",
       "1  44054006,368581000119106,10509002,15777000,444...   \n",
       "2                       444814009,275272006,43878008   \n",
       "3                        38341003,444814009,40055000   \n",
       "4  44054006,428251008,15777000,444814009,19566200...   \n",
       "\n",
       "                                       Procedure  \\\n",
       "0  305428000,699253003,269911007,428191000124101   \n",
       "1                       23426006,428191000124101   \n",
       "2                      117015009,428191000124101   \n",
       "3                                428191000124101   \n",
       "4                       80146002,428191000124101   \n",
       "\n",
       "                                         Observation Diagnostics Report  \\\n",
       "0              55284-4,29463-7,8302-2,39156-5,8331-1                      \n",
       "1  29463-7,39156-5,2339-0,18262-6,4548-4,49765-1,...    51990-0,57698-3   \n",
       "2              55284-4,29463-7,8302-2,39156-5,8331-1                      \n",
       "3  55284-4,33914-3,18262-6,29463-7,8302-2,39156-5...            57698-3   \n",
       "4  29463-7,39156-5,2339-0,18262-6,4548-4,49765-1,...    51990-0,57698-3   \n",
       "\n",
       "     Immunization            Medication Orders                     Careplan  \n",
       "0  140,115,114,62  198405,857005,310965,608680  385691007,91251008,53950000  \n",
       "1         140,113                860975,608680           698360004,53950000  \n",
       "2  140,62,114,113                824184,834101                               \n",
       "3         140,113                       824184                               \n",
       "4     121,140,113                       860975           47387005,698360004  "
      ]
     },
     "execution_count": 160,
     "metadata": {},
     "output_type": "execute_result"
    }
   ],
   "source": [
    "resource_df.head()"
   ]
  },
  {
   "cell_type": "code",
   "execution_count": 161,
   "metadata": {},
   "outputs": [
    {
     "data": {
      "text/plain": [
       "Index(['patient', 'Encounter', 'Condition', 'Procedure', 'Observation',\n",
       "       'Diagnostics Report', 'Immunization', 'Medication Orders', 'Careplan'],\n",
       "      dtype='object')"
      ]
     },
     "execution_count": 161,
     "metadata": {},
     "output_type": "execute_result"
    }
   ],
   "source": [
    "resource_df.columns"
   ]
  },
  {
   "cell_type": "code",
   "execution_count": 162,
   "metadata": {},
   "outputs": [],
   "source": [
    "res = resource_df.replace('', np.nan)"
   ]
  },
  {
   "cell_type": "code",
   "execution_count": 163,
   "metadata": {},
   "outputs": [
    {
     "data": {
      "text/plain": [
       "patient                 0\n",
       "Encounter               1\n",
       "Condition              47\n",
       "Procedure             222\n",
       "Observation             3\n",
       "Diagnostics Report    312\n",
       "Immunization          209\n",
       "Medication Orders      91\n",
       "Careplan              156\n",
       "dtype: int64"
      ]
     },
     "execution_count": 163,
     "metadata": {},
     "output_type": "execute_result"
    }
   ],
   "source": [
    "res.isnull().sum()"
   ]
  },
  {
   "cell_type": "code",
   "execution_count": 165,
   "metadata": {},
   "outputs": [],
   "source": [
    "#drop patients with null values for datasets understudy\n",
    "res_condition = res.dropna(axis=0, how='any', subset=['Condition','Procedure', 'Medication Orders', 'Observation'])"
   ]
  },
  {
   "cell_type": "code",
   "execution_count": 166,
   "metadata": {},
   "outputs": [
    {
     "data": {
      "text/plain": [
       "(721, 9)"
      ]
     },
     "execution_count": 166,
     "metadata": {},
     "output_type": "execute_result"
    }
   ],
   "source": [
    "res_condition.shape"
   ]
  },
  {
   "cell_type": "code",
   "execution_count": 167,
   "metadata": {},
   "outputs": [
    {
     "data": {
      "text/plain": [
       "patient                 0\n",
       "Encounter               0\n",
       "Condition               0\n",
       "Procedure               0\n",
       "Observation             0\n",
       "Diagnostics Report    271\n",
       "Immunization            2\n",
       "Medication Orders       0\n",
       "Careplan               62\n",
       "dtype: int64"
      ]
     },
     "execution_count": 167,
     "metadata": {},
     "output_type": "execute_result"
    }
   ],
   "source": [
    "res_condition.isnull().sum()"
   ]
  },
  {
   "cell_type": "code",
   "execution_count": 168,
   "metadata": {},
   "outputs": [],
   "source": [
    "diseases = []\n",
    "disease_bundled = []\n",
    "for condition in res_condition['Condition'].values:\n",
    "    diseases.extend(condition.split(','))\n",
    "    disease_bundled.append(condition.split(','))"
   ]
  },
  {
   "cell_type": "code",
   "execution_count": 169,
   "metadata": {},
   "outputs": [
    {
     "data": {
      "text/plain": [
       "3298"
      ]
     },
     "execution_count": 169,
     "metadata": {},
     "output_type": "execute_result"
    }
   ],
   "source": [
    "len(diseases)"
   ]
  },
  {
   "cell_type": "code",
   "execution_count": 170,
   "metadata": {},
   "outputs": [],
   "source": [
    "from collections import Counter\n",
    "\n",
    "disease_count = Counter(diseases)"
   ]
  },
  {
   "cell_type": "code",
   "execution_count": 171,
   "metadata": {},
   "outputs": [
    {
     "data": {
      "text/plain": [
       "Counter({'44465007': 74,\n",
       "         '444470001': 5,\n",
       "         '10509002': 280,\n",
       "         '359817006': 7,\n",
       "         '444814009': 444,\n",
       "         '195662009': 296,\n",
       "         '44054006': 30,\n",
       "         '368581000119106': 13,\n",
       "         '15777000': 200,\n",
       "         '38341003': 188,\n",
       "         '275272006': 5,\n",
       "         '43878008': 115,\n",
       "         '40055000': 122,\n",
       "         '428251008': 33,\n",
       "         '74400008': 33,\n",
       "         '422034002': 8,\n",
       "         '62106007': 43,\n",
       "         '39848009': 42,\n",
       "         '410429000': 19,\n",
       "         '429007001': 19,\n",
       "         '72892002': 88,\n",
       "         '398254007': 9,\n",
       "         '33737001': 12,\n",
       "         '195967001': 24,\n",
       "         '239873007': 32,\n",
       "         '230690007': 34,\n",
       "         '65363002': 101,\n",
       "         '367498001': 11,\n",
       "         '233678006': 23,\n",
       "         '233604007': 4,\n",
       "         '26929004': 17,\n",
       "         '64859006': 48,\n",
       "         '423121009': 7,\n",
       "         '254637007': 10,\n",
       "         '162573006': 11,\n",
       "         '82423001': 5,\n",
       "         '15724005': 1,\n",
       "         '284549007': 18,\n",
       "         '403190006': 19,\n",
       "         '35999006': 7,\n",
       "         '19169002': 16,\n",
       "         '403191005': 14,\n",
       "         '403192003': 4,\n",
       "         '263102004': 24,\n",
       "         '24079001': 31,\n",
       "         '75498004': 36,\n",
       "         '232353008': 28,\n",
       "         '36971009': 42,\n",
       "         '283371005': 27,\n",
       "         '284551006': 19,\n",
       "         '185086009': 15,\n",
       "         '68496003': 39,\n",
       "         '713197008': 13,\n",
       "         '109838007': 5,\n",
       "         '38822007': 13,\n",
       "         '267253006': 13,\n",
       "         '85116003': 8,\n",
       "         '301011002': 23,\n",
       "         '58150001': 23,\n",
       "         '53741008': 36,\n",
       "         '65966004': 26,\n",
       "         '283385000': 26,\n",
       "         '16114001': 14,\n",
       "         '370247008': 26,\n",
       "         '307731004': 7,\n",
       "         '30832001': 7,\n",
       "         '192127007': 22,\n",
       "         '6072007': 1,\n",
       "         '236077008': 1,\n",
       "         '22298006': 10,\n",
       "         '399211009': 10,\n",
       "         '201834006': 13,\n",
       "         '86849004': 1,\n",
       "         '287182007': 1,\n",
       "         '127013003': 8,\n",
       "         '262574004': 1,\n",
       "         '70704007': 42,\n",
       "         '87433001': 15,\n",
       "         '241929008': 14,\n",
       "         '197927001': 6,\n",
       "         '157141000119108': 1,\n",
       "         '90781000119102': 3,\n",
       "         '40275004': 7,\n",
       "         '62564004': 9,\n",
       "         '443165006': 13,\n",
       "         '425048006': 3,\n",
       "         '446096008': 23,\n",
       "         '47693006': 8,\n",
       "         '239872002': 3,\n",
       "         '128613002': 15,\n",
       "         '703151001': 15,\n",
       "         '1551000119108': 6,\n",
       "         '124171000119105': 3,\n",
       "         '95417003': 1,\n",
       "         '1501000119109': 3,\n",
       "         '97331000119101': 1,\n",
       "         '239720000': 3,\n",
       "         '84757009': 9,\n",
       "         '198992004': 6,\n",
       "         '230265002': 2,\n",
       "         '69896004': 1,\n",
       "         '444448004': 4,\n",
       "         '90560007': 4,\n",
       "         '55680006': 6,\n",
       "         '93761005': 2,\n",
       "         '110030002': 2,\n",
       "         '363406005': 2,\n",
       "         '254632001': 1,\n",
       "         '67841000119103': 1,\n",
       "         '37849005': 2,\n",
       "         '609496007': 1,\n",
       "         '196416002': 1})"
      ]
     },
     "execution_count": 171,
     "metadata": {},
     "output_type": "execute_result"
    }
   ],
   "source": [
    "disease_count"
   ]
  },
  {
   "cell_type": "code",
   "execution_count": 172,
   "metadata": {},
   "outputs": [
    {
     "data": {
      "text/plain": [
       "<BarContainer object of 112 artists>"
      ]
     },
     "execution_count": 172,
     "metadata": {},
     "output_type": "execute_result"
    },
    {
     "data": {
      "image/png": "[encoded data removed]",
      "text/plain": [
       "<Figure size 2160x360 with 1 Axes>"
      ]
     },
     "metadata": {
      "needs_background": "light"
     },
     "output_type": "display_data"
    }
   ],
   "source": [
    "import matplotlib.pyplot as plt\n",
    "disease_count_sorted = dict(sorted(disease_count.items(), key= lambda item: item[1]))\n",
    "cases = list(disease_count_sorted.keys())\n",
    "count = list(disease_count_sorted.values())\n",
    "fig = plt.figure(figsize=(30,5))\n",
    "plt.bar(cases, count)"
   ]
  },
  {
   "cell_type": "code",
   "execution_count": 173,
   "metadata": {},
   "outputs": [
    {
     "data": {
      "text/plain": [
       "{'15724005': 1,\n",
       " '6072007': 1,\n",
       " '236077008': 1,\n",
       " '86849004': 1,\n",
       " '287182007': 1,\n",
       " '262574004': 1,\n",
       " '157141000119108': 1,\n",
       " '95417003': 1,\n",
       " '97331000119101': 1,\n",
       " '69896004': 1,\n",
       " '254632001': 1,\n",
       " '67841000119103': 1,\n",
       " '609496007': 1,\n",
       " '196416002': 1,\n",
       " '230265002': 2,\n",
       " '93761005': 2,\n",
       " '110030002': 2,\n",
       " '363406005': 2,\n",
       " '37849005': 2,\n",
       " '90781000119102': 3,\n",
       " '425048006': 3,\n",
       " '239872002': 3,\n",
       " '124171000119105': 3,\n",
       " '1501000119109': 3,\n",
       " '239720000': 3,\n",
       " '233604007': 4,\n",
       " '403192003': 4,\n",
       " '444448004': 4,\n",
       " '90560007': 4,\n",
       " '444470001': 5,\n",
       " '275272006': 5,\n",
       " '82423001': 5,\n",
       " '109838007': 5,\n",
       " '197927001': 6,\n",
       " '1551000119108': 6,\n",
       " '198992004': 6,\n",
       " '55680006': 6,\n",
       " '359817006': 7,\n",
       " '423121009': 7,\n",
       " '35999006': 7,\n",
       " '307731004': 7,\n",
       " '30832001': 7,\n",
       " '40275004': 7,\n",
       " '422034002': 8,\n",
       " '85116003': 8,\n",
       " '127013003': 8,\n",
       " '47693006': 8,\n",
       " '398254007': 9,\n",
       " '62564004': 9,\n",
       " '84757009': 9,\n",
       " '254637007': 10,\n",
       " '22298006': 10,\n",
       " '399211009': 10,\n",
       " '367498001': 11,\n",
       " '162573006': 11,\n",
       " '33737001': 12,\n",
       " '368581000119106': 13,\n",
       " '713197008': 13,\n",
       " '38822007': 13,\n",
       " '267253006': 13,\n",
       " '201834006': 13,\n",
       " '443165006': 13,\n",
       " '403191005': 14,\n",
       " '16114001': 14,\n",
       " '241929008': 14,\n",
       " '185086009': 15,\n",
       " '87433001': 15,\n",
       " '128613002': 15,\n",
       " '703151001': 15,\n",
       " '19169002': 16,\n",
       " '26929004': 17,\n",
       " '284549007': 18,\n",
       " '410429000': 19,\n",
       " '429007001': 19,\n",
       " '403190006': 19,\n",
       " '284551006': 19,\n",
       " '192127007': 22,\n",
       " '233678006': 23,\n",
       " '301011002': 23,\n",
       " '58150001': 23,\n",
       " '446096008': 23,\n",
       " '195967001': 24,\n",
       " '263102004': 24,\n",
       " '65966004': 26,\n",
       " '283385000': 26,\n",
       " '370247008': 26,\n",
       " '283371005': 27,\n",
       " '232353008': 28,\n",
       " '44054006': 30,\n",
       " '24079001': 31,\n",
       " '239873007': 32,\n",
       " '428251008': 33,\n",
       " '74400008': 33,\n",
       " '230690007': 34,\n",
       " '75498004': 36,\n",
       " '53741008': 36,\n",
       " '68496003': 39,\n",
       " '39848009': 42,\n",
       " '36971009': 42,\n",
       " '70704007': 42,\n",
       " '62106007': 43,\n",
       " '64859006': 48,\n",
       " '44465007': 74,\n",
       " '72892002': 88,\n",
       " '65363002': 101,\n",
       " '43878008': 115,\n",
       " '40055000': 122,\n",
       " '38341003': 188,\n",
       " '15777000': 200,\n",
       " '10509002': 280,\n",
       " '195662009': 296,\n",
       " '444814009': 444}"
      ]
     },
     "execution_count": 173,
     "metadata": {},
     "output_type": "execute_result"
    }
   ],
   "source": [
    "disease_count_sorted"
   ]
  },
  {
   "cell_type": "markdown",
   "metadata": {},
   "source": [
    "###  Choose conditions for study"
   ]
  },
  {
   "cell_type": "code",
   "execution_count": 174,
   "metadata": {},
   "outputs": [
    {
     "name": "stdout",
     "output_type": "stream",
     "text": [
      "['38341003', '15777000', '10509002', '195662009', '444814009']\n"
     ]
    }
   ],
   "source": [
    "candidates = list(disease_count_sorted.keys())[-5:]\n",
    "print(candidates)"
   ]
  },
  {
   "cell_type": "code",
   "execution_count": 175,
   "metadata": {},
   "outputs": [],
   "source": [
    "from collections import defaultdict\n",
    "case_intersection = defaultdict(lambda: [])\n",
    "for case1 in candidates:\n",
    "    for case2 in candidates:\n",
    "        count = 0\n",
    "        for case in disease_gross:\n",
    "            if case1 in case and case2 in case:\n",
    "                count+=1\n",
    "        case_intersection[case1].append(count)\n",
    "                \n",
    "                \n",
    "    "
   ]
  },
  {
   "cell_type": "code",
   "execution_count": 180,
   "metadata": {},
   "outputs": [],
   "source": [
    "#Check comorbidity between candidates for study\n",
    "case_intersection_df = pd.DataFrame(case_intersection, index = list(case_intersection.keys()))"
   ]
  },
  {
   "cell_type": "code",
   "execution_count": 181,
   "metadata": {},
   "outputs": [
    {
     "data": {
      "text/html": [
       "<div>\n",
       "<style scoped>\n",
       "    .dataframe tbody tr th:only-of-type {\n",
       "        vertical-align: middle;\n",
       "    }\n",
       "\n",
       "    .dataframe tbody tr th {\n",
       "        vertical-align: top;\n",
       "    }\n",
       "\n",
       "    .dataframe thead th {\n",
       "        text-align: right;\n",
       "    }\n",
       "</style>\n",
       "<table border=\"1\" class=\"dataframe\">\n",
       "  <thead>\n",
       "    <tr style=\"text-align: right;\">\n",
       "      <th></th>\n",
       "      <th>38341003</th>\n",
       "      <th>15777000</th>\n",
       "      <th>10509002</th>\n",
       "      <th>195662009</th>\n",
       "      <th>444814009</th>\n",
       "    </tr>\n",
       "  </thead>\n",
       "  <tbody>\n",
       "    <tr>\n",
       "      <th>38341003</th>\n",
       "      <td>188</td>\n",
       "      <td>60</td>\n",
       "      <td>69</td>\n",
       "      <td>82</td>\n",
       "      <td>124</td>\n",
       "    </tr>\n",
       "    <tr>\n",
       "      <th>15777000</th>\n",
       "      <td>60</td>\n",
       "      <td>200</td>\n",
       "      <td>80</td>\n",
       "      <td>81</td>\n",
       "      <td>124</td>\n",
       "    </tr>\n",
       "    <tr>\n",
       "      <th>10509002</th>\n",
       "      <td>69</td>\n",
       "      <td>80</td>\n",
       "      <td>280</td>\n",
       "      <td>122</td>\n",
       "      <td>177</td>\n",
       "    </tr>\n",
       "    <tr>\n",
       "      <th>195662009</th>\n",
       "      <td>82</td>\n",
       "      <td>81</td>\n",
       "      <td>122</td>\n",
       "      <td>296</td>\n",
       "      <td>192</td>\n",
       "    </tr>\n",
       "    <tr>\n",
       "      <th>444814009</th>\n",
       "      <td>124</td>\n",
       "      <td>124</td>\n",
       "      <td>177</td>\n",
       "      <td>192</td>\n",
       "      <td>444</td>\n",
       "    </tr>\n",
       "  </tbody>\n",
       "</table>\n",
       "</div>"
      ],
      "text/plain": [
       "           38341003  15777000  10509002  195662009  444814009\n",
       "38341003        188        60        69         82        124\n",
       "15777000         60       200        80         81        124\n",
       "10509002         69        80       280        122        177\n",
       "195662009        82        81       122        296        192\n",
       "444814009       124       124       177        192        444"
      ]
     },
     "execution_count": 181,
     "metadata": {},
     "output_type": "execute_result"
    }
   ],
   "source": [
    "case_intersection_df"
   ]
  },
  {
   "cell_type": "code",
   "execution_count": 182,
   "metadata": {},
   "outputs": [
    {
     "name": "stderr",
     "output_type": "stream",
     "text": [
      "/var/folders/9n/gzwg3s7j7pn060z120b3pb_h0000gn/T/ipykernel_50495/2729502969.py:1: FutureWarning: Using a non-tuple sequence for multidimensional indexing is deprecated; use `arr[tuple(seq)]` instead of `arr[seq]`. In the future this will be interpreted as an array index, `arr[np.array(seq)]`, which will result either in an error or a different result.\n",
      "  case_intersection_df.values[[np.arange(case_intersection_df.shape[0])]*2] = 0\n"
     ]
    }
   ],
   "source": [
    "case_intersection_df.values[[np.arange(case_intersection_df.shape[0])]*2] = 0"
   ]
  },
  {
   "cell_type": "code",
   "execution_count": 183,
   "metadata": {},
   "outputs": [
    {
     "data": {
      "text/html": [
       "<div>\n",
       "<style scoped>\n",
       "    .dataframe tbody tr th:only-of-type {\n",
       "        vertical-align: middle;\n",
       "    }\n",
       "\n",
       "    .dataframe tbody tr th {\n",
       "        vertical-align: top;\n",
       "    }\n",
       "\n",
       "    .dataframe thead th {\n",
       "        text-align: right;\n",
       "    }\n",
       "</style>\n",
       "<table border=\"1\" class=\"dataframe\">\n",
       "  <thead>\n",
       "    <tr style=\"text-align: right;\">\n",
       "      <th></th>\n",
       "      <th>38341003</th>\n",
       "      <th>15777000</th>\n",
       "      <th>10509002</th>\n",
       "      <th>195662009</th>\n",
       "      <th>444814009</th>\n",
       "    </tr>\n",
       "  </thead>\n",
       "  <tbody>\n",
       "    <tr>\n",
       "      <th>38341003</th>\n",
       "      <td>0</td>\n",
       "      <td>60</td>\n",
       "      <td>69</td>\n",
       "      <td>82</td>\n",
       "      <td>124</td>\n",
       "    </tr>\n",
       "    <tr>\n",
       "      <th>15777000</th>\n",
       "      <td>60</td>\n",
       "      <td>0</td>\n",
       "      <td>80</td>\n",
       "      <td>81</td>\n",
       "      <td>124</td>\n",
       "    </tr>\n",
       "    <tr>\n",
       "      <th>10509002</th>\n",
       "      <td>69</td>\n",
       "      <td>80</td>\n",
       "      <td>0</td>\n",
       "      <td>122</td>\n",
       "      <td>177</td>\n",
       "    </tr>\n",
       "    <tr>\n",
       "      <th>195662009</th>\n",
       "      <td>82</td>\n",
       "      <td>81</td>\n",
       "      <td>122</td>\n",
       "      <td>0</td>\n",
       "      <td>192</td>\n",
       "    </tr>\n",
       "    <tr>\n",
       "      <th>444814009</th>\n",
       "      <td>124</td>\n",
       "      <td>124</td>\n",
       "      <td>177</td>\n",
       "      <td>192</td>\n",
       "      <td>0</td>\n",
       "    </tr>\n",
       "  </tbody>\n",
       "</table>\n",
       "</div>"
      ],
      "text/plain": [
       "           38341003  15777000  10509002  195662009  444814009\n",
       "38341003          0        60        69         82        124\n",
       "15777000         60         0        80         81        124\n",
       "10509002         69        80         0        122        177\n",
       "195662009        82        81       122          0        192\n",
       "444814009       124       124       177        192          0"
      ]
     },
     "execution_count": 183,
     "metadata": {},
     "output_type": "execute_result"
    }
   ],
   "source": [
    "case_intersection_df"
   ]
  },
  {
   "cell_type": "code",
   "execution_count": 184,
   "metadata": {},
   "outputs": [
    {
     "data": {
      "text/plain": [
       "38341003     335\n",
       "15777000     345\n",
       "10509002     448\n",
       "195662009    477\n",
       "444814009    617\n",
       "dtype: int64"
      ]
     },
     "execution_count": 184,
     "metadata": {},
     "output_type": "execute_result"
    }
   ],
   "source": [
    "case_intersection_df.sum(axis=1)"
   ]
  },
  {
   "cell_type": "code",
   "execution_count": 185,
   "metadata": {},
   "outputs": [
    {
     "data": {
      "text/plain": [
       "['38341003', '15777000', '10509002', '195662009', '444814009']"
      ]
     },
     "execution_count": 185,
     "metadata": {},
     "output_type": "execute_result"
    }
   ],
   "source": [
    "candidates"
   ]
  },
  {
   "cell_type": "code",
   "execution_count": 186,
   "metadata": {},
   "outputs": [],
   "source": [
    "common = []\n",
    "for case in disease_gross:\n",
    "    common.append(np.in1d(np.array(candidates), np.array(case)).sum())"
   ]
  },
  {
   "cell_type": "code",
   "execution_count": 187,
   "metadata": {},
   "outputs": [],
   "source": [
    "unique_indicies = []\n",
    "for i in range(len(common)):\n",
    "    if common[i]==1:\n",
    "        unique_indicies.append(i)\n",
    "        "
   ]
  },
  {
   "cell_type": "code",
   "execution_count": 188,
   "metadata": {},
   "outputs": [
    {
     "data": {
      "text/plain": [
       "183"
      ]
     },
     "execution_count": 188,
     "metadata": {},
     "output_type": "execute_result"
    }
   ],
   "source": [
    "len(unique_indicies)"
   ]
  },
  {
   "cell_type": "code",
   "execution_count": 190,
   "metadata": {},
   "outputs": [],
   "source": [
    "selected_df = res_condition.iloc[unique_indicies]"
   ]
  },
  {
   "cell_type": "code",
   "execution_count": 191,
   "metadata": {},
   "outputs": [
    {
     "data": {
      "text/plain": [
       "(183, 9)"
      ]
     },
     "execution_count": 191,
     "metadata": {},
     "output_type": "execute_result"
    }
   ],
   "source": [
    "selected_df.shape"
   ]
  },
  {
   "cell_type": "code",
   "execution_count": 192,
   "metadata": {},
   "outputs": [
    {
     "data": {
      "text/html": [
       "<div>\n",
       "<style scoped>\n",
       "    .dataframe tbody tr th:only-of-type {\n",
       "        vertical-align: middle;\n",
       "    }\n",
       "\n",
       "    .dataframe tbody tr th {\n",
       "        vertical-align: top;\n",
       "    }\n",
       "\n",
       "    .dataframe thead th {\n",
       "        text-align: right;\n",
       "    }\n",
       "</style>\n",
       "<table border=\"1\" class=\"dataframe\">\n",
       "  <thead>\n",
       "    <tr style=\"text-align: right;\">\n",
       "      <th></th>\n",
       "      <th>patient</th>\n",
       "      <th>Encounter</th>\n",
       "      <th>Condition</th>\n",
       "      <th>Procedure</th>\n",
       "      <th>Observation</th>\n",
       "      <th>Diagnostics Report</th>\n",
       "      <th>Immunization</th>\n",
       "      <th>Medication Orders</th>\n",
       "      <th>Careplan</th>\n",
       "    </tr>\n",
       "  </thead>\n",
       "  <tbody>\n",
       "    <tr>\n",
       "      <th>2</th>\n",
       "      <td>63927398-3432-4526-9960-0da4359e3be2</td>\n",
       "      <td>185349003,185345009,170258001</td>\n",
       "      <td>444814009,275272006,43878008</td>\n",
       "      <td>117015009,428191000124101</td>\n",
       "      <td>55284-4,29463-7,8302-2,39156-5,8331-1</td>\n",
       "      <td>NaN</td>\n",
       "      <td>140,62,114,113</td>\n",
       "      <td>824184,834101</td>\n",
       "      <td>NaN</td>\n",
       "    </tr>\n",
       "    <tr>\n",
       "      <th>5</th>\n",
       "      <td>77e05358-bfd9-4399-a474-1fab36f31975</td>\n",
       "      <td>424619006,183460006,424441002,698314001,508490...</td>\n",
       "      <td>39848009,410429000,429007001,72892002,44465007...</td>\n",
       "      <td>31208007,274474001,428191000124101,252160004,6...</td>\n",
       "      <td>55284-4,33914-3,29463-7,8302-2,39156-5</td>\n",
       "      <td>NaN</td>\n",
       "      <td>140,115,114,62</td>\n",
       "      <td>757594,198405,313782,310965</td>\n",
       "      <td>872781000000100,91251008,698358001,385691007,1...</td>\n",
       "    </tr>\n",
       "    <tr>\n",
       "      <th>9</th>\n",
       "      <td>fe1bba02-f021-4e12-81da-2b8f42988574</td>\n",
       "      <td>185345009,698314001,50849002,183495009,185349003</td>\n",
       "      <td>444470001,10509002</td>\n",
       "      <td>699253003,269911007,428191000124101</td>\n",
       "      <td>55284-4,18262-6,29463-7,8302-2,39156-5,2571-8,...</td>\n",
       "      <td>57698-3</td>\n",
       "      <td>140,113</td>\n",
       "      <td>749762,861467,834060,849574,831533,1020137</td>\n",
       "      <td>91251008,53950000</td>\n",
       "    </tr>\n",
       "    <tr>\n",
       "      <th>16</th>\n",
       "      <td>0a651432-c1df-4319-bd05-163626dcc32d</td>\n",
       "      <td>185349003,50849002</td>\n",
       "      <td>38341003,44465007</td>\n",
       "      <td>428191000124101</td>\n",
       "      <td>55284-4,33914-3,29463-7,8302-2,39156-5</td>\n",
       "      <td>NaN</td>\n",
       "      <td>140,113</td>\n",
       "      <td>310965</td>\n",
       "      <td>91251008</td>\n",
       "    </tr>\n",
       "    <tr>\n",
       "      <th>21</th>\n",
       "      <td>e223f58a-7029-4287-8e91-83b67336c3da</td>\n",
       "      <td>185345009,185347001,170258001</td>\n",
       "      <td>233678006,444814009</td>\n",
       "      <td>171231001,395142003,428191000124101</td>\n",
       "      <td>6189-5,29463-7,39156-5,6075-6,6158-0,6844-5,68...</td>\n",
       "      <td>NaN</td>\n",
       "      <td>83,49,20,140,08,133,03,21,119,10</td>\n",
       "      <td>727316,665078,895994,745679</td>\n",
       "      <td>326051000000105,699728000</td>\n",
       "    </tr>\n",
       "  </tbody>\n",
       "</table>\n",
       "</div>"
      ],
      "text/plain": [
       "                                 patient  \\\n",
       "2   63927398-3432-4526-9960-0da4359e3be2   \n",
       "5   77e05358-bfd9-4399-a474-1fab36f31975   \n",
       "9   fe1bba02-f021-4e12-81da-2b8f42988574   \n",
       "16  0a651432-c1df-4319-bd05-163626dcc32d   \n",
       "21  e223f58a-7029-4287-8e91-83b67336c3da   \n",
       "\n",
       "                                            Encounter  \\\n",
       "2                       185349003,185345009,170258001   \n",
       "5   424619006,183460006,424441002,698314001,508490...   \n",
       "9    185345009,698314001,50849002,183495009,185349003   \n",
       "16                                 185349003,50849002   \n",
       "21                      185345009,185347001,170258001   \n",
       "\n",
       "                                            Condition  \\\n",
       "2                        444814009,275272006,43878008   \n",
       "5   39848009,410429000,429007001,72892002,44465007...   \n",
       "9                                  444470001,10509002   \n",
       "16                                  38341003,44465007   \n",
       "21                                233678006,444814009   \n",
       "\n",
       "                                            Procedure  \\\n",
       "2                           117015009,428191000124101   \n",
       "5   31208007,274474001,428191000124101,252160004,6...   \n",
       "9                 699253003,269911007,428191000124101   \n",
       "16                                    428191000124101   \n",
       "21                171231001,395142003,428191000124101   \n",
       "\n",
       "                                          Observation Diagnostics Report  \\\n",
       "2               55284-4,29463-7,8302-2,39156-5,8331-1                NaN   \n",
       "5              55284-4,33914-3,29463-7,8302-2,39156-5                NaN   \n",
       "9   55284-4,18262-6,29463-7,8302-2,39156-5,2571-8,...            57698-3   \n",
       "16             55284-4,33914-3,29463-7,8302-2,39156-5                NaN   \n",
       "21  6189-5,29463-7,39156-5,6075-6,6158-0,6844-5,68...                NaN   \n",
       "\n",
       "                        Immunization  \\\n",
       "2                     140,62,114,113   \n",
       "5                     140,115,114,62   \n",
       "9                            140,113   \n",
       "16                           140,113   \n",
       "21  83,49,20,140,08,133,03,21,119,10   \n",
       "\n",
       "                             Medication Orders  \\\n",
       "2                                824184,834101   \n",
       "5                  757594,198405,313782,310965   \n",
       "9   749762,861467,834060,849574,831533,1020137   \n",
       "16                                      310965   \n",
       "21                 727316,665078,895994,745679   \n",
       "\n",
       "                                             Careplan  \n",
       "2                                                 NaN  \n",
       "5   872781000000100,91251008,698358001,385691007,1...  \n",
       "9                                   91251008,53950000  \n",
       "16                                           91251008  \n",
       "21                          326051000000105,699728000  "
      ]
     },
     "execution_count": 192,
     "metadata": {},
     "output_type": "execute_result"
    }
   ],
   "source": [
    "selected_df.head()"
   ]
  },
  {
   "cell_type": "code",
   "execution_count": 193,
   "metadata": {},
   "outputs": [
    {
     "data": {
      "text/plain": [
       "patient                0\n",
       "Encounter              0\n",
       "Condition              0\n",
       "Procedure              0\n",
       "Observation            0\n",
       "Diagnostics Report    96\n",
       "Immunization           1\n",
       "Medication Orders      0\n",
       "Careplan              22\n",
       "dtype: int64"
      ]
     },
     "execution_count": 193,
     "metadata": {},
     "output_type": "execute_result"
    }
   ],
   "source": [
    "selected_df.isnull().sum()"
   ]
  },
  {
   "cell_type": "markdown",
   "metadata": {},
   "source": [
    "### Prepare corpus"
   ]
  },
  {
   "cell_type": "code",
   "execution_count": 194,
   "metadata": {},
   "outputs": [],
   "source": [
    "condition_df = selected_df[['patient','Procedure', 'Medication Orders', 'Condition']]"
   ]
  },
  {
   "cell_type": "code",
   "execution_count": 195,
   "metadata": {},
   "outputs": [
    {
     "data": {
      "text/plain": [
       "patient              0\n",
       "Procedure            0\n",
       "Medication Orders    0\n",
       "Condition            0\n",
       "dtype: int64"
      ]
     },
     "execution_count": 195,
     "metadata": {},
     "output_type": "execute_result"
    }
   ],
   "source": [
    "condition_df.isnull().sum()"
   ]
  },
  {
   "cell_type": "code",
   "execution_count": 196,
   "metadata": {},
   "outputs": [
    {
     "data": {
      "text/html": [
       "<div>\n",
       "<style scoped>\n",
       "    .dataframe tbody tr th:only-of-type {\n",
       "        vertical-align: middle;\n",
       "    }\n",
       "\n",
       "    .dataframe tbody tr th {\n",
       "        vertical-align: top;\n",
       "    }\n",
       "\n",
       "    .dataframe thead th {\n",
       "        text-align: right;\n",
       "    }\n",
       "</style>\n",
       "<table border=\"1\" class=\"dataframe\">\n",
       "  <thead>\n",
       "    <tr style=\"text-align: right;\">\n",
       "      <th></th>\n",
       "      <th>patient</th>\n",
       "      <th>Procedure</th>\n",
       "      <th>Medication Orders</th>\n",
       "      <th>Condition</th>\n",
       "    </tr>\n",
       "  </thead>\n",
       "  <tbody>\n",
       "    <tr>\n",
       "      <th>2</th>\n",
       "      <td>63927398-3432-4526-9960-0da4359e3be2</td>\n",
       "      <td>117015009,428191000124101</td>\n",
       "      <td>824184,834101</td>\n",
       "      <td>444814009,275272006,43878008</td>\n",
       "    </tr>\n",
       "    <tr>\n",
       "      <th>5</th>\n",
       "      <td>77e05358-bfd9-4399-a474-1fab36f31975</td>\n",
       "      <td>31208007,274474001,428191000124101,252160004,6...</td>\n",
       "      <td>757594,198405,313782,310965</td>\n",
       "      <td>39848009,410429000,429007001,72892002,44465007...</td>\n",
       "    </tr>\n",
       "    <tr>\n",
       "      <th>9</th>\n",
       "      <td>fe1bba02-f021-4e12-81da-2b8f42988574</td>\n",
       "      <td>699253003,269911007,428191000124101</td>\n",
       "      <td>749762,861467,834060,849574,831533,1020137</td>\n",
       "      <td>444470001,10509002</td>\n",
       "    </tr>\n",
       "    <tr>\n",
       "      <th>16</th>\n",
       "      <td>0a651432-c1df-4319-bd05-163626dcc32d</td>\n",
       "      <td>428191000124101</td>\n",
       "      <td>310965</td>\n",
       "      <td>38341003,44465007</td>\n",
       "    </tr>\n",
       "    <tr>\n",
       "      <th>21</th>\n",
       "      <td>e223f58a-7029-4287-8e91-83b67336c3da</td>\n",
       "      <td>171231001,395142003,428191000124101</td>\n",
       "      <td>727316,665078,895994,745679</td>\n",
       "      <td>233678006,444814009</td>\n",
       "    </tr>\n",
       "  </tbody>\n",
       "</table>\n",
       "</div>"
      ],
      "text/plain": [
       "                                 patient  \\\n",
       "2   63927398-3432-4526-9960-0da4359e3be2   \n",
       "5   77e05358-bfd9-4399-a474-1fab36f31975   \n",
       "9   fe1bba02-f021-4e12-81da-2b8f42988574   \n",
       "16  0a651432-c1df-4319-bd05-163626dcc32d   \n",
       "21  e223f58a-7029-4287-8e91-83b67336c3da   \n",
       "\n",
       "                                            Procedure  \\\n",
       "2                           117015009,428191000124101   \n",
       "5   31208007,274474001,428191000124101,252160004,6...   \n",
       "9                 699253003,269911007,428191000124101   \n",
       "16                                    428191000124101   \n",
       "21                171231001,395142003,428191000124101   \n",
       "\n",
       "                             Medication Orders  \\\n",
       "2                                824184,834101   \n",
       "5                  757594,198405,313782,310965   \n",
       "9   749762,861467,834060,849574,831533,1020137   \n",
       "16                                      310965   \n",
       "21                 727316,665078,895994,745679   \n",
       "\n",
       "                                            Condition  \n",
       "2                        444814009,275272006,43878008  \n",
       "5   39848009,410429000,429007001,72892002,44465007...  \n",
       "9                                  444470001,10509002  \n",
       "16                                  38341003,44465007  \n",
       "21                                233678006,444814009  "
      ]
     },
     "execution_count": 196,
     "metadata": {},
     "output_type": "execute_result"
    }
   ],
   "source": [
    "condition_df.head()"
   ]
  },
  {
   "cell_type": "code",
   "execution_count": 197,
   "metadata": {},
   "outputs": [
    {
     "data": {
      "text/plain": [
       "(183, 4)"
      ]
     },
     "execution_count": 197,
     "metadata": {},
     "output_type": "execute_result"
    }
   ],
   "source": [
    "condition_df.shape"
   ]
  },
  {
   "cell_type": "code",
   "execution_count": 198,
   "metadata": {},
   "outputs": [
    {
     "data": {
      "text/plain": [
       "183"
      ]
     },
     "execution_count": 198,
     "metadata": {},
     "output_type": "execute_result"
    }
   ],
   "source": [
    "len(condition_df['patient'].unique())"
   ]
  },
  {
   "cell_type": "code",
   "execution_count": 199,
   "metadata": {},
   "outputs": [
    {
     "name": "stderr",
     "output_type": "stream",
     "text": [
      "/var/folders/9n/gzwg3s7j7pn060z120b3pb_h0000gn/T/ipykernel_50495/868148765.py:1: SettingWithCopyWarning: \n",
      "A value is trying to be set on a copy of a slice from a DataFrame.\n",
      "Try using .loc[row_indexer,col_indexer] = value instead\n",
      "\n",
      "See the caveats in the documentation: https://pandas.pydata.org/pandas-docs/stable/user_guide/indexing.html#returning-a-view-versus-a-copy\n",
      "  condition_df['Condition']=condition_df['Condition'].map(lambda x: list(set(x.split(',')) & set(candidates))[0])\n"
     ]
    }
   ],
   "source": [
    "condition_df['Condition']=condition_df['Condition'].map(lambda x: list(set(x.split(',')) & set(candidates))[0])"
   ]
  },
  {
   "cell_type": "code",
   "execution_count": 200,
   "metadata": {},
   "outputs": [
    {
     "data": {
      "text/html": [
       "<div>\n",
       "<style scoped>\n",
       "    .dataframe tbody tr th:only-of-type {\n",
       "        vertical-align: middle;\n",
       "    }\n",
       "\n",
       "    .dataframe tbody tr th {\n",
       "        vertical-align: top;\n",
       "    }\n",
       "\n",
       "    .dataframe thead th {\n",
       "        text-align: right;\n",
       "    }\n",
       "</style>\n",
       "<table border=\"1\" class=\"dataframe\">\n",
       "  <thead>\n",
       "    <tr style=\"text-align: right;\">\n",
       "      <th></th>\n",
       "      <th>patient</th>\n",
       "      <th>Procedure</th>\n",
       "      <th>Medication Orders</th>\n",
       "      <th>Condition</th>\n",
       "    </tr>\n",
       "  </thead>\n",
       "  <tbody>\n",
       "    <tr>\n",
       "      <th>2</th>\n",
       "      <td>63927398-3432-4526-9960-0da4359e3be2</td>\n",
       "      <td>117015009,428191000124101</td>\n",
       "      <td>824184,834101</td>\n",
       "      <td>444814009</td>\n",
       "    </tr>\n",
       "    <tr>\n",
       "      <th>5</th>\n",
       "      <td>77e05358-bfd9-4399-a474-1fab36f31975</td>\n",
       "      <td>31208007,274474001,428191000124101,252160004,6...</td>\n",
       "      <td>757594,198405,313782,310965</td>\n",
       "      <td>38341003</td>\n",
       "    </tr>\n",
       "    <tr>\n",
       "      <th>9</th>\n",
       "      <td>fe1bba02-f021-4e12-81da-2b8f42988574</td>\n",
       "      <td>699253003,269911007,428191000124101</td>\n",
       "      <td>749762,861467,834060,849574,831533,1020137</td>\n",
       "      <td>10509002</td>\n",
       "    </tr>\n",
       "    <tr>\n",
       "      <th>16</th>\n",
       "      <td>0a651432-c1df-4319-bd05-163626dcc32d</td>\n",
       "      <td>428191000124101</td>\n",
       "      <td>310965</td>\n",
       "      <td>38341003</td>\n",
       "    </tr>\n",
       "    <tr>\n",
       "      <th>21</th>\n",
       "      <td>e223f58a-7029-4287-8e91-83b67336c3da</td>\n",
       "      <td>171231001,395142003,428191000124101</td>\n",
       "      <td>727316,665078,895994,745679</td>\n",
       "      <td>444814009</td>\n",
       "    </tr>\n",
       "  </tbody>\n",
       "</table>\n",
       "</div>"
      ],
      "text/plain": [
       "                                 patient  \\\n",
       "2   63927398-3432-4526-9960-0da4359e3be2   \n",
       "5   77e05358-bfd9-4399-a474-1fab36f31975   \n",
       "9   fe1bba02-f021-4e12-81da-2b8f42988574   \n",
       "16  0a651432-c1df-4319-bd05-163626dcc32d   \n",
       "21  e223f58a-7029-4287-8e91-83b67336c3da   \n",
       "\n",
       "                                            Procedure  \\\n",
       "2                           117015009,428191000124101   \n",
       "5   31208007,274474001,428191000124101,252160004,6...   \n",
       "9                 699253003,269911007,428191000124101   \n",
       "16                                    428191000124101   \n",
       "21                171231001,395142003,428191000124101   \n",
       "\n",
       "                             Medication Orders  Condition  \n",
       "2                                824184,834101  444814009  \n",
       "5                  757594,198405,313782,310965   38341003  \n",
       "9   749762,861467,834060,849574,831533,1020137   10509002  \n",
       "16                                      310965   38341003  \n",
       "21                 727316,665078,895994,745679  444814009  "
      ]
     },
     "execution_count": 200,
     "metadata": {},
     "output_type": "execute_result"
    }
   ],
   "source": [
    "condition_df.head()"
   ]
  },
  {
   "cell_type": "code",
   "execution_count": 201,
   "metadata": {},
   "outputs": [
    {
     "data": {
      "text/html": [
       "<div>\n",
       "<style scoped>\n",
       "    .dataframe tbody tr th:only-of-type {\n",
       "        vertical-align: middle;\n",
       "    }\n",
       "\n",
       "    .dataframe tbody tr th {\n",
       "        vertical-align: top;\n",
       "    }\n",
       "\n",
       "    .dataframe thead th {\n",
       "        text-align: right;\n",
       "    }\n",
       "</style>\n",
       "<table border=\"1\" class=\"dataframe\">\n",
       "  <thead>\n",
       "    <tr style=\"text-align: right;\">\n",
       "      <th></th>\n",
       "      <th>patient</th>\n",
       "      <th>Procedure</th>\n",
       "      <th>Medication Orders</th>\n",
       "      <th>Condition</th>\n",
       "    </tr>\n",
       "  </thead>\n",
       "  <tbody>\n",
       "    <tr>\n",
       "      <th>2</th>\n",
       "      <td>63927398-3432-4526-9960-0da4359e3be2</td>\n",
       "      <td>117015009,428191000124101</td>\n",
       "      <td>824184,834101</td>\n",
       "      <td>444814009</td>\n",
       "    </tr>\n",
       "    <tr>\n",
       "      <th>21</th>\n",
       "      <td>e223f58a-7029-4287-8e91-83b67336c3da</td>\n",
       "      <td>171231001,395142003,428191000124101</td>\n",
       "      <td>727316,665078,895994,745679</td>\n",
       "      <td>444814009</td>\n",
       "    </tr>\n",
       "    <tr>\n",
       "      <th>37</th>\n",
       "      <td>d885659c-d55b-47bc-979b-4e0c888bd9a2</td>\n",
       "      <td>428191000124101</td>\n",
       "      <td>727316,239981</td>\n",
       "      <td>444814009</td>\n",
       "    </tr>\n",
       "    <tr>\n",
       "      <th>44</th>\n",
       "      <td>df8f4853-e339-4af0-b423-26b7272bb48d</td>\n",
       "      <td>22523008,288086009,428191000124101</td>\n",
       "      <td>313782,834060</td>\n",
       "      <td>444814009</td>\n",
       "    </tr>\n",
       "    <tr>\n",
       "      <th>56</th>\n",
       "      <td>6a511630-d43a-4380-9e60-b928f6287d5d</td>\n",
       "      <td>274474001,117015009,428191000124101</td>\n",
       "      <td>310965,1367439,834060,834101</td>\n",
       "      <td>444814009</td>\n",
       "    </tr>\n",
       "    <tr>\n",
       "      <th>...</th>\n",
       "      <td>...</td>\n",
       "      <td>...</td>\n",
       "      <td>...</td>\n",
       "      <td>...</td>\n",
       "    </tr>\n",
       "    <tr>\n",
       "      <th>924</th>\n",
       "      <td>5fe2a4fe-f138-4846-9908-cb6f9e741903</td>\n",
       "      <td>428191000124101</td>\n",
       "      <td>757594,309362,824184,197361,1367439,834060,312...</td>\n",
       "      <td>444814009</td>\n",
       "    </tr>\n",
       "    <tr>\n",
       "      <th>933</th>\n",
       "      <td>2f21c601-71f6-4ab9-ab66-1e227dc0db5e</td>\n",
       "      <td>228557008,428191000124101</td>\n",
       "      <td>849574,834060</td>\n",
       "      <td>444814009</td>\n",
       "    </tr>\n",
       "    <tr>\n",
       "      <th>935</th>\n",
       "      <td>c55e7d41-22cf-4e44-9e3a-7fcd1ca47c76</td>\n",
       "      <td>428191000124101</td>\n",
       "      <td>310965,834060</td>\n",
       "      <td>444814009</td>\n",
       "    </tr>\n",
       "    <tr>\n",
       "      <th>936</th>\n",
       "      <td>f150af1f-f166-4917-9678-685d6327efed</td>\n",
       "      <td>305428000,428191000124101,312681000</td>\n",
       "      <td>861467,834060,849574,1049221,310965</td>\n",
       "      <td>444814009</td>\n",
       "    </tr>\n",
       "    <tr>\n",
       "      <th>972</th>\n",
       "      <td>84f1cd4b-348e-4af3-bf2a-52cbbab68313</td>\n",
       "      <td>274474001,288086009,428191000124101</td>\n",
       "      <td>198405,282464</td>\n",
       "      <td>444814009</td>\n",
       "    </tr>\n",
       "  </tbody>\n",
       "</table>\n",
       "<p>84 rows × 4 columns</p>\n",
       "</div>"
      ],
      "text/plain": [
       "                                  patient  \\\n",
       "2    63927398-3432-4526-9960-0da4359e3be2   \n",
       "21   e223f58a-7029-4287-8e91-83b67336c3da   \n",
       "37   d885659c-d55b-47bc-979b-4e0c888bd9a2   \n",
       "44   df8f4853-e339-4af0-b423-26b7272bb48d   \n",
       "56   6a511630-d43a-4380-9e60-b928f6287d5d   \n",
       "..                                    ...   \n",
       "924  5fe2a4fe-f138-4846-9908-cb6f9e741903   \n",
       "933  2f21c601-71f6-4ab9-ab66-1e227dc0db5e   \n",
       "935  c55e7d41-22cf-4e44-9e3a-7fcd1ca47c76   \n",
       "936  f150af1f-f166-4917-9678-685d6327efed   \n",
       "972  84f1cd4b-348e-4af3-bf2a-52cbbab68313   \n",
       "\n",
       "                               Procedure  \\\n",
       "2              117015009,428191000124101   \n",
       "21   171231001,395142003,428191000124101   \n",
       "37                       428191000124101   \n",
       "44    22523008,288086009,428191000124101   \n",
       "56   274474001,117015009,428191000124101   \n",
       "..                                   ...   \n",
       "924                      428191000124101   \n",
       "933            228557008,428191000124101   \n",
       "935                      428191000124101   \n",
       "936  305428000,428191000124101,312681000   \n",
       "972  274474001,288086009,428191000124101   \n",
       "\n",
       "                                     Medication Orders  Condition  \n",
       "2                                        824184,834101  444814009  \n",
       "21                         727316,665078,895994,745679  444814009  \n",
       "37                                       727316,239981  444814009  \n",
       "44                                       313782,834060  444814009  \n",
       "56                        310965,1367439,834060,834101  444814009  \n",
       "..                                                 ...        ...  \n",
       "924  757594,309362,824184,197361,1367439,834060,312...  444814009  \n",
       "933                                      849574,834060  444814009  \n",
       "935                                      310965,834060  444814009  \n",
       "936                861467,834060,849574,1049221,310965  444814009  \n",
       "972                                      198405,282464  444814009  \n",
       "\n",
       "[84 rows x 4 columns]"
      ]
     },
     "execution_count": 201,
     "metadata": {},
     "output_type": "execute_result"
    }
   ],
   "source": [
    "condition_df[condition_df['Condition']=='444814009']"
   ]
  },
  {
   "cell_type": "code",
   "execution_count": 202,
   "metadata": {},
   "outputs": [
    {
     "name": "stderr",
     "output_type": "stream",
     "text": [
      "/var/folders/9n/gzwg3s7j7pn060z120b3pb_h0000gn/T/ipykernel_50495/663233480.py:1: SettingWithCopyWarning: \n",
      "A value is trying to be set on a copy of a slice from a DataFrame.\n",
      "Try using .loc[row_indexer,col_indexer] = value instead\n",
      "\n",
      "See the caveats in the documentation: https://pandas.pydata.org/pandas-docs/stable/user_guide/indexing.html#returning-a-view-versus-a-copy\n",
      "  condition_df['Document'] = condition_df['Procedure'].apply(lambda x : ' '.join(x.split(',')))+ ' ' + condition_df['Medication Orders'].apply(lambda x : ' '.join(x.split(',')))\n"
     ]
    }
   ],
   "source": [
    "condition_df['Document'] = condition_df['Procedure'].apply(lambda x : ' '.join(x.split(',')))+ ' ' + condition_df['Medication Orders'].apply(lambda x : ' '.join(x.split(',')))   "
   ]
  },
  {
   "cell_type": "code",
   "execution_count": 203,
   "metadata": {},
   "outputs": [
    {
     "data": {
      "text/html": [
       "<div>\n",
       "<style scoped>\n",
       "    .dataframe tbody tr th:only-of-type {\n",
       "        vertical-align: middle;\n",
       "    }\n",
       "\n",
       "    .dataframe tbody tr th {\n",
       "        vertical-align: top;\n",
       "    }\n",
       "\n",
       "    .dataframe thead th {\n",
       "        text-align: right;\n",
       "    }\n",
       "</style>\n",
       "<table border=\"1\" class=\"dataframe\">\n",
       "  <thead>\n",
       "    <tr style=\"text-align: right;\">\n",
       "      <th></th>\n",
       "      <th>patient</th>\n",
       "      <th>Procedure</th>\n",
       "      <th>Medication Orders</th>\n",
       "      <th>Condition</th>\n",
       "      <th>Document</th>\n",
       "    </tr>\n",
       "  </thead>\n",
       "  <tbody>\n",
       "    <tr>\n",
       "      <th>2</th>\n",
       "      <td>63927398-3432-4526-9960-0da4359e3be2</td>\n",
       "      <td>117015009,428191000124101</td>\n",
       "      <td>824184,834101</td>\n",
       "      <td>444814009</td>\n",
       "      <td>117015009 428191000124101 824184 834101</td>\n",
       "    </tr>\n",
       "    <tr>\n",
       "      <th>5</th>\n",
       "      <td>77e05358-bfd9-4399-a474-1fab36f31975</td>\n",
       "      <td>31208007,274474001,428191000124101,252160004,6...</td>\n",
       "      <td>757594,198405,313782,310965</td>\n",
       "      <td>38341003</td>\n",
       "      <td>31208007 274474001 428191000124101 252160004 6...</td>\n",
       "    </tr>\n",
       "    <tr>\n",
       "      <th>9</th>\n",
       "      <td>fe1bba02-f021-4e12-81da-2b8f42988574</td>\n",
       "      <td>699253003,269911007,428191000124101</td>\n",
       "      <td>749762,861467,834060,849574,831533,1020137</td>\n",
       "      <td>10509002</td>\n",
       "      <td>699253003 269911007 428191000124101 749762 861...</td>\n",
       "    </tr>\n",
       "    <tr>\n",
       "      <th>16</th>\n",
       "      <td>0a651432-c1df-4319-bd05-163626dcc32d</td>\n",
       "      <td>428191000124101</td>\n",
       "      <td>310965</td>\n",
       "      <td>38341003</td>\n",
       "      <td>428191000124101 310965</td>\n",
       "    </tr>\n",
       "    <tr>\n",
       "      <th>21</th>\n",
       "      <td>e223f58a-7029-4287-8e91-83b67336c3da</td>\n",
       "      <td>171231001,395142003,428191000124101</td>\n",
       "      <td>727316,665078,895994,745679</td>\n",
       "      <td>444814009</td>\n",
       "      <td>171231001 395142003 428191000124101 727316 665...</td>\n",
       "    </tr>\n",
       "  </tbody>\n",
       "</table>\n",
       "</div>"
      ],
      "text/plain": [
       "                                 patient  \\\n",
       "2   63927398-3432-4526-9960-0da4359e3be2   \n",
       "5   77e05358-bfd9-4399-a474-1fab36f31975   \n",
       "9   fe1bba02-f021-4e12-81da-2b8f42988574   \n",
       "16  0a651432-c1df-4319-bd05-163626dcc32d   \n",
       "21  e223f58a-7029-4287-8e91-83b67336c3da   \n",
       "\n",
       "                                            Procedure  \\\n",
       "2                           117015009,428191000124101   \n",
       "5   31208007,274474001,428191000124101,252160004,6...   \n",
       "9                 699253003,269911007,428191000124101   \n",
       "16                                    428191000124101   \n",
       "21                171231001,395142003,428191000124101   \n",
       "\n",
       "                             Medication Orders  Condition  \\\n",
       "2                                824184,834101  444814009   \n",
       "5                  757594,198405,313782,310965   38341003   \n",
       "9   749762,861467,834060,849574,831533,1020137   10509002   \n",
       "16                                      310965   38341003   \n",
       "21                 727316,665078,895994,745679  444814009   \n",
       "\n",
       "                                             Document  \n",
       "2             117015009 428191000124101 824184 834101  \n",
       "5   31208007 274474001 428191000124101 252160004 6...  \n",
       "9   699253003 269911007 428191000124101 749762 861...  \n",
       "16                             428191000124101 310965  \n",
       "21  171231001 395142003 428191000124101 727316 665...  "
      ]
     },
     "execution_count": 203,
     "metadata": {},
     "output_type": "execute_result"
    }
   ],
   "source": [
    "condition_df.head()"
   ]
  },
  {
   "cell_type": "code",
   "execution_count": 204,
   "metadata": {},
   "outputs": [],
   "source": [
    "with open('text_gcn/data/corpus/disease.clean.txt', 'w') as f:\n",
    "    for doc in condition_df['Document']:\n",
    "        f.write(doc+'\\n')\n",
    "    "
   ]
  },
  {
   "cell_type": "code",
   "execution_count": 205,
   "metadata": {},
   "outputs": [
    {
     "name": "stdout",
     "output_type": "stream",
     "text": [
      "183 164 19\n"
     ]
    }
   ],
   "source": [
    "size = len(condition_df)\n",
    "train_size = int(0.9*size)\n",
    "test_size = size - train_size\n",
    "print(size, train_size, test_size)"
   ]
  },
  {
   "cell_type": "code",
   "execution_count": 206,
   "metadata": {},
   "outputs": [
    {
     "data": {
      "text/plain": [
       "array(['444814009', '38341003', '10509002', '15777000', '195662009'],\n",
       "      dtype=object)"
      ]
     },
     "execution_count": 206,
     "metadata": {},
     "output_type": "execute_result"
    }
   ],
   "source": [
    "condition_df['Condition'].unique() "
   ]
  },
  {
   "cell_type": "code",
   "execution_count": 207,
   "metadata": {},
   "outputs": [],
   "source": [
    "f2 = open(\"text_gcn/data/disease.txt\", 'w')\n",
    "for _,doc in condition_df[:train_size].iterrows():\n",
    "    f2.write('data/disease/disease-train/'+doc['Condition']+'/'+doc['patient']+'\\tdisease-train'+'\\t'+doc['Condition']+'\\n')\n",
    "    with open('text_gcn/data/corpus/disease/disease-train/'+doc['Condition']+'/'+doc['patient'], 'w') as f:\n",
    "        f.write(doc['Document'])\n",
    "f2.close()"
   ]
  },
  {
   "cell_type": "code",
   "execution_count": 208,
   "metadata": {},
   "outputs": [],
   "source": [
    "f2 = open(\"text_gcn/data/disease.txt\", 'a')\n",
    "for _,doc in condition_df[-test_size:].iterrows():\n",
    "    f2.write('data/disease/disease-test/'+doc['Condition']+'/'+doc['patient']+'\\tdisease-test'+'\\t'+doc['Condition']+'\\n')\n",
    "    with open('text_gcn/data/corpus/disease/disease-test/'+doc['Condition']+'/'+doc['patient'], 'w') as f:\n",
    "        f.write(doc['Document'])\n",
    "f2.close()"
   ]
  },
  {
   "cell_type": "markdown",
   "metadata": {},
   "source": [
    "### Build graph"
   ]
  },
  {
   "cell_type": "code",
   "execution_count": 209,
   "metadata": {},
   "outputs": [
    {
     "name": "stdout",
     "output_type": "stream",
     "text": [
      "/Users/aman/Documents/My projects/iQuartic/text_gcn\n"
     ]
    }
   ],
   "source": [
    "cd text_gcn/"
   ]
  },
  {
   "cell_type": "code",
   "execution_count": 211,
   "metadata": {},
   "outputs": [
    {
     "name": "stdout",
     "output_type": "stream",
     "text": [
      "Shuffling the dataset is done.\n",
      "building vocabulary is done.\n",
      "Loaded Word Vectors!\n",
      "word defination is done.\n",
      "feature vector preparation done.\n",
      "(148, 131) (148, 5) (19, 131) (19, 5) (295, 131) (295, 5)\n",
      "buidling graph is done. files successfully pickled!\n"
     ]
    }
   ],
   "source": [
    "!python build_graph.py disease"
   ]
  },
  {
   "cell_type": "markdown",
   "metadata": {},
   "source": [
    "### Train graph"
   ]
  },
  {
   "cell_type": "code",
   "execution_count": null,
   "metadata": {},
   "outputs": [],
   "source": []
  }
 ],
 "metadata": {
  "kernelspec": {
   "display_name": "Python 3 (ipykernel)",
   "language": "python",
   "name": "python3"
  },
  "language_info": {
   "codemirror_mode": {
    "name": "ipython",
    "version": 3
   },
   "file_extension": ".py",
   "mimetype": "text/x-python",
   "name": "python",
   "nbconvert_exporter": "python",
   "pygments_lexer": "ipython3",
   "version": "3.9.7"
  }
 },
 "nbformat": 4,
 "nbformat_minor": 2
}
