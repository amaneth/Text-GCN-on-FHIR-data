{
 "cells": [
  {
   "cell_type": "code",
   "execution_count": 1,
   "metadata": {},
   "outputs": [],
   "source": [
    "import pandas as pd\n",
    "import os\n",
    "import numpy as np\n",
    "import random\n",
    "import json\n",
    "import pickle as pkl\n",
    "import networkx as nx\n",
    "import scipy.sparse as sp\n",
    "from utils import loadWord2Vec, clean_str\n",
    "from math import log\n",
    "from sklearn import svm\n",
    "from nltk.corpus import wordnet as wn\n",
    "from sklearn.feature_extraction.text import TfidfVectorizer\n",
    "from scipy.spatial.distance import cosine\n",
    "from collections import defaultdict"
   ]
  },
  {
   "cell_type": "code",
   "execution_count": 2,
   "metadata": {},
   "outputs": [],
   "source": [
    "#Location of each resource type\n",
    "#['category'][0]['coding'][0]['display'], Careplan\n",
    "\n",
    "#['type'][0]['text'], encounter\n",
    "#['vaccineCode']['coding'][0]['display'], immunization\n",
    "#['medicationCodeableConcept']['coding'][0]['display'], medication\n",
    "#['type']['coding'][0]['display']\n",
    "#['id'], patient\n",
    "#['code']['coding'][0]['display'], Procedure\n",
    "#['code']['coding'][0]['display'], condition\n",
    "#['code']['coding'][0]['display'], observation\n",
    "#['code']['coding'][0]['display'], diagonstic report\n",
    "\n",
    "#['vaccineCode']['coding'][0]['display'], immunization\n",
    "#['medicationCodeableConcept']['coding'][0]['display'], medication\n"
   ]
  },
  {
   "cell_type": "markdown",
   "metadata": {},
   "source": [
    "### Change the SYNTHEA STU-3 FHIR data to pandas dataframe "
   ]
  },
  {
   "cell_type": "code",
   "execution_count": 5,
   "metadata": {},
   "outputs": [],
   "source": [
    "directory = os.fsencode('../SYNTHEA/')\n",
    "encounters,conditions,patient_ids,procedures, observations, dignotstics_reports, immunizations, medication_orders, careplans = ([] for _ in range(9))\n",
    "\n",
    "for file in os.listdir(directory):\n",
    "    filename = os.fsdecode(file)\n",
    "    with open('../SYNTHEA/'+filename, \"r\") as read_file:\n",
    "        data = json.load(read_file)\n",
    "        resources = data['entry']\n",
    "        patient_id = resources[0]['resource']['id']\n",
    "        patient_ids.append(patient_id)\n",
    "        patient_encounters,patient_conditions, patient_procedures,patient_observations, patient_diagnostics_reports, patient_immunizations, patient_medication_orders, patient_careplans = (set() for _ in range(8))\n",
    "   \n",
    "        for resource in resources:\n",
    "            resource_type = resource['resource']['resourceType']\n",
    "            if resource_type =='Encounter':\n",
    "                patient_encounters.add(resource['resource']['type'][0]['coding'][0]['code'])\n",
    "            elif resource_type =='Condition':\n",
    "                patient_conditions.add(resource['resource']['code']['coding'][0]['code'])\n",
    "            elif resource_type =='Procedure':\n",
    "                code = resource['resource']['code']['coding'][0]['code']\n",
    "                #ignore documentation of current medications\n",
    "                if code!='428191000124101':\n",
    "                    patient_procedures.add(code)  \n",
    "            elif resource_type =='Observation':\n",
    "                patient_observations.add(resource['resource']['code']['coding'][0]['code'])\n",
    "            elif resource_type =='DiagnosticReport':\n",
    "                patient_diagnostics_reports.add(resource['resource']['code']['coding'][0]['code'])\n",
    "            elif resource_type == 'Immunization':\n",
    "                patient_immunizations.add(resource['resource']['vaccineCode']['coding'][0]['code'])\n",
    "            elif resource_type == 'MedicationOrder':\n",
    "                patient_medication_orders.add(resource['resource']['medicationCodeableConcept']['coding'][0]['code'])\n",
    "            elif resource_type == 'CarePlan':\n",
    "                patient_careplans.add(resource['resource']['category'][0]['coding'][0]['code'])\n",
    "        encounters.append(','.join(patient_encounters))\n",
    "        conditions.append(','.join(patient_conditions))\n",
    "        procedures.append(','.join(patient_procedures))\n",
    "        observations.append(','.join(patient_observations))\n",
    "        dignotstics_reports.append(','.join(patient_diagnostics_reports))\n",
    "        immunizations.append(','.join(patient_immunizations))\n",
    "        medication_orders.append(','.join(patient_medication_orders))\n",
    "        careplans.append(','.join(patient_careplans))\n",
    "        \n",
    "        \n",
    "data = {'patient': patient_ids,'Encounter': encounters, 'Condition': conditions, 'Procedure':procedures, 'Observation':observations, \n",
    "        'Diagnostics Report':dignotstics_reports, 'Immunization':immunizations, 'Medication Orders':medication_orders, 'Careplan': careplans}\n",
    "resource_df = pd.DataFrame(data)"
   ]
  },
  {
   "cell_type": "code",
   "execution_count": 6,
   "metadata": {},
   "outputs": [
    {
     "data": {
      "text/html": [
       "<div>\n",
       "<style scoped>\n",
       "    .dataframe tbody tr th:only-of-type {\n",
       "        vertical-align: middle;\n",
       "    }\n",
       "\n",
       "    .dataframe tbody tr th {\n",
       "        vertical-align: top;\n",
       "    }\n",
       "\n",
       "    .dataframe thead th {\n",
       "        text-align: right;\n",
       "    }\n",
       "</style>\n",
       "<table border=\"1\" class=\"dataframe\">\n",
       "  <thead>\n",
       "    <tr style=\"text-align: right;\">\n",
       "      <th></th>\n",
       "      <th>patient</th>\n",
       "      <th>Encounter</th>\n",
       "      <th>Condition</th>\n",
       "      <th>Procedure</th>\n",
       "      <th>Observation</th>\n",
       "      <th>Diagnostics Report</th>\n",
       "      <th>Immunization</th>\n",
       "      <th>Medication Orders</th>\n",
       "      <th>Careplan</th>\n",
       "    </tr>\n",
       "  </thead>\n",
       "  <tbody>\n",
       "    <tr>\n",
       "      <th>0</th>\n",
       "      <td>9f59ec59-5116-401b-bcbb-f019a6ca7a4f</td>\n",
       "      <td>183495009,50849002,185349003,170258001,185345009</td>\n",
       "      <td>444814009,359817006,444470001,195662009,444650...</td>\n",
       "      <td>305428000,699253003,269911007</td>\n",
       "      <td>8302-2,29463-7,39156-5,8331-1,55284-4</td>\n",
       "      <td></td>\n",
       "      <td>115,114,62,140</td>\n",
       "      <td>857005,198405,310965,608680</td>\n",
       "      <td>385691007,53950000,91251008</td>\n",
       "    </tr>\n",
       "    <tr>\n",
       "      <th>1</th>\n",
       "      <td>765382db-8551-4733-8658-d9fc7b0f7ee8</td>\n",
       "      <td>185349003,185345009</td>\n",
       "      <td>444814009,368581000119106,195662009,15777000,3...</td>\n",
       "      <td>23426006</td>\n",
       "      <td>2069-3,4548-4,8331-1,2947-0,18262-6,2339-0,294...</td>\n",
       "      <td>57698-3,51990-0</td>\n",
       "      <td>113,140</td>\n",
       "      <td>860975,608680</td>\n",
       "      <td>53950000,698360004</td>\n",
       "    </tr>\n",
       "    <tr>\n",
       "      <th>2</th>\n",
       "      <td>63927398-3432-4526-9960-0da4359e3be2</td>\n",
       "      <td>185349003,170258001,185345009</td>\n",
       "      <td>444814009,43878008,275272006</td>\n",
       "      <td>117015009</td>\n",
       "      <td>8302-2,29463-7,39156-5,8331-1,55284-4</td>\n",
       "      <td></td>\n",
       "      <td>113,114,62,140</td>\n",
       "      <td>834101,824184</td>\n",
       "      <td></td>\n",
       "    </tr>\n",
       "    <tr>\n",
       "      <th>3</th>\n",
       "      <td>7af203fe-86af-42a9-b6ee-f2c2828ead13</td>\n",
       "      <td>185349003,185345009</td>\n",
       "      <td>444814009,38341003,40055000</td>\n",
       "      <td></td>\n",
       "      <td>8302-2,29463-7,2571-8,2093-3,39156-5,33914-3,1...</td>\n",
       "      <td>57698-3</td>\n",
       "      <td>113,140</td>\n",
       "      <td>824184</td>\n",
       "      <td></td>\n",
       "    </tr>\n",
       "    <tr>\n",
       "      <th>4</th>\n",
       "      <td>9a0ea485-3bba-457f-bcaa-8cbb8fba34ef</td>\n",
       "      <td>185349003,183452005,50849002,185345009</td>\n",
       "      <td>74400008,444814009,428251008,195662009,6210600...</td>\n",
       "      <td>80146002</td>\n",
       "      <td>2069-3,4548-4,8331-1,2947-0,18262-6,2339-0,294...</td>\n",
       "      <td>57698-3,51990-0</td>\n",
       "      <td>121,113,140</td>\n",
       "      <td>860975</td>\n",
       "      <td>47387005,698360004</td>\n",
       "    </tr>\n",
       "  </tbody>\n",
       "</table>\n",
       "</div>"
      ],
      "text/plain": [
       "                                patient  \\\n",
       "0  9f59ec59-5116-401b-bcbb-f019a6ca7a4f   \n",
       "1  765382db-8551-4733-8658-d9fc7b0f7ee8   \n",
       "2  63927398-3432-4526-9960-0da4359e3be2   \n",
       "3  7af203fe-86af-42a9-b6ee-f2c2828ead13   \n",
       "4  9a0ea485-3bba-457f-bcaa-8cbb8fba34ef   \n",
       "\n",
       "                                          Encounter  \\\n",
       "0  183495009,50849002,185349003,170258001,185345009   \n",
       "1                               185349003,185345009   \n",
       "2                     185349003,170258001,185345009   \n",
       "3                               185349003,185345009   \n",
       "4            185349003,183452005,50849002,185345009   \n",
       "\n",
       "                                           Condition  \\\n",
       "0  444814009,359817006,444470001,195662009,444650...   \n",
       "1  444814009,368581000119106,195662009,15777000,3...   \n",
       "2                       444814009,43878008,275272006   \n",
       "3                        444814009,38341003,40055000   \n",
       "4  74400008,444814009,428251008,195662009,6210600...   \n",
       "\n",
       "                       Procedure  \\\n",
       "0  305428000,699253003,269911007   \n",
       "1                       23426006   \n",
       "2                      117015009   \n",
       "3                                  \n",
       "4                       80146002   \n",
       "\n",
       "                                         Observation Diagnostics Report  \\\n",
       "0              8302-2,29463-7,39156-5,8331-1,55284-4                      \n",
       "1  2069-3,4548-4,8331-1,2947-0,18262-6,2339-0,294...    57698-3,51990-0   \n",
       "2              8302-2,29463-7,39156-5,8331-1,55284-4                      \n",
       "3  8302-2,29463-7,2571-8,2093-3,39156-5,33914-3,1...            57698-3   \n",
       "4  2069-3,4548-4,8331-1,2947-0,18262-6,2339-0,294...    57698-3,51990-0   \n",
       "\n",
       "     Immunization            Medication Orders                     Careplan  \n",
       "0  115,114,62,140  857005,198405,310965,608680  385691007,53950000,91251008  \n",
       "1         113,140                860975,608680           53950000,698360004  \n",
       "2  113,114,62,140                834101,824184                               \n",
       "3         113,140                       824184                               \n",
       "4     121,113,140                       860975           47387005,698360004  "
      ]
     },
     "execution_count": 6,
     "metadata": {},
     "output_type": "execute_result"
    }
   ],
   "source": [
    "resource_df.head()"
   ]
  },
  {
   "cell_type": "code",
   "execution_count": 7,
   "metadata": {},
   "outputs": [
    {
     "data": {
      "text/plain": [
       "Index(['patient', 'Encounter', 'Condition', 'Procedure', 'Observation',\n",
       "       'Diagnostics Report', 'Immunization', 'Medication Orders', 'Careplan'],\n",
       "      dtype='object')"
      ]
     },
     "execution_count": 7,
     "metadata": {},
     "output_type": "execute_result"
    }
   ],
   "source": [
    "resource_df.columns"
   ]
  },
  {
   "cell_type": "code",
   "execution_count": 8,
   "metadata": {},
   "outputs": [],
   "source": [
    "res = resource_df.replace('', np.nan)"
   ]
  },
  {
   "cell_type": "code",
   "execution_count": 9,
   "metadata": {},
   "outputs": [
    {
     "data": {
      "text/plain": [
       "patient                 0\n",
       "Encounter               1\n",
       "Condition              47\n",
       "Procedure             393\n",
       "Observation             3\n",
       "Diagnostics Report    312\n",
       "Immunization          209\n",
       "Medication Orders      91\n",
       "Careplan              156\n",
       "dtype: int64"
      ]
     },
     "execution_count": 9,
     "metadata": {},
     "output_type": "execute_result"
    }
   ],
   "source": [
    "res.isnull().sum()"
   ]
  },
  {
   "cell_type": "code",
   "execution_count": 10,
   "metadata": {},
   "outputs": [],
   "source": [
    "#drop patients with null values for datasets understudy\n",
    "res_condition = res.dropna(axis=0, how='any', subset=['Condition','Procedure', 'Medication Orders', 'Observation'])"
   ]
  },
  {
   "cell_type": "code",
   "execution_count": 11,
   "metadata": {},
   "outputs": [
    {
     "data": {
      "text/plain": [
       "(593, 9)"
      ]
     },
     "execution_count": 11,
     "metadata": {},
     "output_type": "execute_result"
    }
   ],
   "source": [
    "res_condition.shape"
   ]
  },
  {
   "cell_type": "code",
   "execution_count": 12,
   "metadata": {},
   "outputs": [
    {
     "data": {
      "text/plain": [
       "patient                 0\n",
       "Encounter               0\n",
       "Condition               0\n",
       "Procedure               0\n",
       "Observation             0\n",
       "Diagnostics Report    211\n",
       "Immunization            2\n",
       "Medication Orders       0\n",
       "Careplan               24\n",
       "dtype: int64"
      ]
     },
     "execution_count": 12,
     "metadata": {},
     "output_type": "execute_result"
    }
   ],
   "source": [
    "res_condition.isnull().sum()"
   ]
  },
  {
   "cell_type": "code",
   "execution_count": 13,
   "metadata": {},
   "outputs": [],
   "source": [
    "diseases = []\n",
    "disease_bundled = []\n",
    "for condition in res_condition['Condition'].values:\n",
    "    diseases.extend(condition.split(','))\n",
    "    disease_bundled.append(condition.split(','))"
   ]
  },
  {
   "cell_type": "code",
   "execution_count": 14,
   "metadata": {},
   "outputs": [
    {
     "data": {
      "text/plain": [
       "2904"
      ]
     },
     "execution_count": 14,
     "metadata": {},
     "output_type": "execute_result"
    }
   ],
   "source": [
    "len(diseases)"
   ]
  },
  {
   "cell_type": "code",
   "execution_count": 15,
   "metadata": {},
   "outputs": [],
   "source": [
    "from collections import Counter\n",
    "\n",
    "disease_count = Counter(diseases)"
   ]
  },
  {
   "cell_type": "code",
   "execution_count": 16,
   "metadata": {},
   "outputs": [
    {
     "data": {
      "text/plain": [
       "Counter({'444814009': 364,\n",
       "         '359817006': 7,\n",
       "         '444470001': 5,\n",
       "         '195662009': 250,\n",
       "         '44465007': 54,\n",
       "         '10509002': 263,\n",
       "         '368581000119106': 11,\n",
       "         '15777000': 176,\n",
       "         '38341003': 164,\n",
       "         '44054006': 24,\n",
       "         '43878008': 106,\n",
       "         '275272006': 3,\n",
       "         '74400008': 31,\n",
       "         '428251008': 31,\n",
       "         '62106007': 34,\n",
       "         '422034002': 6,\n",
       "         '410429000': 18,\n",
       "         '72892002': 88,\n",
       "         '398254007': 9,\n",
       "         '33737001': 12,\n",
       "         '39848009': 34,\n",
       "         '429007001': 18,\n",
       "         '239873007': 29,\n",
       "         '230690007': 28,\n",
       "         '195967001': 18,\n",
       "         '367498001': 10,\n",
       "         '65363002': 72,\n",
       "         '233678006': 21,\n",
       "         '26929004': 13,\n",
       "         '233604007': 3,\n",
       "         '162573006': 11,\n",
       "         '423121009': 7,\n",
       "         '254637007': 10,\n",
       "         '82423001': 4,\n",
       "         '15724005': 1,\n",
       "         '40055000': 104,\n",
       "         '284549007': 18,\n",
       "         '403190006': 18,\n",
       "         '19169002': 16,\n",
       "         '35999006': 7,\n",
       "         '403191005': 13,\n",
       "         '403192003': 4,\n",
       "         '263102004': 24,\n",
       "         '24079001': 26,\n",
       "         '75498004': 28,\n",
       "         '36971009': 38,\n",
       "         '283371005': 27,\n",
       "         '284551006': 19,\n",
       "         '185086009': 15,\n",
       "         '68496003': 38,\n",
       "         '713197008': 12,\n",
       "         '109838007': 5,\n",
       "         '38822007': 12,\n",
       "         '85116003': 8,\n",
       "         '267253006': 13,\n",
       "         '301011002': 22,\n",
       "         '58150001': 23,\n",
       "         '53741008': 29,\n",
       "         '65966004': 26,\n",
       "         '283385000': 26,\n",
       "         '16114001': 14,\n",
       "         '232353008': 23,\n",
       "         '370247008': 26,\n",
       "         '307731004': 7,\n",
       "         '30832001': 7,\n",
       "         '399211009': 10,\n",
       "         '22298006': 10,\n",
       "         '192127007': 19,\n",
       "         '201834006': 12,\n",
       "         '86849004': 1,\n",
       "         '287182007': 1,\n",
       "         '127013003': 7,\n",
       "         '64859006': 40,\n",
       "         '262574004': 1,\n",
       "         '70704007': 36,\n",
       "         '87433001': 15,\n",
       "         '241929008': 14,\n",
       "         '197927001': 5,\n",
       "         '90781000119102': 3,\n",
       "         '157141000119108': 1,\n",
       "         '40275004': 7,\n",
       "         '62564004': 8,\n",
       "         '443165006': 13,\n",
       "         '425048006': 3,\n",
       "         '446096008': 22,\n",
       "         '47693006': 8,\n",
       "         '239872002': 3,\n",
       "         '128613002': 14,\n",
       "         '703151001': 14,\n",
       "         '1551000119108': 5,\n",
       "         '124171000119105': 3,\n",
       "         '1501000119109': 2,\n",
       "         '97331000119101': 1,\n",
       "         '84757009': 8,\n",
       "         '198992004': 6,\n",
       "         '230265002': 1,\n",
       "         '239720000': 2,\n",
       "         '69896004': 1,\n",
       "         '444448004': 4,\n",
       "         '90560007': 4,\n",
       "         '55680006': 5,\n",
       "         '93761005': 2,\n",
       "         '110030002': 2,\n",
       "         '363406005': 2,\n",
       "         '254632001': 1,\n",
       "         '67841000119103': 1,\n",
       "         '37849005': 2,\n",
       "         '609496007': 1,\n",
       "         '196416002': 1})"
      ]
     },
     "execution_count": 16,
     "metadata": {},
     "output_type": "execute_result"
    }
   ],
   "source": [
    "disease_count"
   ]
  },
  {
   "cell_type": "code",
   "execution_count": 17,
   "metadata": {},
   "outputs": [
    {
     "data": {
      "text/plain": [
       "<BarContainer object of 109 artists>"
      ]
     },
     "execution_count": 17,
     "metadata": {},
     "output_type": "execute_result"
    },
    {
     "data": {
      "image/png": "[encoded data removed]",
      "text/plain": [
       "<Figure size 2160x360 with 1 Axes>"
      ]
     },
     "metadata": {
      "needs_background": "light"
     },
     "output_type": "display_data"
    }
   ],
   "source": [
    "import matplotlib.pyplot as plt\n",
    "disease_count_sorted = dict(sorted(disease_count.items(), key= lambda item: item[1]))\n",
    "cases = list(disease_count_sorted.keys())\n",
    "count = list(disease_count_sorted.values())\n",
    "fig = plt.figure(figsize=(30,5))\n",
    "plt.bar(cases, count)"
   ]
  },
  {
   "cell_type": "code",
   "execution_count": 18,
   "metadata": {},
   "outputs": [
    {
     "data": {
      "text/plain": [
       "{'15724005': 1,\n",
       " '86849004': 1,\n",
       " '287182007': 1,\n",
       " '262574004': 1,\n",
       " '157141000119108': 1,\n",
       " '97331000119101': 1,\n",
       " '230265002': 1,\n",
       " '69896004': 1,\n",
       " '254632001': 1,\n",
       " '67841000119103': 1,\n",
       " '609496007': 1,\n",
       " '196416002': 1,\n",
       " '1501000119109': 2,\n",
       " '239720000': 2,\n",
       " '93761005': 2,\n",
       " '110030002': 2,\n",
       " '363406005': 2,\n",
       " '37849005': 2,\n",
       " '275272006': 3,\n",
       " '233604007': 3,\n",
       " '90781000119102': 3,\n",
       " '425048006': 3,\n",
       " '239872002': 3,\n",
       " '124171000119105': 3,\n",
       " '82423001': 4,\n",
       " '403192003': 4,\n",
       " '444448004': 4,\n",
       " '90560007': 4,\n",
       " '444470001': 5,\n",
       " '109838007': 5,\n",
       " '197927001': 5,\n",
       " '1551000119108': 5,\n",
       " '55680006': 5,\n",
       " '422034002': 6,\n",
       " '198992004': 6,\n",
       " '359817006': 7,\n",
       " '423121009': 7,\n",
       " '35999006': 7,\n",
       " '307731004': 7,\n",
       " '30832001': 7,\n",
       " '127013003': 7,\n",
       " '40275004': 7,\n",
       " '85116003': 8,\n",
       " '62564004': 8,\n",
       " '47693006': 8,\n",
       " '84757009': 8,\n",
       " '398254007': 9,\n",
       " '367498001': 10,\n",
       " '254637007': 10,\n",
       " '399211009': 10,\n",
       " '22298006': 10,\n",
       " '368581000119106': 11,\n",
       " '162573006': 11,\n",
       " '33737001': 12,\n",
       " '713197008': 12,\n",
       " '38822007': 12,\n",
       " '201834006': 12,\n",
       " '26929004': 13,\n",
       " '403191005': 13,\n",
       " '267253006': 13,\n",
       " '443165006': 13,\n",
       " '16114001': 14,\n",
       " '241929008': 14,\n",
       " '128613002': 14,\n",
       " '703151001': 14,\n",
       " '185086009': 15,\n",
       " '87433001': 15,\n",
       " '19169002': 16,\n",
       " '410429000': 18,\n",
       " '429007001': 18,\n",
       " '195967001': 18,\n",
       " '284549007': 18,\n",
       " '403190006': 18,\n",
       " '284551006': 19,\n",
       " '192127007': 19,\n",
       " '233678006': 21,\n",
       " '301011002': 22,\n",
       " '446096008': 22,\n",
       " '58150001': 23,\n",
       " '232353008': 23,\n",
       " '44054006': 24,\n",
       " '263102004': 24,\n",
       " '24079001': 26,\n",
       " '65966004': 26,\n",
       " '283385000': 26,\n",
       " '370247008': 26,\n",
       " '283371005': 27,\n",
       " '230690007': 28,\n",
       " '75498004': 28,\n",
       " '239873007': 29,\n",
       " '53741008': 29,\n",
       " '74400008': 31,\n",
       " '428251008': 31,\n",
       " '62106007': 34,\n",
       " '39848009': 34,\n",
       " '70704007': 36,\n",
       " '36971009': 38,\n",
       " '68496003': 38,\n",
       " '64859006': 40,\n",
       " '44465007': 54,\n",
       " '65363002': 72,\n",
       " '72892002': 88,\n",
       " '40055000': 104,\n",
       " '43878008': 106,\n",
       " '38341003': 164,\n",
       " '15777000': 176,\n",
       " '195662009': 250,\n",
       " '10509002': 263,\n",
       " '444814009': 364}"
      ]
     },
     "execution_count": 18,
     "metadata": {},
     "output_type": "execute_result"
    }
   ],
   "source": [
    "disease_count_sorted"
   ]
  },
  {
   "cell_type": "markdown",
   "metadata": {},
   "source": [
    "###  Choose conditions for study"
   ]
  },
  {
   "cell_type": "code",
   "execution_count": 19,
   "metadata": {},
   "outputs": [
    {
     "name": "stdout",
     "output_type": "stream",
     "text": [
      "['38341003', '15777000', '195662009', '10509002', '444814009']\n"
     ]
    }
   ],
   "source": [
    "candidates = list(disease_count_sorted.keys())[-5:]\n",
    "print(candidates)"
   ]
  },
  {
   "cell_type": "code",
   "execution_count": 20,
   "metadata": {},
   "outputs": [],
   "source": [
    "from collections import defaultdict\n",
    "case_intersection = defaultdict(lambda: [])\n",
    "for case1 in candidates:\n",
    "    for case2 in candidates:\n",
    "        count = 0\n",
    "        for case in disease_bundled:\n",
    "            if case1 in case and case2 in case:\n",
    "                count+=1\n",
    "        case_intersection[case1].append(count)\n",
    "                \n",
    "                \n",
    "    "
   ]
  },
  {
   "cell_type": "code",
   "execution_count": 21,
   "metadata": {},
   "outputs": [],
   "source": [
    "#Check comorbidity between candidates for study\n",
    "case_intersection_df = pd.DataFrame(case_intersection, index = list(case_intersection.keys()))"
   ]
  },
  {
   "cell_type": "code",
   "execution_count": 22,
   "metadata": {},
   "outputs": [
    {
     "data": {
      "text/html": [
       "<div>\n",
       "<style scoped>\n",
       "    .dataframe tbody tr th:only-of-type {\n",
       "        vertical-align: middle;\n",
       "    }\n",
       "\n",
       "    .dataframe tbody tr th {\n",
       "        vertical-align: top;\n",
       "    }\n",
       "\n",
       "    .dataframe thead th {\n",
       "        text-align: right;\n",
       "    }\n",
       "</style>\n",
       "<table border=\"1\" class=\"dataframe\">\n",
       "  <thead>\n",
       "    <tr style=\"text-align: right;\">\n",
       "      <th></th>\n",
       "      <th>38341003</th>\n",
       "      <th>15777000</th>\n",
       "      <th>195662009</th>\n",
       "      <th>10509002</th>\n",
       "      <th>444814009</th>\n",
       "    </tr>\n",
       "  </thead>\n",
       "  <tbody>\n",
       "    <tr>\n",
       "      <th>38341003</th>\n",
       "      <td>164</td>\n",
       "      <td>55</td>\n",
       "      <td>69</td>\n",
       "      <td>68</td>\n",
       "      <td>108</td>\n",
       "    </tr>\n",
       "    <tr>\n",
       "      <th>15777000</th>\n",
       "      <td>55</td>\n",
       "      <td>176</td>\n",
       "      <td>72</td>\n",
       "      <td>77</td>\n",
       "      <td>106</td>\n",
       "    </tr>\n",
       "    <tr>\n",
       "      <th>195662009</th>\n",
       "      <td>69</td>\n",
       "      <td>72</td>\n",
       "      <td>250</td>\n",
       "      <td>119</td>\n",
       "      <td>158</td>\n",
       "    </tr>\n",
       "    <tr>\n",
       "      <th>10509002</th>\n",
       "      <td>68</td>\n",
       "      <td>77</td>\n",
       "      <td>119</td>\n",
       "      <td>263</td>\n",
       "      <td>166</td>\n",
       "    </tr>\n",
       "    <tr>\n",
       "      <th>444814009</th>\n",
       "      <td>108</td>\n",
       "      <td>106</td>\n",
       "      <td>158</td>\n",
       "      <td>166</td>\n",
       "      <td>364</td>\n",
       "    </tr>\n",
       "  </tbody>\n",
       "</table>\n",
       "</div>"
      ],
      "text/plain": [
       "           38341003  15777000  195662009  10509002  444814009\n",
       "38341003        164        55         69        68        108\n",
       "15777000         55       176         72        77        106\n",
       "195662009        69        72        250       119        158\n",
       "10509002         68        77        119       263        166\n",
       "444814009       108       106        158       166        364"
      ]
     },
     "execution_count": 22,
     "metadata": {},
     "output_type": "execute_result"
    }
   ],
   "source": [
    "case_intersection_df"
   ]
  },
  {
   "cell_type": "code",
   "execution_count": 23,
   "metadata": {},
   "outputs": [
    {
     "name": "stderr",
     "output_type": "stream",
     "text": [
      "/var/folders/9n/gzwg3s7j7pn060z120b3pb_h0000gn/T/ipykernel_1076/2729502969.py:1: FutureWarning: Using a non-tuple sequence for multidimensional indexing is deprecated; use `arr[tuple(seq)]` instead of `arr[seq]`. In the future this will be interpreted as an array index, `arr[np.array(seq)]`, which will result either in an error or a different result.\n",
      "  case_intersection_df.values[[np.arange(case_intersection_df.shape[0])]*2] = 0\n"
     ]
    }
   ],
   "source": [
    "case_intersection_df.values[[np.arange(case_intersection_df.shape[0])]*2] = 0"
   ]
  },
  {
   "cell_type": "code",
   "execution_count": 24,
   "metadata": {},
   "outputs": [
    {
     "data": {
      "text/html": [
       "<div>\n",
       "<style scoped>\n",
       "    .dataframe tbody tr th:only-of-type {\n",
       "        vertical-align: middle;\n",
       "    }\n",
       "\n",
       "    .dataframe tbody tr th {\n",
       "        vertical-align: top;\n",
       "    }\n",
       "\n",
       "    .dataframe thead th {\n",
       "        text-align: right;\n",
       "    }\n",
       "</style>\n",
       "<table border=\"1\" class=\"dataframe\">\n",
       "  <thead>\n",
       "    <tr style=\"text-align: right;\">\n",
       "      <th></th>\n",
       "      <th>38341003</th>\n",
       "      <th>15777000</th>\n",
       "      <th>195662009</th>\n",
       "      <th>10509002</th>\n",
       "      <th>444814009</th>\n",
       "    </tr>\n",
       "  </thead>\n",
       "  <tbody>\n",
       "    <tr>\n",
       "      <th>38341003</th>\n",
       "      <td>0</td>\n",
       "      <td>55</td>\n",
       "      <td>69</td>\n",
       "      <td>68</td>\n",
       "      <td>108</td>\n",
       "    </tr>\n",
       "    <tr>\n",
       "      <th>15777000</th>\n",
       "      <td>55</td>\n",
       "      <td>0</td>\n",
       "      <td>72</td>\n",
       "      <td>77</td>\n",
       "      <td>106</td>\n",
       "    </tr>\n",
       "    <tr>\n",
       "      <th>195662009</th>\n",
       "      <td>69</td>\n",
       "      <td>72</td>\n",
       "      <td>0</td>\n",
       "      <td>119</td>\n",
       "      <td>158</td>\n",
       "    </tr>\n",
       "    <tr>\n",
       "      <th>10509002</th>\n",
       "      <td>68</td>\n",
       "      <td>77</td>\n",
       "      <td>119</td>\n",
       "      <td>0</td>\n",
       "      <td>166</td>\n",
       "    </tr>\n",
       "    <tr>\n",
       "      <th>444814009</th>\n",
       "      <td>108</td>\n",
       "      <td>106</td>\n",
       "      <td>158</td>\n",
       "      <td>166</td>\n",
       "      <td>0</td>\n",
       "    </tr>\n",
       "  </tbody>\n",
       "</table>\n",
       "</div>"
      ],
      "text/plain": [
       "           38341003  15777000  195662009  10509002  444814009\n",
       "38341003          0        55         69        68        108\n",
       "15777000         55         0         72        77        106\n",
       "195662009        69        72          0       119        158\n",
       "10509002         68        77        119         0        166\n",
       "444814009       108       106        158       166          0"
      ]
     },
     "execution_count": 24,
     "metadata": {},
     "output_type": "execute_result"
    }
   ],
   "source": [
    "case_intersection_df"
   ]
  },
  {
   "cell_type": "code",
   "execution_count": 25,
   "metadata": {},
   "outputs": [
    {
     "data": {
      "text/plain": [
       "38341003     300\n",
       "15777000     310\n",
       "195662009    418\n",
       "10509002     430\n",
       "444814009    538\n",
       "dtype: int64"
      ]
     },
     "execution_count": 25,
     "metadata": {},
     "output_type": "execute_result"
    }
   ],
   "source": [
    "case_intersection_df.sum(axis=1)"
   ]
  },
  {
   "cell_type": "code",
   "execution_count": 26,
   "metadata": {},
   "outputs": [
    {
     "data": {
      "text/plain": [
       "['38341003', '15777000', '195662009', '10509002', '444814009']"
      ]
     },
     "execution_count": 26,
     "metadata": {},
     "output_type": "execute_result"
    }
   ],
   "source": [
    "candidates"
   ]
  },
  {
   "cell_type": "code",
   "execution_count": 27,
   "metadata": {},
   "outputs": [],
   "source": [
    "common = []\n",
    "for case in disease_bundled:\n",
    "    common.append(np.in1d(np.array(candidates), np.array(case)).sum())"
   ]
  },
  {
   "cell_type": "code",
   "execution_count": 28,
   "metadata": {},
   "outputs": [],
   "source": [
    "unique_indicies = []\n",
    "for i in range(len(common)):\n",
    "    if common[i]==1:\n",
    "        unique_indicies.append(i)\n",
    "        "
   ]
  },
  {
   "cell_type": "code",
   "execution_count": 29,
   "metadata": {},
   "outputs": [
    {
     "data": {
      "text/plain": [
       "143"
      ]
     },
     "execution_count": 29,
     "metadata": {},
     "output_type": "execute_result"
    }
   ],
   "source": [
    "len(unique_indicies)"
   ]
  },
  {
   "cell_type": "code",
   "execution_count": 30,
   "metadata": {},
   "outputs": [],
   "source": [
    "selected_df = res_condition.iloc[unique_indicies]"
   ]
  },
  {
   "cell_type": "code",
   "execution_count": 31,
   "metadata": {},
   "outputs": [
    {
     "data": {
      "text/plain": [
       "(143, 9)"
      ]
     },
     "execution_count": 31,
     "metadata": {},
     "output_type": "execute_result"
    }
   ],
   "source": [
    "selected_df.shape"
   ]
  },
  {
   "cell_type": "code",
   "execution_count": 32,
   "metadata": {},
   "outputs": [
    {
     "data": {
      "text/html": [
       "<div>\n",
       "<style scoped>\n",
       "    .dataframe tbody tr th:only-of-type {\n",
       "        vertical-align: middle;\n",
       "    }\n",
       "\n",
       "    .dataframe tbody tr th {\n",
       "        vertical-align: top;\n",
       "    }\n",
       "\n",
       "    .dataframe thead th {\n",
       "        text-align: right;\n",
       "    }\n",
       "</style>\n",
       "<table border=\"1\" class=\"dataframe\">\n",
       "  <thead>\n",
       "    <tr style=\"text-align: right;\">\n",
       "      <th></th>\n",
       "      <th>patient</th>\n",
       "      <th>Encounter</th>\n",
       "      <th>Condition</th>\n",
       "      <th>Procedure</th>\n",
       "      <th>Observation</th>\n",
       "      <th>Diagnostics Report</th>\n",
       "      <th>Immunization</th>\n",
       "      <th>Medication Orders</th>\n",
       "      <th>Careplan</th>\n",
       "    </tr>\n",
       "  </thead>\n",
       "  <tbody>\n",
       "    <tr>\n",
       "      <th>2</th>\n",
       "      <td>63927398-3432-4526-9960-0da4359e3be2</td>\n",
       "      <td>185349003,170258001,185345009</td>\n",
       "      <td>444814009,43878008,275272006</td>\n",
       "      <td>117015009</td>\n",
       "      <td>8302-2,29463-7,39156-5,8331-1,55284-4</td>\n",
       "      <td>NaN</td>\n",
       "      <td>113,114,62,140</td>\n",
       "      <td>834101,824184</td>\n",
       "      <td>NaN</td>\n",
       "    </tr>\n",
       "    <tr>\n",
       "      <th>5</th>\n",
       "      <td>77e05358-bfd9-4399-a474-1fab36f31975</td>\n",
       "      <td>424441002,698314001,50849002,185349003,1834600...</td>\n",
       "      <td>410429000,72892002,44465007,398254007,33737001...</td>\n",
       "      <td>66348005,31208007,274474001,252160004</td>\n",
       "      <td>8302-2,29463-7,39156-5,33914-3,55284-4</td>\n",
       "      <td>NaN</td>\n",
       "      <td>115,114,62,140</td>\n",
       "      <td>757594,198405,310965,313782</td>\n",
       "      <td>385691007,698358001,91251008,134435003,8727810...</td>\n",
       "    </tr>\n",
       "    <tr>\n",
       "      <th>9</th>\n",
       "      <td>fe1bba02-f021-4e12-81da-2b8f42988574</td>\n",
       "      <td>183495009,50849002,185349003,698314001,185345009</td>\n",
       "      <td>10509002,444470001</td>\n",
       "      <td>699253003,269911007</td>\n",
       "      <td>8302-2,29463-7,2571-8,2093-3,39156-5,18262-6,5...</td>\n",
       "      <td>57698-3</td>\n",
       "      <td>113,140</td>\n",
       "      <td>861467,831533,749762,834060,1020137,849574</td>\n",
       "      <td>53950000,91251008</td>\n",
       "    </tr>\n",
       "    <tr>\n",
       "      <th>21</th>\n",
       "      <td>e223f58a-7029-4287-8e91-83b67336c3da</td>\n",
       "      <td>185347001,170258001,185345009</td>\n",
       "      <td>444814009,233678006</td>\n",
       "      <td>171231001,395142003</td>\n",
       "      <td>6082-2,6276-0,6273-7,6075-6,6206-7,29463-7,609...</td>\n",
       "      <td>NaN</td>\n",
       "      <td>140,119,133,83,20,08,49,10,21,03</td>\n",
       "      <td>727316,745679,895994,665078</td>\n",
       "      <td>326051000000105,699728000</td>\n",
       "    </tr>\n",
       "    <tr>\n",
       "      <th>24</th>\n",
       "      <td>6979463f-b1ab-48c7-b560-b0b1782aa82e</td>\n",
       "      <td>308646001,185349003,50849002,185347001</td>\n",
       "      <td>162573006,423121009,15777000,254637007</td>\n",
       "      <td>698354004,418891003,173160006,399208008,737610...</td>\n",
       "      <td>2339-0,38483-4,49765-1,8302-2,29463-7,2571-8,6...</td>\n",
       "      <td>69409-1,57698-3,51990-0</td>\n",
       "      <td>113,140</td>\n",
       "      <td>583214,1736854</td>\n",
       "      <td>182964004,698360004</td>\n",
       "    </tr>\n",
       "  </tbody>\n",
       "</table>\n",
       "</div>"
      ],
      "text/plain": [
       "                                 patient  \\\n",
       "2   63927398-3432-4526-9960-0da4359e3be2   \n",
       "5   77e05358-bfd9-4399-a474-1fab36f31975   \n",
       "9   fe1bba02-f021-4e12-81da-2b8f42988574   \n",
       "21  e223f58a-7029-4287-8e91-83b67336c3da   \n",
       "24  6979463f-b1ab-48c7-b560-b0b1782aa82e   \n",
       "\n",
       "                                            Encounter  \\\n",
       "2                       185349003,170258001,185345009   \n",
       "5   424441002,698314001,50849002,185349003,1834600...   \n",
       "9    183495009,50849002,185349003,698314001,185345009   \n",
       "21                      185347001,170258001,185345009   \n",
       "24             308646001,185349003,50849002,185347001   \n",
       "\n",
       "                                            Condition  \\\n",
       "2                        444814009,43878008,275272006   \n",
       "5   410429000,72892002,44465007,398254007,33737001...   \n",
       "9                                  10509002,444470001   \n",
       "21                                444814009,233678006   \n",
       "24             162573006,423121009,15777000,254637007   \n",
       "\n",
       "                                            Procedure  \\\n",
       "2                                           117015009   \n",
       "5               66348005,31208007,274474001,252160004   \n",
       "9                                 699253003,269911007   \n",
       "21                                171231001,395142003   \n",
       "24  698354004,418891003,173160006,399208008,737610...   \n",
       "\n",
       "                                          Observation  \\\n",
       "2               8302-2,29463-7,39156-5,8331-1,55284-4   \n",
       "5              8302-2,29463-7,39156-5,33914-3,55284-4   \n",
       "9   8302-2,29463-7,2571-8,2093-3,39156-5,18262-6,5...   \n",
       "21  6082-2,6276-0,6273-7,6075-6,6206-7,29463-7,609...   \n",
       "24  2339-0,38483-4,49765-1,8302-2,29463-7,2571-8,6...   \n",
       "\n",
       "         Diagnostics Report                      Immunization  \\\n",
       "2                       NaN                    113,114,62,140   \n",
       "5                       NaN                    115,114,62,140   \n",
       "9                   57698-3                           113,140   \n",
       "21                      NaN  140,119,133,83,20,08,49,10,21,03   \n",
       "24  69409-1,57698-3,51990-0                           113,140   \n",
       "\n",
       "                             Medication Orders  \\\n",
       "2                                834101,824184   \n",
       "5                  757594,198405,310965,313782   \n",
       "9   861467,831533,749762,834060,1020137,849574   \n",
       "21                 727316,745679,895994,665078   \n",
       "24                              583214,1736854   \n",
       "\n",
       "                                             Careplan  \n",
       "2                                                 NaN  \n",
       "5   385691007,698358001,91251008,134435003,8727810...  \n",
       "9                                   53950000,91251008  \n",
       "21                          326051000000105,699728000  \n",
       "24                                182964004,698360004  "
      ]
     },
     "execution_count": 32,
     "metadata": {},
     "output_type": "execute_result"
    }
   ],
   "source": [
    "selected_df.head()"
   ]
  },
  {
   "cell_type": "code",
   "execution_count": 33,
   "metadata": {},
   "outputs": [
    {
     "data": {
      "text/plain": [
       "patient                0\n",
       "Encounter              0\n",
       "Condition              0\n",
       "Procedure              0\n",
       "Observation            0\n",
       "Diagnostics Report    72\n",
       "Immunization           1\n",
       "Medication Orders      0\n",
       "Careplan              11\n",
       "dtype: int64"
      ]
     },
     "execution_count": 33,
     "metadata": {},
     "output_type": "execute_result"
    }
   ],
   "source": [
    "selected_df.isnull().sum()"
   ]
  },
  {
   "cell_type": "markdown",
   "metadata": {},
   "source": [
    "### Prepare corpus"
   ]
  },
  {
   "cell_type": "code",
   "execution_count": 34,
   "metadata": {},
   "outputs": [],
   "source": [
    "condition_df = selected_df[['patient','Procedure', 'Medication Orders', 'Condition']]"
   ]
  },
  {
   "cell_type": "code",
   "execution_count": 35,
   "metadata": {},
   "outputs": [
    {
     "data": {
      "text/plain": [
       "patient              0\n",
       "Procedure            0\n",
       "Medication Orders    0\n",
       "Condition            0\n",
       "dtype: int64"
      ]
     },
     "execution_count": 35,
     "metadata": {},
     "output_type": "execute_result"
    }
   ],
   "source": [
    "condition_df.isnull().sum()"
   ]
  },
  {
   "cell_type": "code",
   "execution_count": 36,
   "metadata": {},
   "outputs": [
    {
     "data": {
      "text/html": [
       "<div>\n",
       "<style scoped>\n",
       "    .dataframe tbody tr th:only-of-type {\n",
       "        vertical-align: middle;\n",
       "    }\n",
       "\n",
       "    .dataframe tbody tr th {\n",
       "        vertical-align: top;\n",
       "    }\n",
       "\n",
       "    .dataframe thead th {\n",
       "        text-align: right;\n",
       "    }\n",
       "</style>\n",
       "<table border=\"1\" class=\"dataframe\">\n",
       "  <thead>\n",
       "    <tr style=\"text-align: right;\">\n",
       "      <th></th>\n",
       "      <th>patient</th>\n",
       "      <th>Procedure</th>\n",
       "      <th>Medication Orders</th>\n",
       "      <th>Condition</th>\n",
       "    </tr>\n",
       "  </thead>\n",
       "  <tbody>\n",
       "    <tr>\n",
       "      <th>2</th>\n",
       "      <td>63927398-3432-4526-9960-0da4359e3be2</td>\n",
       "      <td>117015009</td>\n",
       "      <td>834101,824184</td>\n",
       "      <td>444814009,43878008,275272006</td>\n",
       "    </tr>\n",
       "    <tr>\n",
       "      <th>5</th>\n",
       "      <td>77e05358-bfd9-4399-a474-1fab36f31975</td>\n",
       "      <td>66348005,31208007,274474001,252160004</td>\n",
       "      <td>757594,198405,310965,313782</td>\n",
       "      <td>410429000,72892002,44465007,398254007,33737001...</td>\n",
       "    </tr>\n",
       "    <tr>\n",
       "      <th>9</th>\n",
       "      <td>fe1bba02-f021-4e12-81da-2b8f42988574</td>\n",
       "      <td>699253003,269911007</td>\n",
       "      <td>861467,831533,749762,834060,1020137,849574</td>\n",
       "      <td>10509002,444470001</td>\n",
       "    </tr>\n",
       "    <tr>\n",
       "      <th>21</th>\n",
       "      <td>e223f58a-7029-4287-8e91-83b67336c3da</td>\n",
       "      <td>171231001,395142003</td>\n",
       "      <td>727316,745679,895994,665078</td>\n",
       "      <td>444814009,233678006</td>\n",
       "    </tr>\n",
       "    <tr>\n",
       "      <th>24</th>\n",
       "      <td>6979463f-b1ab-48c7-b560-b0b1782aa82e</td>\n",
       "      <td>698354004,418891003,173160006,399208008,737610...</td>\n",
       "      <td>583214,1736854</td>\n",
       "      <td>162573006,423121009,15777000,254637007</td>\n",
       "    </tr>\n",
       "  </tbody>\n",
       "</table>\n",
       "</div>"
      ],
      "text/plain": [
       "                                 patient  \\\n",
       "2   63927398-3432-4526-9960-0da4359e3be2   \n",
       "5   77e05358-bfd9-4399-a474-1fab36f31975   \n",
       "9   fe1bba02-f021-4e12-81da-2b8f42988574   \n",
       "21  e223f58a-7029-4287-8e91-83b67336c3da   \n",
       "24  6979463f-b1ab-48c7-b560-b0b1782aa82e   \n",
       "\n",
       "                                            Procedure  \\\n",
       "2                                           117015009   \n",
       "5               66348005,31208007,274474001,252160004   \n",
       "9                                 699253003,269911007   \n",
       "21                                171231001,395142003   \n",
       "24  698354004,418891003,173160006,399208008,737610...   \n",
       "\n",
       "                             Medication Orders  \\\n",
       "2                                834101,824184   \n",
       "5                  757594,198405,310965,313782   \n",
       "9   861467,831533,749762,834060,1020137,849574   \n",
       "21                 727316,745679,895994,665078   \n",
       "24                              583214,1736854   \n",
       "\n",
       "                                            Condition  \n",
       "2                        444814009,43878008,275272006  \n",
       "5   410429000,72892002,44465007,398254007,33737001...  \n",
       "9                                  10509002,444470001  \n",
       "21                                444814009,233678006  \n",
       "24             162573006,423121009,15777000,254637007  "
      ]
     },
     "execution_count": 36,
     "metadata": {},
     "output_type": "execute_result"
    }
   ],
   "source": [
    "condition_df.head()"
   ]
  },
  {
   "cell_type": "code",
   "execution_count": 37,
   "metadata": {},
   "outputs": [
    {
     "data": {
      "text/plain": [
       "(143, 4)"
      ]
     },
     "execution_count": 37,
     "metadata": {},
     "output_type": "execute_result"
    }
   ],
   "source": [
    "condition_df.shape"
   ]
  },
  {
   "cell_type": "code",
   "execution_count": 38,
   "metadata": {},
   "outputs": [
    {
     "data": {
      "text/plain": [
       "143"
      ]
     },
     "execution_count": 38,
     "metadata": {},
     "output_type": "execute_result"
    }
   ],
   "source": [
    "len(condition_df['patient'].unique())"
   ]
  },
  {
   "cell_type": "code",
   "execution_count": 39,
   "metadata": {},
   "outputs": [
    {
     "name": "stderr",
     "output_type": "stream",
     "text": [
      "/var/folders/9n/gzwg3s7j7pn060z120b3pb_h0000gn/T/ipykernel_1076/868148765.py:1: SettingWithCopyWarning: \n",
      "A value is trying to be set on a copy of a slice from a DataFrame.\n",
      "Try using .loc[row_indexer,col_indexer] = value instead\n",
      "\n",
      "See the caveats in the documentation: https://pandas.pydata.org/pandas-docs/stable/user_guide/indexing.html#returning-a-view-versus-a-copy\n",
      "  condition_df['Condition']=condition_df['Condition'].map(lambda x: list(set(x.split(',')) & set(candidates))[0])\n"
     ]
    }
   ],
   "source": [
    "condition_df['Condition']=condition_df['Condition'].map(lambda x: list(set(x.split(',')) & set(candidates))[0])"
   ]
  },
  {
   "cell_type": "code",
   "execution_count": 40,
   "metadata": {},
   "outputs": [
    {
     "data": {
      "text/html": [
       "<div>\n",
       "<style scoped>\n",
       "    .dataframe tbody tr th:only-of-type {\n",
       "        vertical-align: middle;\n",
       "    }\n",
       "\n",
       "    .dataframe tbody tr th {\n",
       "        vertical-align: top;\n",
       "    }\n",
       "\n",
       "    .dataframe thead th {\n",
       "        text-align: right;\n",
       "    }\n",
       "</style>\n",
       "<table border=\"1\" class=\"dataframe\">\n",
       "  <thead>\n",
       "    <tr style=\"text-align: right;\">\n",
       "      <th></th>\n",
       "      <th>patient</th>\n",
       "      <th>Procedure</th>\n",
       "      <th>Medication Orders</th>\n",
       "      <th>Condition</th>\n",
       "    </tr>\n",
       "  </thead>\n",
       "  <tbody>\n",
       "    <tr>\n",
       "      <th>2</th>\n",
       "      <td>63927398-3432-4526-9960-0da4359e3be2</td>\n",
       "      <td>117015009</td>\n",
       "      <td>834101,824184</td>\n",
       "      <td>444814009</td>\n",
       "    </tr>\n",
       "    <tr>\n",
       "      <th>5</th>\n",
       "      <td>77e05358-bfd9-4399-a474-1fab36f31975</td>\n",
       "      <td>66348005,31208007,274474001,252160004</td>\n",
       "      <td>757594,198405,310965,313782</td>\n",
       "      <td>38341003</td>\n",
       "    </tr>\n",
       "    <tr>\n",
       "      <th>9</th>\n",
       "      <td>fe1bba02-f021-4e12-81da-2b8f42988574</td>\n",
       "      <td>699253003,269911007</td>\n",
       "      <td>861467,831533,749762,834060,1020137,849574</td>\n",
       "      <td>10509002</td>\n",
       "    </tr>\n",
       "    <tr>\n",
       "      <th>21</th>\n",
       "      <td>e223f58a-7029-4287-8e91-83b67336c3da</td>\n",
       "      <td>171231001,395142003</td>\n",
       "      <td>727316,745679,895994,665078</td>\n",
       "      <td>444814009</td>\n",
       "    </tr>\n",
       "    <tr>\n",
       "      <th>24</th>\n",
       "      <td>6979463f-b1ab-48c7-b560-b0b1782aa82e</td>\n",
       "      <td>698354004,418891003,173160006,399208008,737610...</td>\n",
       "      <td>583214,1736854</td>\n",
       "      <td>15777000</td>\n",
       "    </tr>\n",
       "  </tbody>\n",
       "</table>\n",
       "</div>"
      ],
      "text/plain": [
       "                                 patient  \\\n",
       "2   63927398-3432-4526-9960-0da4359e3be2   \n",
       "5   77e05358-bfd9-4399-a474-1fab36f31975   \n",
       "9   fe1bba02-f021-4e12-81da-2b8f42988574   \n",
       "21  e223f58a-7029-4287-8e91-83b67336c3da   \n",
       "24  6979463f-b1ab-48c7-b560-b0b1782aa82e   \n",
       "\n",
       "                                            Procedure  \\\n",
       "2                                           117015009   \n",
       "5               66348005,31208007,274474001,252160004   \n",
       "9                                 699253003,269911007   \n",
       "21                                171231001,395142003   \n",
       "24  698354004,418891003,173160006,399208008,737610...   \n",
       "\n",
       "                             Medication Orders  Condition  \n",
       "2                                834101,824184  444814009  \n",
       "5                  757594,198405,310965,313782   38341003  \n",
       "9   861467,831533,749762,834060,1020137,849574   10509002  \n",
       "21                 727316,745679,895994,665078  444814009  \n",
       "24                              583214,1736854   15777000  "
      ]
     },
     "execution_count": 40,
     "metadata": {},
     "output_type": "execute_result"
    }
   ],
   "source": [
    "condition_df.head()"
   ]
  },
  {
   "cell_type": "code",
   "execution_count": 41,
   "metadata": {},
   "outputs": [
    {
     "data": {
      "text/html": [
       "<div>\n",
       "<style scoped>\n",
       "    .dataframe tbody tr th:only-of-type {\n",
       "        vertical-align: middle;\n",
       "    }\n",
       "\n",
       "    .dataframe tbody tr th {\n",
       "        vertical-align: top;\n",
       "    }\n",
       "\n",
       "    .dataframe thead th {\n",
       "        text-align: right;\n",
       "    }\n",
       "</style>\n",
       "<table border=\"1\" class=\"dataframe\">\n",
       "  <thead>\n",
       "    <tr style=\"text-align: right;\">\n",
       "      <th></th>\n",
       "      <th>patient</th>\n",
       "      <th>Procedure</th>\n",
       "      <th>Medication Orders</th>\n",
       "      <th>Condition</th>\n",
       "    </tr>\n",
       "  </thead>\n",
       "  <tbody>\n",
       "    <tr>\n",
       "      <th>2</th>\n",
       "      <td>63927398-3432-4526-9960-0da4359e3be2</td>\n",
       "      <td>117015009</td>\n",
       "      <td>834101,824184</td>\n",
       "      <td>444814009</td>\n",
       "    </tr>\n",
       "    <tr>\n",
       "      <th>21</th>\n",
       "      <td>e223f58a-7029-4287-8e91-83b67336c3da</td>\n",
       "      <td>171231001,395142003</td>\n",
       "      <td>727316,745679,895994,665078</td>\n",
       "      <td>444814009</td>\n",
       "    </tr>\n",
       "    <tr>\n",
       "      <th>44</th>\n",
       "      <td>df8f4853-e339-4af0-b423-26b7272bb48d</td>\n",
       "      <td>288086009,22523008</td>\n",
       "      <td>313782,834060</td>\n",
       "      <td>444814009</td>\n",
       "    </tr>\n",
       "    <tr>\n",
       "      <th>56</th>\n",
       "      <td>6a511630-d43a-4380-9e60-b928f6287d5d</td>\n",
       "      <td>274474001,117015009</td>\n",
       "      <td>834101,1367439,310965,834060</td>\n",
       "      <td>444814009</td>\n",
       "    </tr>\n",
       "    <tr>\n",
       "      <th>74</th>\n",
       "      <td>5238d34c-0005-4e3a-ae3b-12d260068af0</td>\n",
       "      <td>46706006,117015009</td>\n",
       "      <td>834101,1373463,860975,897122</td>\n",
       "      <td>444814009</td>\n",
       "    </tr>\n",
       "    <tr>\n",
       "      <th>...</th>\n",
       "      <td>...</td>\n",
       "      <td>...</td>\n",
       "      <td>...</td>\n",
       "      <td>...</td>\n",
       "    </tr>\n",
       "    <tr>\n",
       "      <th>915</th>\n",
       "      <td>2ee68828-5d6c-4941-bee9-51cc4fb6a1bc</td>\n",
       "      <td>252160004</td>\n",
       "      <td>757594,849574</td>\n",
       "      <td>444814009</td>\n",
       "    </tr>\n",
       "    <tr>\n",
       "      <th>917</th>\n",
       "      <td>471c24d2-f53b-4b45-a387-f51a44a542f8</td>\n",
       "      <td>288086009,274474001</td>\n",
       "      <td>313782,751905</td>\n",
       "      <td>444814009</td>\n",
       "    </tr>\n",
       "    <tr>\n",
       "      <th>933</th>\n",
       "      <td>2f21c601-71f6-4ab9-ab66-1e227dc0db5e</td>\n",
       "      <td>228557008</td>\n",
       "      <td>834060,849574</td>\n",
       "      <td>444814009</td>\n",
       "    </tr>\n",
       "    <tr>\n",
       "      <th>936</th>\n",
       "      <td>f150af1f-f166-4917-9678-685d6327efed</td>\n",
       "      <td>305428000,312681000</td>\n",
       "      <td>861467,310965,1049221,834060,849574</td>\n",
       "      <td>444814009</td>\n",
       "    </tr>\n",
       "    <tr>\n",
       "      <th>972</th>\n",
       "      <td>84f1cd4b-348e-4af3-bf2a-52cbbab68313</td>\n",
       "      <td>288086009,274474001</td>\n",
       "      <td>198405,282464</td>\n",
       "      <td>444814009</td>\n",
       "    </tr>\n",
       "  </tbody>\n",
       "</table>\n",
       "<p>61 rows × 4 columns</p>\n",
       "</div>"
      ],
      "text/plain": [
       "                                  patient            Procedure  \\\n",
       "2    63927398-3432-4526-9960-0da4359e3be2            117015009   \n",
       "21   e223f58a-7029-4287-8e91-83b67336c3da  171231001,395142003   \n",
       "44   df8f4853-e339-4af0-b423-26b7272bb48d   288086009,22523008   \n",
       "56   6a511630-d43a-4380-9e60-b928f6287d5d  274474001,117015009   \n",
       "74   5238d34c-0005-4e3a-ae3b-12d260068af0   46706006,117015009   \n",
       "..                                    ...                  ...   \n",
       "915  2ee68828-5d6c-4941-bee9-51cc4fb6a1bc            252160004   \n",
       "917  471c24d2-f53b-4b45-a387-f51a44a542f8  288086009,274474001   \n",
       "933  2f21c601-71f6-4ab9-ab66-1e227dc0db5e            228557008   \n",
       "936  f150af1f-f166-4917-9678-685d6327efed  305428000,312681000   \n",
       "972  84f1cd4b-348e-4af3-bf2a-52cbbab68313  288086009,274474001   \n",
       "\n",
       "                       Medication Orders  Condition  \n",
       "2                          834101,824184  444814009  \n",
       "21           727316,745679,895994,665078  444814009  \n",
       "44                         313782,834060  444814009  \n",
       "56          834101,1367439,310965,834060  444814009  \n",
       "74          834101,1373463,860975,897122  444814009  \n",
       "..                                   ...        ...  \n",
       "915                        757594,849574  444814009  \n",
       "917                        313782,751905  444814009  \n",
       "933                        834060,849574  444814009  \n",
       "936  861467,310965,1049221,834060,849574  444814009  \n",
       "972                        198405,282464  444814009  \n",
       "\n",
       "[61 rows x 4 columns]"
      ]
     },
     "execution_count": 41,
     "metadata": {},
     "output_type": "execute_result"
    }
   ],
   "source": [
    "condition_df[condition_df['Condition']=='444814009']"
   ]
  },
  {
   "cell_type": "code",
   "execution_count": 42,
   "metadata": {},
   "outputs": [
    {
     "name": "stderr",
     "output_type": "stream",
     "text": [
      "/var/folders/9n/gzwg3s7j7pn060z120b3pb_h0000gn/T/ipykernel_1076/663233480.py:1: SettingWithCopyWarning: \n",
      "A value is trying to be set on a copy of a slice from a DataFrame.\n",
      "Try using .loc[row_indexer,col_indexer] = value instead\n",
      "\n",
      "See the caveats in the documentation: https://pandas.pydata.org/pandas-docs/stable/user_guide/indexing.html#returning-a-view-versus-a-copy\n",
      "  condition_df['Document'] = condition_df['Procedure'].apply(lambda x : ' '.join(x.split(',')))+ ' ' + condition_df['Medication Orders'].apply(lambda x : ' '.join(x.split(',')))\n"
     ]
    }
   ],
   "source": [
    "condition_df['Document'] = condition_df['Procedure'].apply(lambda x : ' '.join(x.split(',')))+ ' ' + condition_df['Medication Orders'].apply(lambda x : ' '.join(x.split(',')))   "
   ]
  },
  {
   "cell_type": "code",
   "execution_count": 43,
   "metadata": {},
   "outputs": [
    {
     "data": {
      "text/html": [
       "<div>\n",
       "<style scoped>\n",
       "    .dataframe tbody tr th:only-of-type {\n",
       "        vertical-align: middle;\n",
       "    }\n",
       "\n",
       "    .dataframe tbody tr th {\n",
       "        vertical-align: top;\n",
       "    }\n",
       "\n",
       "    .dataframe thead th {\n",
       "        text-align: right;\n",
       "    }\n",
       "</style>\n",
       "<table border=\"1\" class=\"dataframe\">\n",
       "  <thead>\n",
       "    <tr style=\"text-align: right;\">\n",
       "      <th></th>\n",
       "      <th>patient</th>\n",
       "      <th>Procedure</th>\n",
       "      <th>Medication Orders</th>\n",
       "      <th>Condition</th>\n",
       "      <th>Document</th>\n",
       "    </tr>\n",
       "  </thead>\n",
       "  <tbody>\n",
       "    <tr>\n",
       "      <th>2</th>\n",
       "      <td>63927398-3432-4526-9960-0da4359e3be2</td>\n",
       "      <td>117015009</td>\n",
       "      <td>834101,824184</td>\n",
       "      <td>444814009</td>\n",
       "      <td>117015009 834101 824184</td>\n",
       "    </tr>\n",
       "    <tr>\n",
       "      <th>5</th>\n",
       "      <td>77e05358-bfd9-4399-a474-1fab36f31975</td>\n",
       "      <td>66348005,31208007,274474001,252160004</td>\n",
       "      <td>757594,198405,310965,313782</td>\n",
       "      <td>38341003</td>\n",
       "      <td>66348005 31208007 274474001 252160004 757594 1...</td>\n",
       "    </tr>\n",
       "    <tr>\n",
       "      <th>9</th>\n",
       "      <td>fe1bba02-f021-4e12-81da-2b8f42988574</td>\n",
       "      <td>699253003,269911007</td>\n",
       "      <td>861467,831533,749762,834060,1020137,849574</td>\n",
       "      <td>10509002</td>\n",
       "      <td>699253003 269911007 861467 831533 749762 83406...</td>\n",
       "    </tr>\n",
       "    <tr>\n",
       "      <th>21</th>\n",
       "      <td>e223f58a-7029-4287-8e91-83b67336c3da</td>\n",
       "      <td>171231001,395142003</td>\n",
       "      <td>727316,745679,895994,665078</td>\n",
       "      <td>444814009</td>\n",
       "      <td>171231001 395142003 727316 745679 895994 665078</td>\n",
       "    </tr>\n",
       "    <tr>\n",
       "      <th>24</th>\n",
       "      <td>6979463f-b1ab-48c7-b560-b0b1782aa82e</td>\n",
       "      <td>698354004,418891003,173160006,399208008,737610...</td>\n",
       "      <td>583214,1736854</td>\n",
       "      <td>15777000</td>\n",
       "      <td>698354004 418891003 173160006 399208008 737610...</td>\n",
       "    </tr>\n",
       "  </tbody>\n",
       "</table>\n",
       "</div>"
      ],
      "text/plain": [
       "                                 patient  \\\n",
       "2   63927398-3432-4526-9960-0da4359e3be2   \n",
       "5   77e05358-bfd9-4399-a474-1fab36f31975   \n",
       "9   fe1bba02-f021-4e12-81da-2b8f42988574   \n",
       "21  e223f58a-7029-4287-8e91-83b67336c3da   \n",
       "24  6979463f-b1ab-48c7-b560-b0b1782aa82e   \n",
       "\n",
       "                                            Procedure  \\\n",
       "2                                           117015009   \n",
       "5               66348005,31208007,274474001,252160004   \n",
       "9                                 699253003,269911007   \n",
       "21                                171231001,395142003   \n",
       "24  698354004,418891003,173160006,399208008,737610...   \n",
       "\n",
       "                             Medication Orders  Condition  \\\n",
       "2                                834101,824184  444814009   \n",
       "5                  757594,198405,310965,313782   38341003   \n",
       "9   861467,831533,749762,834060,1020137,849574   10509002   \n",
       "21                 727316,745679,895994,665078  444814009   \n",
       "24                              583214,1736854   15777000   \n",
       "\n",
       "                                             Document  \n",
       "2                             117015009 834101 824184  \n",
       "5   66348005 31208007 274474001 252160004 757594 1...  \n",
       "9   699253003 269911007 861467 831533 749762 83406...  \n",
       "21    171231001 395142003 727316 745679 895994 665078  \n",
       "24  698354004 418891003 173160006 399208008 737610...  "
      ]
     },
     "execution_count": 43,
     "metadata": {},
     "output_type": "execute_result"
    }
   ],
   "source": [
    "condition_df.head()"
   ]
  },
  {
   "cell_type": "code",
   "execution_count": 44,
   "metadata": {},
   "outputs": [],
   "source": [
    "with open('data/corpus/disease.clean.txt', 'w') as f:\n",
    "    for doc in condition_df['Document']:\n",
    "        f.write(doc+'\\n')\n",
    "    "
   ]
  },
  {
   "cell_type": "code",
   "execution_count": 45,
   "metadata": {},
   "outputs": [
    {
     "name": "stdout",
     "output_type": "stream",
     "text": [
      "143 128 15\n"
     ]
    }
   ],
   "source": [
    "size = len(condition_df)\n",
    "train_size = int(0.9*size)\n",
    "test_size = size - train_size\n",
    "print(size, train_size, test_size)"
   ]
  },
  {
   "cell_type": "code",
   "execution_count": 46,
   "metadata": {},
   "outputs": [
    {
     "data": {
      "text/plain": [
       "array(['444814009', '38341003', '10509002', '15777000', '195662009'],\n",
       "      dtype=object)"
      ]
     },
     "execution_count": 46,
     "metadata": {},
     "output_type": "execute_result"
    }
   ],
   "source": [
    "condition_df['Condition'].unique() "
   ]
  },
  {
   "cell_type": "code",
   "execution_count": 47,
   "metadata": {},
   "outputs": [],
   "source": [
    "resource_df = condition_df.reset_index(drop=True)"
   ]
  },
  {
   "cell_type": "code",
   "execution_count": 48,
   "metadata": {},
   "outputs": [
    {
     "data": {
      "text/html": [
       "<div>\n",
       "<style scoped>\n",
       "    .dataframe tbody tr th:only-of-type {\n",
       "        vertical-align: middle;\n",
       "    }\n",
       "\n",
       "    .dataframe tbody tr th {\n",
       "        vertical-align: top;\n",
       "    }\n",
       "\n",
       "    .dataframe thead th {\n",
       "        text-align: right;\n",
       "    }\n",
       "</style>\n",
       "<table border=\"1\" class=\"dataframe\">\n",
       "  <thead>\n",
       "    <tr style=\"text-align: right;\">\n",
       "      <th></th>\n",
       "      <th>patient</th>\n",
       "      <th>Procedure</th>\n",
       "      <th>Medication Orders</th>\n",
       "      <th>Condition</th>\n",
       "      <th>Document</th>\n",
       "    </tr>\n",
       "  </thead>\n",
       "  <tbody>\n",
       "    <tr>\n",
       "      <th>0</th>\n",
       "      <td>63927398-3432-4526-9960-0da4359e3be2</td>\n",
       "      <td>117015009</td>\n",
       "      <td>834101,824184</td>\n",
       "      <td>444814009</td>\n",
       "      <td>117015009 834101 824184</td>\n",
       "    </tr>\n",
       "    <tr>\n",
       "      <th>1</th>\n",
       "      <td>77e05358-bfd9-4399-a474-1fab36f31975</td>\n",
       "      <td>66348005,31208007,274474001,252160004</td>\n",
       "      <td>757594,198405,310965,313782</td>\n",
       "      <td>38341003</td>\n",
       "      <td>66348005 31208007 274474001 252160004 757594 1...</td>\n",
       "    </tr>\n",
       "    <tr>\n",
       "      <th>2</th>\n",
       "      <td>fe1bba02-f021-4e12-81da-2b8f42988574</td>\n",
       "      <td>699253003,269911007</td>\n",
       "      <td>861467,831533,749762,834060,1020137,849574</td>\n",
       "      <td>10509002</td>\n",
       "      <td>699253003 269911007 861467 831533 749762 83406...</td>\n",
       "    </tr>\n",
       "    <tr>\n",
       "      <th>3</th>\n",
       "      <td>e223f58a-7029-4287-8e91-83b67336c3da</td>\n",
       "      <td>171231001,395142003</td>\n",
       "      <td>727316,745679,895994,665078</td>\n",
       "      <td>444814009</td>\n",
       "      <td>171231001 395142003 727316 745679 895994 665078</td>\n",
       "    </tr>\n",
       "    <tr>\n",
       "      <th>4</th>\n",
       "      <td>6979463f-b1ab-48c7-b560-b0b1782aa82e</td>\n",
       "      <td>698354004,418891003,173160006,399208008,737610...</td>\n",
       "      <td>583214,1736854</td>\n",
       "      <td>15777000</td>\n",
       "      <td>698354004 418891003 173160006 399208008 737610...</td>\n",
       "    </tr>\n",
       "  </tbody>\n",
       "</table>\n",
       "</div>"
      ],
      "text/plain": [
       "                                patient  \\\n",
       "0  63927398-3432-4526-9960-0da4359e3be2   \n",
       "1  77e05358-bfd9-4399-a474-1fab36f31975   \n",
       "2  fe1bba02-f021-4e12-81da-2b8f42988574   \n",
       "3  e223f58a-7029-4287-8e91-83b67336c3da   \n",
       "4  6979463f-b1ab-48c7-b560-b0b1782aa82e   \n",
       "\n",
       "                                           Procedure  \\\n",
       "0                                          117015009   \n",
       "1              66348005,31208007,274474001,252160004   \n",
       "2                                699253003,269911007   \n",
       "3                                171231001,395142003   \n",
       "4  698354004,418891003,173160006,399208008,737610...   \n",
       "\n",
       "                            Medication Orders  Condition  \\\n",
       "0                               834101,824184  444814009   \n",
       "1                 757594,198405,310965,313782   38341003   \n",
       "2  861467,831533,749762,834060,1020137,849574   10509002   \n",
       "3                 727316,745679,895994,665078  444814009   \n",
       "4                              583214,1736854   15777000   \n",
       "\n",
       "                                            Document  \n",
       "0                            117015009 834101 824184  \n",
       "1  66348005 31208007 274474001 252160004 757594 1...  \n",
       "2  699253003 269911007 861467 831533 749762 83406...  \n",
       "3    171231001 395142003 727316 745679 895994 665078  \n",
       "4  698354004 418891003 173160006 399208008 737610...  "
      ]
     },
     "execution_count": 48,
     "metadata": {},
     "output_type": "execute_result"
    }
   ],
   "source": [
    "resource_df.head()"
   ]
  },
  {
   "cell_type": "code",
   "execution_count": 49,
   "metadata": {},
   "outputs": [],
   "source": [
    "f2 = open(\"data/disease.txt\", 'w')\n",
    "for _,doc in condition_df[:train_size].iterrows():\n",
    "    f2.write('data/disease/disease-train/'+doc['Condition']+'/'+doc['patient']+'\\tdisease-train'+'\\t'+doc['Condition']+'\\n')\n",
    "    with open('data/corpus/disease/disease-train/'+doc['Condition']+'/'+doc['patient'], 'w') as f:\n",
    "        f.write(doc['Document'])\n",
    "f2.close()"
   ]
  },
  {
   "cell_type": "code",
   "execution_count": 50,
   "metadata": {},
   "outputs": [],
   "source": [
    "f2 = open(\"data/disease.txt\", 'a')\n",
    "for _,doc in condition_df[-test_size:].iterrows():\n",
    "    f2.write('data/disease/disease-test/'+doc['Condition']+'/'+doc['patient']+'\\tdisease-test'+'\\t'+doc['Condition']+'\\n')\n",
    "    with open('data/corpus/disease/disease-test/'+doc['Condition']+'/'+doc['patient'], 'w') as f:\n",
    "        f.write(doc['Document'])\n",
    "f2.close()"
   ]
  },
  {
   "cell_type": "markdown",
   "metadata": {},
   "source": [
    "### Build graph"
   ]
  },
  {
   "cell_type": "code",
   "execution_count": 133,
   "metadata": {},
   "outputs": [],
   "source": [
    "dataset = 'disease'\n",
    "word_embeddings_dim = 130"
   ]
  },
  {
   "cell_type": "code",
   "execution_count": 134,
   "metadata": {},
   "outputs": [
    {
     "name": "stdout",
     "output_type": "stream",
     "text": [
      "143 128 15\n"
     ]
    }
   ],
   "source": [
    "#train_test_split\n",
    "size = len(resource_df)\n",
    "train_size = int(0.9*size)\n",
    "test_size = size - train_size\n",
    "print(size, train_size, test_size)"
   ]
  },
  {
   "cell_type": "code",
   "execution_count": 135,
   "metadata": {},
   "outputs": [],
   "source": [
    "#shuffling\n",
    "train_ids = np.arange(train_size)\n",
    "test_ids = np.arange(train_size, size)\n",
    "random.shuffle(train_ids)\n",
    "random.shuffle(test_ids)\n",
    "shuffled_id = np.hstack((train_ids,test_ids))\n",
    "shuffled_document = resource_df['Document'].values[shuffled_id]"
   ]
  },
  {
   "cell_type": "code",
   "execution_count": 136,
   "metadata": {},
   "outputs": [],
   "source": [
    "# build vocab\n",
    "word_freq = defaultdict(lambda : 0)\n",
    "word_set = set()\n",
    "for doc_words in shuffled_document:\n",
    "    words = doc_words.split()\n",
    "    for word in words:\n",
    "        word_set.add(word)\n",
    "        word_freq[word] += 1\n",
    "\n",
    "vocab = list(word_set)\n",
    "vocab_size = len(vocab)"
   ]
  },
  {
   "cell_type": "code",
   "execution_count": 137,
   "metadata": {},
   "outputs": [],
   "source": [
    "word_doc_list = defaultdict(lambda : [])\n",
    "for index, doc in enumerate(shuffled_document):\n",
    "    appeared = set()\n",
    "    doc_words = doc.split()\n",
    "    for word in doc_words:\n",
    "        if word in appeared:\n",
    "            continue\n",
    "        word_doc_list[word].append(index)\n",
    "        appeared.add(word)"
   ]
  },
  {
   "cell_type": "code",
   "execution_count": 138,
   "metadata": {},
   "outputs": [],
   "source": [
    "word_doc_freq = {}\n",
    "for word, doc_list in word_doc_list.items():\n",
    "    word_doc_freq[word] = len(doc_list)\n",
    "\n",
    "word_id_map = {}\n",
    "for index, word in enumerate(vocab):\n",
    "    word_id_map[word] = index"
   ]
  },
  {
   "cell_type": "code",
   "execution_count": 139,
   "metadata": {},
   "outputs": [],
   "source": [
    "tfidf_vec = TfidfVectorizer(max_features=1000)\n",
    "tfidf_matrix = tfidf_vec.fit_transform(vocab)\n",
    "tfidf_matrix_array = tfidf_matrix.toarray()"
   ]
  },
  {
   "cell_type": "markdown",
   "metadata": {},
   "source": [
    "### word definitions"
   ]
  },
  {
   "cell_type": "code",
   "execution_count": 140,
   "metadata": {},
   "outputs": [],
   "source": [
    "word_vector_map = {}\n",
    "for word, idex in word_id_map.items():\n",
    "    word_vector_map[word] = tfidf_matrix_array[index]"
   ]
  },
  {
   "cell_type": "code",
   "execution_count": 141,
   "metadata": {},
   "outputs": [],
   "source": [
    "word_embeddings_dim = 130"
   ]
  },
  {
   "cell_type": "code",
   "execution_count": 142,
   "metadata": {},
   "outputs": [],
   "source": [
    "row_x = []\n",
    "col_x = []\n",
    "data_x = []\n",
    "\n",
    "for i, doc in enumerate(shuffled_document[:train_size]):\n",
    "    doc_vec = np.array([0.0 for k in range(word_embeddings_dim)])\n",
    "    doc_words = doc.split()\n",
    "    doc_len = len(words)\n",
    "    for word in words:\n",
    "        if word in word_vector_map:\n",
    "            word_vector = word_vector_map[word]\n",
    "            doc_vec = doc_vec + np.array(word_vector) \n",
    "            \n",
    "    for j in range(word_embeddings_dim):\n",
    "        row_x.append(i)\n",
    "        col_x.append(j)\n",
    "        data_x.append(doc_vec[j] / doc_len)\n",
    "        \n",
    "x = sp.csr_matrix((data_x, (row_x, col_x)), shape=(\n",
    "    train_size, word_embeddings_dim))"
   ]
  },
  {
   "cell_type": "code",
   "execution_count": 143,
   "metadata": {},
   "outputs": [
    {
     "data": {
      "text/plain": [
       "(16640, 16640, 16640, 130)"
      ]
     },
     "execution_count": 143,
     "metadata": {},
     "output_type": "execute_result"
    }
   ],
   "source": [
    "len(col_x), len(row_x), len(data_x), word_embeddings_dim"
   ]
  },
  {
   "cell_type": "code",
   "execution_count": 144,
   "metadata": {},
   "outputs": [
    {
     "name": "stdout",
     "output_type": "stream",
     "text": [
      "['444814009', '38341003', '10509002', '15777000', '195662009']\n"
     ]
    }
   ],
   "source": [
    "labels = resource_df['Condition']\n",
    "labels_list = list(labels.unique())\n",
    "print(labels_list)\n",
    "y = []\n",
    "for label in labels.values[:train_size]:\n",
    "    one_hot = [0 for _ in range(len(labels_list))]\n",
    "    index = labels_list.index(label)\n",
    "    one_hot[index]= 1\n",
    "    y.append(one_hot)\n",
    "y = np.array(y)\n",
    "    "
   ]
  },
  {
   "cell_type": "code",
   "execution_count": 145,
   "metadata": {},
   "outputs": [],
   "source": [
    "row_tx = []\n",
    "col_tx = []\n",
    "data_tx = []\n",
    "\n",
    "for i, doc in enumerate(shuffled_document[train_size:]):\n",
    "    doc_vec = np.array([0.0 for k in range(word_embeddings_dim)])\n",
    "    doc_words = doc.split()\n",
    "    doc_len = len(words)\n",
    "    for word in words:\n",
    "        if word in word_vector_map:\n",
    "            word_vector = word_vector_map[word]\n",
    "            doc_vec = doc_vec + np.array(word_vector) \n",
    "            \n",
    "    for j in range(word_embeddings_dim):\n",
    "        row_tx.append(i)\n",
    "        col_tx.append(j)\n",
    "        data_tx.append(doc_vec[j] / doc_len)\n",
    "\n",
    "        \n",
    "tx = sp.csr_matrix((data_tx, (row_tx, col_tx)), shape=(\n",
    "    test_size, word_embeddings_dim))"
   ]
  },
  {
   "cell_type": "code",
   "execution_count": 146,
   "metadata": {},
   "outputs": [],
   "source": [
    "\n",
    "ty = []\n",
    "for label in labels.values[train_size:]:\n",
    "    one_hot = [0 for _ in range(len(labels_list))]\n",
    "    index = labels_list.index(label)\n",
    "    one_hot[index]= 1\n",
    "    ty.append(one_hot)\n",
    "ty = np.array(ty)"
   ]
  },
  {
   "cell_type": "code",
   "execution_count": 147,
   "metadata": {},
   "outputs": [],
   "source": [
    "word_vectors = np.random.uniform(-0.01, 0.01,\n",
    "                                 (vocab_size, word_embeddings_dim))\n",
    "\n",
    "for i in range(len(vocab)):\n",
    "    word = vocab[i]\n",
    "    if word in word_vector_map:\n",
    "        vector = word_vector_map[word]\n",
    "        word_vectors[i] = vector"
   ]
  },
  {
   "cell_type": "code",
   "execution_count": 148,
   "metadata": {},
   "outputs": [],
   "source": [
    "# allx: the the feature vectors of both labeled and unlabeled training instances\n",
    "# (a superset of x)\n",
    "# unlabeled training instances -> words\n",
    "\n",
    "row_allx = []\n",
    "col_allx = []\n",
    "data_allx = []\n",
    "\n",
    "for i, doc in enumerate(shuffled_document[train_size:]):\n",
    "    doc_vec = np.array([0.0 for k in range(word_embeddings_dim)])\n",
    "    doc_words = doc.split()\n",
    "    doc_len = len(words)\n",
    "    for word in words:\n",
    "        if word in word_vector_map:\n",
    "            word_vector = word_vector_map[word]\n",
    "            doc_vec = doc_vec + np.array(word_vector) \n",
    "            \n",
    "    for j in range(word_embeddings_dim):\n",
    "        row_allx.append(i)\n",
    "        col_allx.append(j)\n",
    "        data_allx.append(doc_vec[j] / doc_len)\n",
    "\n",
    "for i in range(vocab_size):\n",
    "    for j in range(word_embeddings_dim):\n",
    "        row_allx.append(int(i + train_size))\n",
    "        col_allx.append(j)\n",
    "        data_allx.append(word_vectors.item((i, j))) \n",
    "        \n",
    "row_allx = np.array(row_allx)\n",
    "col_allx = np.array(col_allx)\n",
    "data_allx = np.array(data_allx)\n",
    "        \n",
    "allx = sp.csr_matrix(\n",
    "    (data_allx, (row_allx, col_allx)), shape=(train_size + vocab_size, word_embeddings_dim))"
   ]
  },
  {
   "cell_type": "code",
   "execution_count": 149,
   "metadata": {},
   "outputs": [
    {
     "name": "stdout",
     "output_type": "stream",
     "text": [
      "(128, 130) (128, 5) (15, 130) (15, 5) (258, 130) (258, 5)\n"
     ]
    }
   ],
   "source": [
    "\n",
    "ally = []\n",
    "for label in labels.values[:train_size]:\n",
    "    one_hot = [0 for _ in range(len(labels_list))]\n",
    "    index = labels_list.index(label)\n",
    "    one_hot[index]= 1\n",
    "    ally.append(one_hot)\n",
    "\n",
    "for i in range(vocab_size):\n",
    "    one_hot = [0 for l in range(len(labels_list))]\n",
    "    ally.append(one_hot)\n",
    "\n",
    "ally = np.array(ally)\n",
    "\n",
    "print(x.shape, y.shape, tx.shape, ty.shape, allx.shape, ally.shape)"
   ]
  },
  {
   "cell_type": "markdown",
   "metadata": {},
   "source": [
    "## Doc word heterogeneous graph"
   ]
  },
  {
   "cell_type": "code",
   "execution_count": 150,
   "metadata": {},
   "outputs": [],
   "source": [
    "# word co-occurence with context windows\n",
    "window_size = 2\n",
    "windows = []\n",
    "\n",
    "for doc_words in shuffle_doc_words_list:\n",
    "    words = doc_words.split()\n",
    "    length = len(words)\n",
    "    if length <= window_size:\n",
    "        windows.append(words)\n",
    "    else:\n",
    "        # print(length, length - window_size + 1)\n",
    "        for j in range(length - window_size + 1):\n",
    "            window = words[j: j + window_size]\n",
    "            windows.append(window)"
   ]
  },
  {
   "cell_type": "code",
   "execution_count": 151,
   "metadata": {},
   "outputs": [],
   "source": [
    "word_window_freq = defaultdict(lambda :0)\n",
    "for window in windows:\n",
    "    appeared = set()\n",
    "    for word in window:\n",
    "        if word in appeared:\n",
    "            continue\n",
    "        word_window_freq[word]+=1\n",
    "        appeared.add(word)\n",
    "  "
   ]
  },
  {
   "cell_type": "code",
   "execution_count": 153,
   "metadata": {},
   "outputs": [],
   "source": [
    "word_pair_count = defaultdict(lambda :0)\n",
    "for window in windows:\n",
    "    for i in range(1, len(window)):\n",
    "        for j in range(0,i):\n",
    "            word_i = window[i]\n",
    "            word_j = window[j]\n",
    "            word_i_id  = word_id_map[word_i]\n",
    "            word_j_id =  word_id_map[word_j]\n",
    "            if word_i_id == word_j_id:\n",
    "                continue\n",
    "            word_pair_str = str(word_i_id) + ',' + str(word_j_id)\n",
    "            word_pair_count[word_pair_str]+=1\n",
    "            word_pair_str = str(word_j_id) + ',' + str(word_i_id)\n",
    "            word_pair_count[word_pair_str]+=1"
   ]
  },
  {
   "cell_type": "code",
   "execution_count": 157,
   "metadata": {},
   "outputs": [],
   "source": [
    "# pmi as weights\n",
    "row = []\n",
    "col = []\n",
    "weight = []\n",
    "num_window = len(windows)\n",
    "\n",
    "for key in word_pair_count:\n",
    "    temp = key.split(',')\n",
    "    i = int(temp[0])\n",
    "    j = int(temp[1])\n",
    "    count = word_pair_count[key]\n",
    "    word_freq_i = word_window_freq[vocab[i]]\n",
    "    word_freq_j = word_window_freq[vocab[j]]\n",
    "    pmi = log((1.0 * count / num_window) /\n",
    "              (1.0 * word_freq_i * word_freq_j/(num_window * num_window)))\n",
    "    if pmi <= 0:\n",
    "        continue\n",
    "    row.append(train_size + i)\n",
    "    col.append(train_size + j)\n",
    "    weight.append(pmi)"
   ]
  },
  {
   "cell_type": "code",
   "execution_count": 160,
   "metadata": {},
   "outputs": [],
   "source": [
    "# doc word frequency\n",
    "doc_word_freq = defaultdict(lambda : 0)\n",
    "\n",
    "for doc_id, doc in enumerate(shuffled_document):\n",
    "    words = doc_words.split()\n",
    "    for word in words:\n",
    "        word_id = word_id_map[word]\n",
    "        doc_word_str = str(doc_id) + ',' + str(word_id)\n",
    "        doc_word_freq[doc_word_str]+=1"
   ]
  },
  {
   "cell_type": "code",
   "execution_count": 161,
   "metadata": {},
   "outputs": [],
   "source": [
    "for i in range(len(shuffle_doc_words_list)):\n",
    "    doc_words = shuffle_doc_words_list[i]\n",
    "    words = doc_words.split()\n",
    "    doc_word_set = set()\n",
    "    for word in words:\n",
    "        if word in doc_word_set:\n",
    "            continue\n",
    "        j = word_id_map[word]\n",
    "        key = str(i) + ',' + str(j)\n",
    "        freq = doc_word_freq[key]\n",
    "        if i < train_size:\n",
    "            row.append(i)\n",
    "        else:\n",
    "            row.append(i + vocab_size)\n",
    "        col.append(train_size + j)\n",
    "        idf = log(1.0 * len(shuffle_doc_words_list) /\n",
    "                  word_doc_freq[vocab[j]])\n",
    "        weight.append(freq * idf)\n",
    "        doc_word_set.add(word)\n",
    "\n",
    "node_size = train_size + vocab_size + test_size\n",
    "adj = sp.csr_matrix(\n",
    "    (weight, (row, col)), shape=(node_size, node_size))\n",
    "\n"
   ]
  },
  {
   "cell_type": "markdown",
   "metadata": {},
   "source": [
    "### Train graph"
   ]
  },
  {
   "cell_type": "code",
   "execution_count": null,
   "metadata": {},
   "outputs": [],
   "source": []
  }
 ],
 "metadata": {
  "kernelspec": {
   "display_name": "Python 3 (ipykernel)",
   "language": "python",
   "name": "python3"
  },
  "language_info": {
   "codemirror_mode": {
    "name": "ipython",
    "version": 3
   },
   "file_extension": ".py",
   "mimetype": "text/x-python",
   "name": "python",
   "nbconvert_exporter": "python",
   "pygments_lexer": "ipython3",
   "version": "3.9.7"
  }
 },
 "nbformat": 4,
 "nbformat_minor": 2
}
